{
 "cells": [
  {
   "cell_type": "code",
   "execution_count": 1,
   "id": "8e9bd2db-cfdc-4b02-a7ee-b99304edcc8b",
   "metadata": {},
   "outputs": [],
   "source": [
    "import numpy as np\n",
    "import pandas as pd\n",
    "from scipy.stats import pearsonr\n",
    "from scipy.spatial.distance import squareform\n",
    "from glob import glob\n",
    "import pickle\n",
    "\n",
    "from rdkit import Chem\n",
    "from rdkit.Chem import Descriptors\n",
    "\n",
    "from sklearn.neighbors import KNeighborsClassifier\n",
    "from sklearn.svm import SVC\n",
    "from sklearn.ensemble import RandomForestClassifier\n",
    "from sklearn.neural_network import MLPClassifier\n",
    "from sklearn.linear_model import LogisticRegression\n",
    "\n",
    "from sklearn.model_selection import cross_validate, KFold\n",
    "\n",
    "from rogi import RoughnessIndex, MODI\n",
    "\n",
    "from tdc.generation import MolGen\n",
    "from tdc import Oracle\n",
    "from tdc.single_pred import ADME, Tox\n",
    "\n",
    "import warnings\n",
    "warnings.filterwarnings('ignore')\n",
    "\n",
    "import matplotlib.pyplot as plt\n",
    "import matplotlib.patheffects as pe\n",
    "from matplotlib.lines import Line2D\n",
    "import seaborn as sns\n",
    "sns.set(style='ticks')"
   ]
  },
  {
   "cell_type": "code",
   "execution_count": 2,
   "id": "c84f7803-4175-4828-b511-40885ad100a4",
   "metadata": {},
   "outputs": [],
   "source": [
    "def compute_rdkit_descriptors(smi):\n",
    "    m = Chem.MolFromSmiles(smi)\n",
    "    descriptor_names = [desc[0] for desc in Descriptors.descList]\n",
    "    descriptor_funcs = [desc[1] for desc in Descriptors.descList]\n",
    "    descriptors = [desc(m) for desc in descriptor_funcs]\n",
    "    return descriptors\n",
    "\n",
    "\n",
    "def smiles_to_descriptors_df(smiles, descriptors=None):\n",
    "    Xdict = {}\n",
    "    mols = [Chem.MolFromSmiles(smi) for smi in smiles]\n",
    "    for desc in Descriptors.descList:\n",
    "        name = desc[0]\n",
    "        f = desc[1]\n",
    "\n",
    "        if descriptors is not None and name in descriptors:\n",
    "            Xdict[name] = [f(m) for m in mols]\n",
    "    return pd.DataFrame(Xdict)\n",
    "    \n",
    "\n",
    "def plot_scatter(ax, x, y, title='', marker='X', s=100, \n",
    "                 fit=False, fit_outline=True, fit_lw=1, fit_zorder=0,\n",
    "                 color='b', edgecolor='k', linewidth=0.5, alpha_face=1, alpha_edge=1,\n",
    "                 annotate=True, text_color='k', x_text=0.55, y_text=0.9, dy_text=0.1, fontsize=10,\n",
    "                 zorder_scatter=5, label=''):\n",
    "\n",
    "    if fit:\n",
    "        coef = np.polyfit(x, y, 1)\n",
    "        poly1d_fn = np.poly1d( coef)\n",
    "        if fit_outline:\n",
    "            ax.plot([min(x), max(x)], [poly1d_fn(min(x)), poly1d_fn(max(x))], linestyle='-', color='white', zorder=fit_zorder-1, linewidth=fit_lw+1)\n",
    "        ax.plot([min(x), max(x)], [poly1d_fn(min(x)), poly1d_fn(max(x))], linestyle='--', color=color, zorder=fit_zorder, linewidth=fit_lw)\n",
    "\n",
    "    # face\n",
    "    ax.scatter(x, y, marker=marker, s=s, color=color, edgecolor='none', linewidth=0, alpha=alpha_face, zorder=zorder_scatter, label=label)\n",
    "    # edges\n",
    "    ax.scatter(x, y, marker=marker, s=s, facecolor=\"none\", edgecolor=edgecolor, linewidth=linewidth, alpha=alpha_edge, zorder=zorder_scatter)\n",
    "\n",
    "    ax.set_title(title)\n",
    "\n",
    "    if annotate:\n",
    "        pears = pearsonr(x, y)[0]\n",
    "        _ = ax.annotate(f'$r = {pears:.2f}$', xy=(x_text, y_text), xycoords='axes fraction', ha='right', color=text_color, fontsize=fontsize,\n",
    "                        zorder=10, path_effects=[pe.withStroke(linewidth=2, foreground=\"white\")])\n",
    "        \n",
    "\n",
    "def binarize_dataset(y, balance=0.5):\n",
    "    y = np.array(y)\n",
    "    thres = np.percentile(y, balance * 100)\n",
    "    y_bin = np.where(y > thres, 1., 0.)\n",
    "    return y_bin"
   ]
  },
  {
   "cell_type": "code",
   "execution_count": 3,
   "id": "16910ade-48a2-4c1e-9e39-d8e411616513",
   "metadata": {},
   "outputs": [],
   "source": [
    "# ----------------\n",
    "# Guacamol Oracles\n",
    "# ----------------\n",
    "# NOTE: we do not use \"Sitagliptin_MPO\" because it returns NaNs for some SMILES\n",
    "# we exclude also \"Valsartan_SMARTS\" becuase Y is always 0\n",
    "oracle_names = ['QED', 'LogP', 'Celecoxib_Rediscovery', 'Aripiprazole_Similarity', 'Median 1', \n",
    "                'Osimertinib_MPO', 'Fexofenadine_MPO', 'Ranolazine_MPO', 'Perindopril_MPO', \n",
    "                'Amlodipine_MPO', 'Zaleplon_MPO', 'Scaffold Hop']\n",
    "\n",
    "# ------------------------\n",
    "# TDC regression datasets\n",
    "# ------------------------\n",
    "adme_props = [('Caco2_Wang', None), \n",
    "              ('Lipophilicity_AstraZeneca', None), \n",
    "              ('Solubility_AqSolDB', None), \n",
    "              ('HydrationFreeEnergy_FreeSolv', None), \n",
    "              ('PPBR_AZ', None), \n",
    "              ('VDss_Lombardo', None),\n",
    "              ('Half_Life_Obach', None), \n",
    "              ('Clearance_Hepatocyte_AZ', None), \n",
    "              ('Clearance_Microsome_AZ', None)]\n",
    "\n",
    "tox_props = [('LD50_Zhu', None),\n",
    "             ('herg_central', 'hERG_at_1uM'), \n",
    "             ('herg_central', 'hERG_at_10uM')]\n",
    "\n",
    "# combine\n",
    "props = []\n",
    "props.extend(adme_props)\n",
    "props.extend(tox_props)\n",
    "\n",
    "# def func to get TDC dataset\n",
    "def get_tdc_dataset(name, label_name):\n",
    "        \n",
    "    if (name, label_name) in adme_props:\n",
    "        df = ADME(name=name, label_name=label_name).get_data()\n",
    "    elif (name, label_name) in tox_props:\n",
    "        df = Tox(name=name, label_name=label_name).get_data()\n",
    "    else:\n",
    "        raise ValueError(f'Cannot understand {name}, {label_name}')\n",
    "        \n",
    "    # subsample\n",
    "    if len(df) > 10000:\n",
    "        df = df.sample(n=10000, random_state=42)\n",
    "    \n",
    "    return df\n",
    "\n",
    "# -----------------\n",
    "# ML models to use\n",
    "# -----------------\n",
    "models = {'KNN': KNeighborsClassifier(), # neirest neighbor \n",
    "          'LR': LogisticRegression(random_state=42), # linear model\n",
    "          'RF': RandomForestClassifier(n_estimators=50, n_jobs=12, random_state=42), # tree-based\n",
    "          'SVC': SVC(random_state=42), # kernel method\n",
    "          'MLP': MLPClassifier(random_state=42) # neural network\n",
    "          }\n",
    "\n",
    "# --------------------------------------------\n",
    "# select a bunch of commonly-used descriptors\n",
    "# --------------------------------------------\n",
    "desc_names = ['MolWt', 'FractionCSP3', 'NumHAcceptors', 'NumHDonors', 'NOCount', 'NHOHCount',\n",
    "              'NumAliphaticRings', 'NumAliphaticHeterocycles', 'NumAromaticHeterocycles', 'NumAromaticRings', \n",
    "              'NumRotatableBonds', 'TPSA', 'qed', 'MolLogP']\n",
    "\n",
    "# -----------------------------\n",
    "# Dict use to store all results\n",
    "# -----------------------------\n",
    "RESULTS = {}\n",
    "RESULTS['ZINC'] = {}\n",
    "RESULTS['TDC'] = {}\n",
    "RESULTS['CHEMBL'] = {}"
   ]
  },
  {
   "cell_type": "markdown",
   "id": "cb3a745b",
   "metadata": {},
   "source": [
    "## ZINC + Guacamol"
   ]
  },
  {
   "cell_type": "code",
   "execution_count": 4,
   "id": "844ef5c3-a8b6-4e11-bf87-f0c9a3136b11",
   "metadata": {},
   "outputs": [
    {
     "name": "stderr",
     "output_type": "stream",
     "text": [
      "Found local copy...\n",
      "Loading...\n",
      "Done!\n"
     ]
    }
   ],
   "source": [
    "# sample 2000 molecules at random from ZINC\n",
    "data = MolGen(name='ZINC')\n",
    "data_sample = data.get_data().sample(n=2000, replace=False, random_state=42)\n",
    "smiles = data_sample.loc[:, 'smiles'].to_numpy()"
   ]
  },
  {
   "cell_type": "code",
   "execution_count": 5,
   "id": "69ddc295",
   "metadata": {},
   "outputs": [
    {
     "name": "stdout",
     "output_type": "stream",
     "text": [
      "QED\n",
      "  -->  KNN LR "
     ]
    },
    {
     "name": "stderr",
     "output_type": "stream",
     "text": [
      "/home/maldeghi/anaconda3/envs/rogi_py38/lib/python3.8/site-packages/sklearn/linear_model/_logistic.py:444: ConvergenceWarning: lbfgs failed to converge (status=1):\n",
      "STOP: TOTAL NO. of ITERATIONS REACHED LIMIT.\n",
      "\n",
      "Increase the number of iterations (max_iter) or scale the data as shown in:\n",
      "    https://scikit-learn.org/stable/modules/preprocessing.html\n",
      "Please also refer to the documentation for alternative solver options:\n",
      "    https://scikit-learn.org/stable/modules/linear_model.html#logistic-regression\n",
      "  n_iter_i = _check_optimize_result(\n",
      "/home/maldeghi/anaconda3/envs/rogi_py38/lib/python3.8/site-packages/sklearn/linear_model/_logistic.py:444: ConvergenceWarning: lbfgs failed to converge (status=1):\n",
      "STOP: TOTAL NO. of ITERATIONS REACHED LIMIT.\n",
      "\n",
      "Increase the number of iterations (max_iter) or scale the data as shown in:\n",
      "    https://scikit-learn.org/stable/modules/preprocessing.html\n",
      "Please also refer to the documentation for alternative solver options:\n",
      "    https://scikit-learn.org/stable/modules/linear_model.html#logistic-regression\n",
      "  n_iter_i = _check_optimize_result(\n",
      "/home/maldeghi/anaconda3/envs/rogi_py38/lib/python3.8/site-packages/sklearn/linear_model/_logistic.py:444: ConvergenceWarning: lbfgs failed to converge (status=1):\n",
      "STOP: TOTAL NO. of ITERATIONS REACHED LIMIT.\n",
      "\n",
      "Increase the number of iterations (max_iter) or scale the data as shown in:\n",
      "    https://scikit-learn.org/stable/modules/preprocessing.html\n",
      "Please also refer to the documentation for alternative solver options:\n",
      "    https://scikit-learn.org/stable/modules/linear_model.html#logistic-regression\n",
      "  n_iter_i = _check_optimize_result(\n"
     ]
    },
    {
     "name": "stdout",
     "output_type": "stream",
     "text": [
      "RF SVC MLP "
     ]
    },
    {
     "name": "stderr",
     "output_type": "stream",
     "text": [
      "Found local copy...\n"
     ]
    },
    {
     "name": "stdout",
     "output_type": "stream",
     "text": [
      "\n",
      "LogP\n",
      "  -->  KNN LR "
     ]
    },
    {
     "name": "stderr",
     "output_type": "stream",
     "text": [
      "/home/maldeghi/anaconda3/envs/rogi_py38/lib/python3.8/site-packages/sklearn/linear_model/_logistic.py:444: ConvergenceWarning: lbfgs failed to converge (status=1):\n",
      "STOP: TOTAL NO. of ITERATIONS REACHED LIMIT.\n",
      "\n",
      "Increase the number of iterations (max_iter) or scale the data as shown in:\n",
      "    https://scikit-learn.org/stable/modules/preprocessing.html\n",
      "Please also refer to the documentation for alternative solver options:\n",
      "    https://scikit-learn.org/stable/modules/linear_model.html#logistic-regression\n",
      "  n_iter_i = _check_optimize_result(\n"
     ]
    },
    {
     "name": "stdout",
     "output_type": "stream",
     "text": [
      "RF SVC MLP \n",
      "Celecoxib_Rediscovery\n",
      "  -->  KNN LR RF SVC MLP \n",
      "Aripiprazole_Similarity\n",
      "  -->  KNN LR RF SVC MLP \n",
      "Median 1\n",
      "  -->  KNN LR RF SVC MLP \n",
      "Osimertinib_MPO\n",
      "  -->  KNN LR "
     ]
    },
    {
     "name": "stderr",
     "output_type": "stream",
     "text": [
      "/home/maldeghi/anaconda3/envs/rogi_py38/lib/python3.8/site-packages/sklearn/linear_model/_logistic.py:444: ConvergenceWarning: lbfgs failed to converge (status=1):\n",
      "STOP: TOTAL NO. of ITERATIONS REACHED LIMIT.\n",
      "\n",
      "Increase the number of iterations (max_iter) or scale the data as shown in:\n",
      "    https://scikit-learn.org/stable/modules/preprocessing.html\n",
      "Please also refer to the documentation for alternative solver options:\n",
      "    https://scikit-learn.org/stable/modules/linear_model.html#logistic-regression\n",
      "  n_iter_i = _check_optimize_result(\n"
     ]
    },
    {
     "name": "stdout",
     "output_type": "stream",
     "text": [
      "RF SVC MLP \n",
      "Fexofenadine_MPO\n",
      "  -->  KNN LR RF SVC MLP \n",
      "Ranolazine_MPO\n",
      "  -->  KNN LR RF SVC MLP \n",
      "Perindopril_MPO\n",
      "  -->  KNN LR "
     ]
    },
    {
     "name": "stderr",
     "output_type": "stream",
     "text": [
      "/home/maldeghi/anaconda3/envs/rogi_py38/lib/python3.8/site-packages/sklearn/linear_model/_logistic.py:444: ConvergenceWarning: lbfgs failed to converge (status=1):\n",
      "STOP: TOTAL NO. of ITERATIONS REACHED LIMIT.\n",
      "\n",
      "Increase the number of iterations (max_iter) or scale the data as shown in:\n",
      "    https://scikit-learn.org/stable/modules/preprocessing.html\n",
      "Please also refer to the documentation for alternative solver options:\n",
      "    https://scikit-learn.org/stable/modules/linear_model.html#logistic-regression\n",
      "  n_iter_i = _check_optimize_result(\n",
      "/home/maldeghi/anaconda3/envs/rogi_py38/lib/python3.8/site-packages/sklearn/linear_model/_logistic.py:444: ConvergenceWarning: lbfgs failed to converge (status=1):\n",
      "STOP: TOTAL NO. of ITERATIONS REACHED LIMIT.\n",
      "\n",
      "Increase the number of iterations (max_iter) or scale the data as shown in:\n",
      "    https://scikit-learn.org/stable/modules/preprocessing.html\n",
      "Please also refer to the documentation for alternative solver options:\n",
      "    https://scikit-learn.org/stable/modules/linear_model.html#logistic-regression\n",
      "  n_iter_i = _check_optimize_result(\n",
      "/home/maldeghi/anaconda3/envs/rogi_py38/lib/python3.8/site-packages/sklearn/linear_model/_logistic.py:444: ConvergenceWarning: lbfgs failed to converge (status=1):\n",
      "STOP: TOTAL NO. of ITERATIONS REACHED LIMIT.\n",
      "\n",
      "Increase the number of iterations (max_iter) or scale the data as shown in:\n",
      "    https://scikit-learn.org/stable/modules/preprocessing.html\n",
      "Please also refer to the documentation for alternative solver options:\n",
      "    https://scikit-learn.org/stable/modules/linear_model.html#logistic-regression\n",
      "  n_iter_i = _check_optimize_result(\n"
     ]
    },
    {
     "name": "stdout",
     "output_type": "stream",
     "text": [
      "RF SVC MLP \n",
      "Amlodipine_MPO\n",
      "  -->  KNN LR "
     ]
    },
    {
     "name": "stderr",
     "output_type": "stream",
     "text": [
      "/home/maldeghi/anaconda3/envs/rogi_py38/lib/python3.8/site-packages/sklearn/linear_model/_logistic.py:444: ConvergenceWarning: lbfgs failed to converge (status=1):\n",
      "STOP: TOTAL NO. of ITERATIONS REACHED LIMIT.\n",
      "\n",
      "Increase the number of iterations (max_iter) or scale the data as shown in:\n",
      "    https://scikit-learn.org/stable/modules/preprocessing.html\n",
      "Please also refer to the documentation for alternative solver options:\n",
      "    https://scikit-learn.org/stable/modules/linear_model.html#logistic-regression\n",
      "  n_iter_i = _check_optimize_result(\n",
      "/home/maldeghi/anaconda3/envs/rogi_py38/lib/python3.8/site-packages/sklearn/linear_model/_logistic.py:444: ConvergenceWarning: lbfgs failed to converge (status=1):\n",
      "STOP: TOTAL NO. of ITERATIONS REACHED LIMIT.\n",
      "\n",
      "Increase the number of iterations (max_iter) or scale the data as shown in:\n",
      "    https://scikit-learn.org/stable/modules/preprocessing.html\n",
      "Please also refer to the documentation for alternative solver options:\n",
      "    https://scikit-learn.org/stable/modules/linear_model.html#logistic-regression\n",
      "  n_iter_i = _check_optimize_result(\n",
      "/home/maldeghi/anaconda3/envs/rogi_py38/lib/python3.8/site-packages/sklearn/linear_model/_logistic.py:444: ConvergenceWarning: lbfgs failed to converge (status=1):\n",
      "STOP: TOTAL NO. of ITERATIONS REACHED LIMIT.\n",
      "\n",
      "Increase the number of iterations (max_iter) or scale the data as shown in:\n",
      "    https://scikit-learn.org/stable/modules/preprocessing.html\n",
      "Please also refer to the documentation for alternative solver options:\n",
      "    https://scikit-learn.org/stable/modules/linear_model.html#logistic-regression\n",
      "  n_iter_i = _check_optimize_result(\n"
     ]
    },
    {
     "name": "stdout",
     "output_type": "stream",
     "text": [
      "RF SVC MLP \n",
      "Zaleplon_MPO\n",
      "  -->  KNN LR "
     ]
    },
    {
     "name": "stderr",
     "output_type": "stream",
     "text": [
      "/home/maldeghi/anaconda3/envs/rogi_py38/lib/python3.8/site-packages/sklearn/linear_model/_logistic.py:444: ConvergenceWarning: lbfgs failed to converge (status=1):\n",
      "STOP: TOTAL NO. of ITERATIONS REACHED LIMIT.\n",
      "\n",
      "Increase the number of iterations (max_iter) or scale the data as shown in:\n",
      "    https://scikit-learn.org/stable/modules/preprocessing.html\n",
      "Please also refer to the documentation for alternative solver options:\n",
      "    https://scikit-learn.org/stable/modules/linear_model.html#logistic-regression\n",
      "  n_iter_i = _check_optimize_result(\n",
      "/home/maldeghi/anaconda3/envs/rogi_py38/lib/python3.8/site-packages/sklearn/linear_model/_logistic.py:444: ConvergenceWarning: lbfgs failed to converge (status=1):\n",
      "STOP: TOTAL NO. of ITERATIONS REACHED LIMIT.\n",
      "\n",
      "Increase the number of iterations (max_iter) or scale the data as shown in:\n",
      "    https://scikit-learn.org/stable/modules/preprocessing.html\n",
      "Please also refer to the documentation for alternative solver options:\n",
      "    https://scikit-learn.org/stable/modules/linear_model.html#logistic-regression\n",
      "  n_iter_i = _check_optimize_result(\n",
      "/home/maldeghi/anaconda3/envs/rogi_py38/lib/python3.8/site-packages/sklearn/linear_model/_logistic.py:444: ConvergenceWarning: lbfgs failed to converge (status=1):\n",
      "STOP: TOTAL NO. of ITERATIONS REACHED LIMIT.\n",
      "\n",
      "Increase the number of iterations (max_iter) or scale the data as shown in:\n",
      "    https://scikit-learn.org/stable/modules/preprocessing.html\n",
      "Please also refer to the documentation for alternative solver options:\n",
      "    https://scikit-learn.org/stable/modules/linear_model.html#logistic-regression\n",
      "  n_iter_i = _check_optimize_result(\n"
     ]
    },
    {
     "name": "stdout",
     "output_type": "stream",
     "text": [
      "RF SVC MLP \n",
      "Scaffold Hop\n",
      "  -->  KNN LR "
     ]
    },
    {
     "name": "stderr",
     "output_type": "stream",
     "text": [
      "/home/maldeghi/anaconda3/envs/rogi_py38/lib/python3.8/site-packages/sklearn/linear_model/_logistic.py:444: ConvergenceWarning: lbfgs failed to converge (status=1):\n",
      "STOP: TOTAL NO. of ITERATIONS REACHED LIMIT.\n",
      "\n",
      "Increase the number of iterations (max_iter) or scale the data as shown in:\n",
      "    https://scikit-learn.org/stable/modules/preprocessing.html\n",
      "Please also refer to the documentation for alternative solver options:\n",
      "    https://scikit-learn.org/stable/modules/linear_model.html#logistic-regression\n",
      "  n_iter_i = _check_optimize_result(\n"
     ]
    },
    {
     "name": "stdout",
     "output_type": "stream",
     "text": [
      "RF SVC MLP \n"
     ]
    }
   ],
   "source": [
    "# =============\n",
    "# FINGERPRINTS\n",
    "# =============\n",
    "\n",
    "RESULTS['ZINC']['FPS'] = {}\n",
    "\n",
    "for name in oracle_names:\n",
    "    print(f'{name}')\n",
    "    RESULTS['ZINC']['FPS'][name] = {}\n",
    "    \n",
    "    oracle = Oracle(name=name)\n",
    "    Y = oracle(list(smiles))\n",
    "    \n",
    "    # binarize dataset\n",
    "    Y = binarize_dataset(Y, balance=0.5)\n",
    "    \n",
    "    RESULTS['ZINC']['FPS'][name]['size'] = len(Y)\n",
    "    \n",
    "    # instantiate rogi object\n",
    "    ri = RoughnessIndex(smiles=smiles, Y=Y, verbose=False)\n",
    "        \n",
    "    # compute RI score\n",
    "    RESULTS['ZINC']['FPS'][name]['rogi'] = ri.compute_index(min_dt=0.01)\n",
    "    \n",
    "    # compute MODI score\n",
    "    RESULTS['ZINC']['FPS'][name]['modi'] = MODI(Dx=squareform(ri._Dx), Y=Y)\n",
    "\n",
    "    # test multiple ML models\n",
    "    print('  --> ', end=' ')\n",
    "    for model_name in models.keys():\n",
    "        print(f'{model_name}', end=' ')\n",
    "        model = models[model_name]\n",
    "        cv = KFold(n_splits=5, shuffle=True, random_state=42)\n",
    "        cv_results = cross_validate(model, ri._fps, ri._Y, cv=cv, scoring=('accuracy', 'balanced_accuracy', 'roc_auc', 'f1', 'neg_mean_squared_error'), n_jobs=5)\n",
    "        RESULTS['ZINC']['FPS'][name][model_name] = cv_results\n",
    "    print()"
   ]
  },
  {
   "cell_type": "code",
   "execution_count": 6,
   "id": "3ebb93f7-ee23-43cd-962e-5f9e91f972b1",
   "metadata": {},
   "outputs": [
    {
     "name": "stdout",
     "output_type": "stream",
     "text": [
      "QED\n",
      "  -->  KNN LR RF SVC MLP "
     ]
    },
    {
     "name": "stderr",
     "output_type": "stream",
     "text": [
      "/home/maldeghi/anaconda3/envs/rogi_py38/lib/python3.8/site-packages/sklearn/neural_network/_multilayer_perceptron.py:702: ConvergenceWarning: Stochastic Optimizer: Maximum iterations (200) reached and the optimization hasn't converged yet.\n",
      "  warnings.warn(\n",
      "/home/maldeghi/anaconda3/envs/rogi_py38/lib/python3.8/site-packages/sklearn/neural_network/_multilayer_perceptron.py:702: ConvergenceWarning: Stochastic Optimizer: Maximum iterations (200) reached and the optimization hasn't converged yet.\n",
      "  warnings.warn(\n",
      "/home/maldeghi/anaconda3/envs/rogi_py38/lib/python3.8/site-packages/sklearn/neural_network/_multilayer_perceptron.py:702: ConvergenceWarning: Stochastic Optimizer: Maximum iterations (200) reached and the optimization hasn't converged yet.\n",
      "  warnings.warn(\n",
      "/home/maldeghi/anaconda3/envs/rogi_py38/lib/python3.8/site-packages/sklearn/neural_network/_multilayer_perceptron.py:702: ConvergenceWarning: Stochastic Optimizer: Maximum iterations (200) reached and the optimization hasn't converged yet.\n",
      "  warnings.warn(\n",
      "/home/maldeghi/anaconda3/envs/rogi_py38/lib/python3.8/site-packages/sklearn/neural_network/_multilayer_perceptron.py:702: ConvergenceWarning: Stochastic Optimizer: Maximum iterations (200) reached and the optimization hasn't converged yet.\n",
      "  warnings.warn(\n"
     ]
    },
    {
     "name": "stdout",
     "output_type": "stream",
     "text": [
      "\n",
      "LogP\n",
      "  -->  KNN LR RF SVC MLP "
     ]
    },
    {
     "name": "stderr",
     "output_type": "stream",
     "text": [
      "/home/maldeghi/anaconda3/envs/rogi_py38/lib/python3.8/site-packages/sklearn/neural_network/_multilayer_perceptron.py:702: ConvergenceWarning: Stochastic Optimizer: Maximum iterations (200) reached and the optimization hasn't converged yet.\n",
      "  warnings.warn(\n",
      "/home/maldeghi/anaconda3/envs/rogi_py38/lib/python3.8/site-packages/sklearn/neural_network/_multilayer_perceptron.py:702: ConvergenceWarning: Stochastic Optimizer: Maximum iterations (200) reached and the optimization hasn't converged yet.\n",
      "  warnings.warn(\n",
      "/home/maldeghi/anaconda3/envs/rogi_py38/lib/python3.8/site-packages/sklearn/neural_network/_multilayer_perceptron.py:702: ConvergenceWarning: Stochastic Optimizer: Maximum iterations (200) reached and the optimization hasn't converged yet.\n",
      "  warnings.warn(\n",
      "/home/maldeghi/anaconda3/envs/rogi_py38/lib/python3.8/site-packages/sklearn/neural_network/_multilayer_perceptron.py:702: ConvergenceWarning: Stochastic Optimizer: Maximum iterations (200) reached and the optimization hasn't converged yet.\n",
      "  warnings.warn(\n",
      "/home/maldeghi/anaconda3/envs/rogi_py38/lib/python3.8/site-packages/sklearn/neural_network/_multilayer_perceptron.py:702: ConvergenceWarning: Stochastic Optimizer: Maximum iterations (200) reached and the optimization hasn't converged yet.\n",
      "  warnings.warn(\n"
     ]
    },
    {
     "name": "stdout",
     "output_type": "stream",
     "text": [
      "\n",
      "Celecoxib_Rediscovery\n",
      "  -->  KNN LR RF SVC MLP "
     ]
    },
    {
     "name": "stderr",
     "output_type": "stream",
     "text": [
      "/home/maldeghi/anaconda3/envs/rogi_py38/lib/python3.8/site-packages/sklearn/neural_network/_multilayer_perceptron.py:702: ConvergenceWarning: Stochastic Optimizer: Maximum iterations (200) reached and the optimization hasn't converged yet.\n",
      "  warnings.warn(\n",
      "/home/maldeghi/anaconda3/envs/rogi_py38/lib/python3.8/site-packages/sklearn/neural_network/_multilayer_perceptron.py:702: ConvergenceWarning: Stochastic Optimizer: Maximum iterations (200) reached and the optimization hasn't converged yet.\n",
      "  warnings.warn(\n",
      "/home/maldeghi/anaconda3/envs/rogi_py38/lib/python3.8/site-packages/sklearn/neural_network/_multilayer_perceptron.py:702: ConvergenceWarning: Stochastic Optimizer: Maximum iterations (200) reached and the optimization hasn't converged yet.\n",
      "  warnings.warn(\n",
      "/home/maldeghi/anaconda3/envs/rogi_py38/lib/python3.8/site-packages/sklearn/neural_network/_multilayer_perceptron.py:702: ConvergenceWarning: Stochastic Optimizer: Maximum iterations (200) reached and the optimization hasn't converged yet.\n",
      "  warnings.warn(\n"
     ]
    },
    {
     "name": "stdout",
     "output_type": "stream",
     "text": [
      "\n",
      "Aripiprazole_Similarity\n",
      "  -->  KNN LR RF SVC MLP "
     ]
    },
    {
     "name": "stderr",
     "output_type": "stream",
     "text": [
      "/home/maldeghi/anaconda3/envs/rogi_py38/lib/python3.8/site-packages/sklearn/neural_network/_multilayer_perceptron.py:702: ConvergenceWarning: Stochastic Optimizer: Maximum iterations (200) reached and the optimization hasn't converged yet.\n",
      "  warnings.warn(\n",
      "/home/maldeghi/anaconda3/envs/rogi_py38/lib/python3.8/site-packages/sklearn/neural_network/_multilayer_perceptron.py:702: ConvergenceWarning: Stochastic Optimizer: Maximum iterations (200) reached and the optimization hasn't converged yet.\n",
      "  warnings.warn(\n",
      "/home/maldeghi/anaconda3/envs/rogi_py38/lib/python3.8/site-packages/sklearn/neural_network/_multilayer_perceptron.py:702: ConvergenceWarning: Stochastic Optimizer: Maximum iterations (200) reached and the optimization hasn't converged yet.\n",
      "  warnings.warn(\n",
      "/home/maldeghi/anaconda3/envs/rogi_py38/lib/python3.8/site-packages/sklearn/neural_network/_multilayer_perceptron.py:702: ConvergenceWarning: Stochastic Optimizer: Maximum iterations (200) reached and the optimization hasn't converged yet.\n",
      "  warnings.warn(\n",
      "/home/maldeghi/anaconda3/envs/rogi_py38/lib/python3.8/site-packages/sklearn/neural_network/_multilayer_perceptron.py:702: ConvergenceWarning: Stochastic Optimizer: Maximum iterations (200) reached and the optimization hasn't converged yet.\n",
      "  warnings.warn(\n"
     ]
    },
    {
     "name": "stdout",
     "output_type": "stream",
     "text": [
      "\n",
      "Median 1\n",
      "  -->  KNN LR RF SVC MLP "
     ]
    },
    {
     "name": "stderr",
     "output_type": "stream",
     "text": [
      "/home/maldeghi/anaconda3/envs/rogi_py38/lib/python3.8/site-packages/sklearn/neural_network/_multilayer_perceptron.py:702: ConvergenceWarning: Stochastic Optimizer: Maximum iterations (200) reached and the optimization hasn't converged yet.\n",
      "  warnings.warn(\n",
      "/home/maldeghi/anaconda3/envs/rogi_py38/lib/python3.8/site-packages/sklearn/neural_network/_multilayer_perceptron.py:702: ConvergenceWarning: Stochastic Optimizer: Maximum iterations (200) reached and the optimization hasn't converged yet.\n",
      "  warnings.warn(\n",
      "/home/maldeghi/anaconda3/envs/rogi_py38/lib/python3.8/site-packages/sklearn/neural_network/_multilayer_perceptron.py:702: ConvergenceWarning: Stochastic Optimizer: Maximum iterations (200) reached and the optimization hasn't converged yet.\n",
      "  warnings.warn(\n",
      "/home/maldeghi/anaconda3/envs/rogi_py38/lib/python3.8/site-packages/sklearn/neural_network/_multilayer_perceptron.py:702: ConvergenceWarning: Stochastic Optimizer: Maximum iterations (200) reached and the optimization hasn't converged yet.\n",
      "  warnings.warn(\n",
      "/home/maldeghi/anaconda3/envs/rogi_py38/lib/python3.8/site-packages/sklearn/neural_network/_multilayer_perceptron.py:702: ConvergenceWarning: Stochastic Optimizer: Maximum iterations (200) reached and the optimization hasn't converged yet.\n",
      "  warnings.warn(\n"
     ]
    },
    {
     "name": "stdout",
     "output_type": "stream",
     "text": [
      "\n",
      "Osimertinib_MPO\n",
      "  -->  KNN LR RF SVC MLP "
     ]
    },
    {
     "name": "stderr",
     "output_type": "stream",
     "text": [
      "/home/maldeghi/anaconda3/envs/rogi_py38/lib/python3.8/site-packages/sklearn/neural_network/_multilayer_perceptron.py:702: ConvergenceWarning: Stochastic Optimizer: Maximum iterations (200) reached and the optimization hasn't converged yet.\n",
      "  warnings.warn(\n",
      "/home/maldeghi/anaconda3/envs/rogi_py38/lib/python3.8/site-packages/sklearn/neural_network/_multilayer_perceptron.py:702: ConvergenceWarning: Stochastic Optimizer: Maximum iterations (200) reached and the optimization hasn't converged yet.\n",
      "  warnings.warn(\n",
      "/home/maldeghi/anaconda3/envs/rogi_py38/lib/python3.8/site-packages/sklearn/neural_network/_multilayer_perceptron.py:702: ConvergenceWarning: Stochastic Optimizer: Maximum iterations (200) reached and the optimization hasn't converged yet.\n",
      "  warnings.warn(\n",
      "/home/maldeghi/anaconda3/envs/rogi_py38/lib/python3.8/site-packages/sklearn/neural_network/_multilayer_perceptron.py:702: ConvergenceWarning: Stochastic Optimizer: Maximum iterations (200) reached and the optimization hasn't converged yet.\n",
      "  warnings.warn(\n",
      "/home/maldeghi/anaconda3/envs/rogi_py38/lib/python3.8/site-packages/sklearn/neural_network/_multilayer_perceptron.py:702: ConvergenceWarning: Stochastic Optimizer: Maximum iterations (200) reached and the optimization hasn't converged yet.\n",
      "  warnings.warn(\n"
     ]
    },
    {
     "name": "stdout",
     "output_type": "stream",
     "text": [
      "\n",
      "Fexofenadine_MPO\n",
      "  -->  KNN LR RF SVC MLP "
     ]
    },
    {
     "name": "stderr",
     "output_type": "stream",
     "text": [
      "/home/maldeghi/anaconda3/envs/rogi_py38/lib/python3.8/site-packages/sklearn/neural_network/_multilayer_perceptron.py:702: ConvergenceWarning: Stochastic Optimizer: Maximum iterations (200) reached and the optimization hasn't converged yet.\n",
      "  warnings.warn(\n",
      "/home/maldeghi/anaconda3/envs/rogi_py38/lib/python3.8/site-packages/sklearn/neural_network/_multilayer_perceptron.py:702: ConvergenceWarning: Stochastic Optimizer: Maximum iterations (200) reached and the optimization hasn't converged yet.\n",
      "  warnings.warn(\n",
      "/home/maldeghi/anaconda3/envs/rogi_py38/lib/python3.8/site-packages/sklearn/neural_network/_multilayer_perceptron.py:702: ConvergenceWarning: Stochastic Optimizer: Maximum iterations (200) reached and the optimization hasn't converged yet.\n",
      "  warnings.warn(\n",
      "/home/maldeghi/anaconda3/envs/rogi_py38/lib/python3.8/site-packages/sklearn/neural_network/_multilayer_perceptron.py:702: ConvergenceWarning: Stochastic Optimizer: Maximum iterations (200) reached and the optimization hasn't converged yet.\n",
      "  warnings.warn(\n",
      "/home/maldeghi/anaconda3/envs/rogi_py38/lib/python3.8/site-packages/sklearn/neural_network/_multilayer_perceptron.py:702: ConvergenceWarning: Stochastic Optimizer: Maximum iterations (200) reached and the optimization hasn't converged yet.\n",
      "  warnings.warn(\n"
     ]
    },
    {
     "name": "stdout",
     "output_type": "stream",
     "text": [
      "\n",
      "Ranolazine_MPO\n",
      "  -->  KNN LR RF SVC MLP "
     ]
    },
    {
     "name": "stderr",
     "output_type": "stream",
     "text": [
      "/home/maldeghi/anaconda3/envs/rogi_py38/lib/python3.8/site-packages/sklearn/neural_network/_multilayer_perceptron.py:702: ConvergenceWarning: Stochastic Optimizer: Maximum iterations (200) reached and the optimization hasn't converged yet.\n",
      "  warnings.warn(\n",
      "/home/maldeghi/anaconda3/envs/rogi_py38/lib/python3.8/site-packages/sklearn/neural_network/_multilayer_perceptron.py:702: ConvergenceWarning: Stochastic Optimizer: Maximum iterations (200) reached and the optimization hasn't converged yet.\n",
      "  warnings.warn(\n",
      "/home/maldeghi/anaconda3/envs/rogi_py38/lib/python3.8/site-packages/sklearn/neural_network/_multilayer_perceptron.py:702: ConvergenceWarning: Stochastic Optimizer: Maximum iterations (200) reached and the optimization hasn't converged yet.\n",
      "  warnings.warn(\n",
      "/home/maldeghi/anaconda3/envs/rogi_py38/lib/python3.8/site-packages/sklearn/neural_network/_multilayer_perceptron.py:702: ConvergenceWarning: Stochastic Optimizer: Maximum iterations (200) reached and the optimization hasn't converged yet.\n",
      "  warnings.warn(\n",
      "/home/maldeghi/anaconda3/envs/rogi_py38/lib/python3.8/site-packages/sklearn/neural_network/_multilayer_perceptron.py:702: ConvergenceWarning: Stochastic Optimizer: Maximum iterations (200) reached and the optimization hasn't converged yet.\n",
      "  warnings.warn(\n"
     ]
    },
    {
     "name": "stdout",
     "output_type": "stream",
     "text": [
      "\n",
      "Perindopril_MPO\n",
      "  -->  KNN LR RF SVC MLP "
     ]
    },
    {
     "name": "stderr",
     "output_type": "stream",
     "text": [
      "/home/maldeghi/anaconda3/envs/rogi_py38/lib/python3.8/site-packages/sklearn/neural_network/_multilayer_perceptron.py:702: ConvergenceWarning: Stochastic Optimizer: Maximum iterations (200) reached and the optimization hasn't converged yet.\n",
      "  warnings.warn(\n",
      "/home/maldeghi/anaconda3/envs/rogi_py38/lib/python3.8/site-packages/sklearn/neural_network/_multilayer_perceptron.py:702: ConvergenceWarning: Stochastic Optimizer: Maximum iterations (200) reached and the optimization hasn't converged yet.\n",
      "  warnings.warn(\n",
      "/home/maldeghi/anaconda3/envs/rogi_py38/lib/python3.8/site-packages/sklearn/neural_network/_multilayer_perceptron.py:702: ConvergenceWarning: Stochastic Optimizer: Maximum iterations (200) reached and the optimization hasn't converged yet.\n",
      "  warnings.warn(\n",
      "/home/maldeghi/anaconda3/envs/rogi_py38/lib/python3.8/site-packages/sklearn/neural_network/_multilayer_perceptron.py:702: ConvergenceWarning: Stochastic Optimizer: Maximum iterations (200) reached and the optimization hasn't converged yet.\n",
      "  warnings.warn(\n",
      "/home/maldeghi/anaconda3/envs/rogi_py38/lib/python3.8/site-packages/sklearn/neural_network/_multilayer_perceptron.py:702: ConvergenceWarning: Stochastic Optimizer: Maximum iterations (200) reached and the optimization hasn't converged yet.\n",
      "  warnings.warn(\n"
     ]
    },
    {
     "name": "stdout",
     "output_type": "stream",
     "text": [
      "\n",
      "Amlodipine_MPO\n",
      "  -->  KNN LR RF SVC MLP "
     ]
    },
    {
     "name": "stderr",
     "output_type": "stream",
     "text": [
      "/home/maldeghi/anaconda3/envs/rogi_py38/lib/python3.8/site-packages/sklearn/neural_network/_multilayer_perceptron.py:702: ConvergenceWarning: Stochastic Optimizer: Maximum iterations (200) reached and the optimization hasn't converged yet.\n",
      "  warnings.warn(\n",
      "/home/maldeghi/anaconda3/envs/rogi_py38/lib/python3.8/site-packages/sklearn/neural_network/_multilayer_perceptron.py:702: ConvergenceWarning: Stochastic Optimizer: Maximum iterations (200) reached and the optimization hasn't converged yet.\n",
      "  warnings.warn(\n",
      "/home/maldeghi/anaconda3/envs/rogi_py38/lib/python3.8/site-packages/sklearn/neural_network/_multilayer_perceptron.py:702: ConvergenceWarning: Stochastic Optimizer: Maximum iterations (200) reached and the optimization hasn't converged yet.\n",
      "  warnings.warn(\n",
      "/home/maldeghi/anaconda3/envs/rogi_py38/lib/python3.8/site-packages/sklearn/neural_network/_multilayer_perceptron.py:702: ConvergenceWarning: Stochastic Optimizer: Maximum iterations (200) reached and the optimization hasn't converged yet.\n",
      "  warnings.warn(\n",
      "/home/maldeghi/anaconda3/envs/rogi_py38/lib/python3.8/site-packages/sklearn/neural_network/_multilayer_perceptron.py:702: ConvergenceWarning: Stochastic Optimizer: Maximum iterations (200) reached and the optimization hasn't converged yet.\n",
      "  warnings.warn(\n"
     ]
    },
    {
     "name": "stdout",
     "output_type": "stream",
     "text": [
      "\n",
      "Zaleplon_MPO\n",
      "  -->  KNN LR RF SVC MLP "
     ]
    },
    {
     "name": "stderr",
     "output_type": "stream",
     "text": [
      "/home/maldeghi/anaconda3/envs/rogi_py38/lib/python3.8/site-packages/sklearn/neural_network/_multilayer_perceptron.py:702: ConvergenceWarning: Stochastic Optimizer: Maximum iterations (200) reached and the optimization hasn't converged yet.\n",
      "  warnings.warn(\n",
      "/home/maldeghi/anaconda3/envs/rogi_py38/lib/python3.8/site-packages/sklearn/neural_network/_multilayer_perceptron.py:702: ConvergenceWarning: Stochastic Optimizer: Maximum iterations (200) reached and the optimization hasn't converged yet.\n",
      "  warnings.warn(\n",
      "/home/maldeghi/anaconda3/envs/rogi_py38/lib/python3.8/site-packages/sklearn/neural_network/_multilayer_perceptron.py:702: ConvergenceWarning: Stochastic Optimizer: Maximum iterations (200) reached and the optimization hasn't converged yet.\n",
      "  warnings.warn(\n",
      "/home/maldeghi/anaconda3/envs/rogi_py38/lib/python3.8/site-packages/sklearn/neural_network/_multilayer_perceptron.py:702: ConvergenceWarning: Stochastic Optimizer: Maximum iterations (200) reached and the optimization hasn't converged yet.\n",
      "  warnings.warn(\n",
      "/home/maldeghi/anaconda3/envs/rogi_py38/lib/python3.8/site-packages/sklearn/neural_network/_multilayer_perceptron.py:702: ConvergenceWarning: Stochastic Optimizer: Maximum iterations (200) reached and the optimization hasn't converged yet.\n",
      "  warnings.warn(\n"
     ]
    },
    {
     "name": "stdout",
     "output_type": "stream",
     "text": [
      "\n",
      "Scaffold Hop\n",
      "  -->  KNN LR RF SVC MLP "
     ]
    },
    {
     "name": "stderr",
     "output_type": "stream",
     "text": [
      "/home/maldeghi/anaconda3/envs/rogi_py38/lib/python3.8/site-packages/sklearn/neural_network/_multilayer_perceptron.py:702: ConvergenceWarning: Stochastic Optimizer: Maximum iterations (200) reached and the optimization hasn't converged yet.\n",
      "  warnings.warn(\n",
      "/home/maldeghi/anaconda3/envs/rogi_py38/lib/python3.8/site-packages/sklearn/neural_network/_multilayer_perceptron.py:702: ConvergenceWarning: Stochastic Optimizer: Maximum iterations (200) reached and the optimization hasn't converged yet.\n",
      "  warnings.warn(\n"
     ]
    },
    {
     "name": "stdout",
     "output_type": "stream",
     "text": [
      "\n"
     ]
    },
    {
     "name": "stderr",
     "output_type": "stream",
     "text": [
      "/home/maldeghi/anaconda3/envs/rogi_py38/lib/python3.8/site-packages/sklearn/neural_network/_multilayer_perceptron.py:702: ConvergenceWarning: Stochastic Optimizer: Maximum iterations (200) reached and the optimization hasn't converged yet.\n",
      "  warnings.warn(\n",
      "/home/maldeghi/anaconda3/envs/rogi_py38/lib/python3.8/site-packages/sklearn/neural_network/_multilayer_perceptron.py:702: ConvergenceWarning: Stochastic Optimizer: Maximum iterations (200) reached and the optimization hasn't converged yet.\n",
      "  warnings.warn(\n",
      "/home/maldeghi/anaconda3/envs/rogi_py38/lib/python3.8/site-packages/sklearn/neural_network/_multilayer_perceptron.py:702: ConvergenceWarning: Stochastic Optimizer: Maximum iterations (200) reached and the optimization hasn't converged yet.\n",
      "  warnings.warn(\n"
     ]
    }
   ],
   "source": [
    "# ===========\n",
    "# DESCRIPTORS\n",
    "# ===========\n",
    "\n",
    "RESULTS['ZINC']['DESC'] = {}\n",
    "\n",
    "# ----------------\n",
    "# get descriptors \n",
    "# ----------------\n",
    "descriptor_funcs = {desc[0]:desc[1] for desc in Descriptors.descList}\n",
    "X = []\n",
    "for smi in smiles:\n",
    "    m = Chem.MolFromSmiles(smi)\n",
    "    Xi = []\n",
    "    for desc_name in desc_names:\n",
    "        desc = descriptor_funcs[desc_name](m)\n",
    "        Xi.append(desc)\n",
    "    X.append(Xi)\n",
    "\n",
    "X = np.array(X)\n",
    "# normalize features (this involves some data leakage and slighly inflates performance, but it does not really matter here)\n",
    "_X = (X - X.min(axis=0)) / (X.max(axis=0) - X.min(axis=0))\n",
    "# ----------------\n",
    "\n",
    "for name in oracle_names:\n",
    "    print(f'{name}')\n",
    "    RESULTS['ZINC']['DESC'][name] = {}\n",
    "    \n",
    "    oracle = Oracle(name=name)\n",
    "    Y = oracle(list(smiles))\n",
    "    \n",
    "    # binarize dataset\n",
    "    Y = binarize_dataset(Y, balance=0.5)\n",
    "    \n",
    "    RESULTS['ZINC']['DESC'][name]['size'] = len(Y)\n",
    "    \n",
    "    # compute RI score\n",
    "    ri = RoughnessIndex(Y=Y, X=_X, metric='euclidean', verbose=False)\n",
    "    RESULTS['ZINC']['DESC'][name]['rogi'] = ri.compute_index(min_dt=0.01)\n",
    "    \n",
    "    # compute MODI score\n",
    "    RESULTS['ZINC']['DESC'][name]['modi'] = MODI(Dx=squareform(ri._Dx), Y=Y)\n",
    "\n",
    "    # test multiple ML models\n",
    "    print('  --> ', end=' ')\n",
    "    for model_name in models.keys():\n",
    "        print(f'{model_name}', end=' ')\n",
    "        model = models[model_name]\n",
    "        cv = KFold(n_splits=5, shuffle=True, random_state=42)\n",
    "        cv_results = cross_validate(model, _X, ri._Y, cv=cv, scoring=('accuracy', 'balanced_accuracy', 'roc_auc', 'f1', 'neg_mean_squared_error'), n_jobs=5)\n",
    "        RESULTS['ZINC']['DESC'][name][model_name] = cv_results\n",
    "    print()"
   ]
  },
  {
   "cell_type": "markdown",
   "id": "bd13d23c",
   "metadata": {},
   "source": [
    "## TDC Datasets"
   ]
  },
  {
   "cell_type": "code",
   "execution_count": 7,
   "id": "c1ec0cb5",
   "metadata": {},
   "outputs": [
    {
     "name": "stderr",
     "output_type": "stream",
     "text": [
      "Found local copy...\n",
      "Loading...\n",
      "Done!\n"
     ]
    },
    {
     "name": "stdout",
     "output_type": "stream",
     "text": [
      "Caco2_Wang_None\n",
      "  -->  KNN LR RF SVC MLP "
     ]
    },
    {
     "name": "stderr",
     "output_type": "stream",
     "text": [
      "Found local copy...\n",
      "Loading...\n",
      "Done!\n"
     ]
    },
    {
     "name": "stdout",
     "output_type": "stream",
     "text": [
      "\n",
      "Lipophilicity_AstraZeneca_None\n",
      "  -->  KNN LR "
     ]
    },
    {
     "name": "stderr",
     "output_type": "stream",
     "text": [
      "/home/maldeghi/anaconda3/envs/rogi_py38/lib/python3.8/site-packages/sklearn/linear_model/_logistic.py:444: ConvergenceWarning: lbfgs failed to converge (status=1):\n",
      "STOP: TOTAL NO. of ITERATIONS REACHED LIMIT.\n",
      "\n",
      "Increase the number of iterations (max_iter) or scale the data as shown in:\n",
      "    https://scikit-learn.org/stable/modules/preprocessing.html\n",
      "Please also refer to the documentation for alternative solver options:\n",
      "    https://scikit-learn.org/stable/modules/linear_model.html#logistic-regression\n",
      "  n_iter_i = _check_optimize_result(\n",
      "/home/maldeghi/anaconda3/envs/rogi_py38/lib/python3.8/site-packages/sklearn/linear_model/_logistic.py:444: ConvergenceWarning: lbfgs failed to converge (status=1):\n",
      "STOP: TOTAL NO. of ITERATIONS REACHED LIMIT.\n",
      "\n",
      "Increase the number of iterations (max_iter) or scale the data as shown in:\n",
      "    https://scikit-learn.org/stable/modules/preprocessing.html\n",
      "Please also refer to the documentation for alternative solver options:\n",
      "    https://scikit-learn.org/stable/modules/linear_model.html#logistic-regression\n",
      "  n_iter_i = _check_optimize_result(\n",
      "/home/maldeghi/anaconda3/envs/rogi_py38/lib/python3.8/site-packages/sklearn/linear_model/_logistic.py:444: ConvergenceWarning: lbfgs failed to converge (status=1):\n",
      "STOP: TOTAL NO. of ITERATIONS REACHED LIMIT.\n",
      "\n",
      "Increase the number of iterations (max_iter) or scale the data as shown in:\n",
      "    https://scikit-learn.org/stable/modules/preprocessing.html\n",
      "Please also refer to the documentation for alternative solver options:\n",
      "    https://scikit-learn.org/stable/modules/linear_model.html#logistic-regression\n",
      "  n_iter_i = _check_optimize_result(\n",
      "/home/maldeghi/anaconda3/envs/rogi_py38/lib/python3.8/site-packages/sklearn/linear_model/_logistic.py:444: ConvergenceWarning: lbfgs failed to converge (status=1):\n",
      "STOP: TOTAL NO. of ITERATIONS REACHED LIMIT.\n",
      "\n",
      "Increase the number of iterations (max_iter) or scale the data as shown in:\n",
      "    https://scikit-learn.org/stable/modules/preprocessing.html\n",
      "Please also refer to the documentation for alternative solver options:\n",
      "    https://scikit-learn.org/stable/modules/linear_model.html#logistic-regression\n",
      "  n_iter_i = _check_optimize_result(\n",
      "/home/maldeghi/anaconda3/envs/rogi_py38/lib/python3.8/site-packages/sklearn/linear_model/_logistic.py:444: ConvergenceWarning: lbfgs failed to converge (status=1):\n",
      "STOP: TOTAL NO. of ITERATIONS REACHED LIMIT.\n",
      "\n",
      "Increase the number of iterations (max_iter) or scale the data as shown in:\n",
      "    https://scikit-learn.org/stable/modules/preprocessing.html\n",
      "Please also refer to the documentation for alternative solver options:\n",
      "    https://scikit-learn.org/stable/modules/linear_model.html#logistic-regression\n",
      "  n_iter_i = _check_optimize_result(\n"
     ]
    },
    {
     "name": "stdout",
     "output_type": "stream",
     "text": [
      "RF SVC MLP "
     ]
    },
    {
     "name": "stderr",
     "output_type": "stream",
     "text": [
      "Found local copy...\n",
      "Loading...\n",
      "Done!\n"
     ]
    },
    {
     "name": "stdout",
     "output_type": "stream",
     "text": [
      "\n",
      "Solubility_AqSolDB_None\n"
     ]
    },
    {
     "name": "stderr",
     "output_type": "stream",
     "text": [
      "[10:22:00] WARNING: not removing hydrogen atom without neighbors\n",
      "[10:22:00] WARNING: not removing hydrogen atom without neighbors\n",
      "[10:22:00] WARNING: not removing hydrogen atom without neighbors\n",
      "[10:22:00] WARNING: not removing hydrogen atom without neighbors\n",
      "[10:22:00] WARNING: not removing hydrogen atom without neighbors\n",
      "[10:22:00] WARNING: not removing hydrogen atom without neighbors\n",
      "[10:22:00] WARNING: not removing hydrogen atom without neighbors\n",
      "[10:22:00] WARNING: not removing hydrogen atom without neighbors\n",
      "[10:22:00] WARNING: not removing hydrogen atom without neighbors\n",
      "[10:22:00] WARNING: not removing hydrogen atom without neighbors\n",
      "[10:22:00] WARNING: not removing hydrogen atom without neighbors\n",
      "[10:22:00] WARNING: not removing hydrogen atom without neighbors\n",
      "[10:22:00] WARNING: not removing hydrogen atom without neighbors\n",
      "[10:22:00] WARNING: not removing hydrogen atom without neighbors\n",
      "[10:22:00] WARNING: not removing hydrogen atom without neighbors\n",
      "[10:22:00] WARNING: not removing hydrogen atom without neighbors\n",
      "[10:22:00] WARNING: not removing hydrogen atom without neighbors\n",
      "[10:22:00] WARNING: not removing hydrogen atom without neighbors\n",
      "[10:22:00] WARNING: not removing hydrogen atom without neighbors\n",
      "[10:22:00] WARNING: not removing hydrogen atom without neighbors\n",
      "[10:22:00] WARNING: not removing hydrogen atom without neighbors\n",
      "[10:22:00] WARNING: not removing hydrogen atom without neighbors\n",
      "[10:22:00] WARNING: not removing hydrogen atom without neighbors\n",
      "[10:22:00] WARNING: not removing hydrogen atom without neighbors\n",
      "[10:22:00] WARNING: not removing hydrogen atom without neighbors\n",
      "[10:22:00] WARNING: not removing hydrogen atom without neighbors\n",
      "[10:22:00] WARNING: not removing hydrogen atom without neighbors\n",
      "[10:22:00] WARNING: not removing hydrogen atom without neighbors\n",
      "[10:22:00] WARNING: not removing hydrogen atom without neighbors\n",
      "[10:22:00] WARNING: not removing hydrogen atom without neighbors\n",
      "[10:22:00] WARNING: not removing hydrogen atom without neighbors\n",
      "[10:22:00] WARNING: not removing hydrogen atom without neighbors\n",
      "[10:22:00] WARNING: not removing hydrogen atom without neighbors\n",
      "[10:22:00] WARNING: not removing hydrogen atom without neighbors\n",
      "[10:22:00] WARNING: not removing hydrogen atom without neighbors\n",
      "[10:22:00] WARNING: not removing hydrogen atom without neighbors\n",
      "[10:22:00] WARNING: not removing hydrogen atom without neighbors\n",
      "[10:22:00] WARNING: not removing hydrogen atom without neighbors\n",
      "[10:22:00] WARNING: not removing hydrogen atom without neighbors\n",
      "[10:22:00] WARNING: not removing hydrogen atom without neighbors\n",
      "[10:22:00] WARNING: not removing hydrogen atom without neighbors\n",
      "[10:22:00] WARNING: not removing hydrogen atom without neighbors\n",
      "[10:22:00] WARNING: not removing hydrogen atom without neighbors\n",
      "[10:22:00] WARNING: not removing hydrogen atom without neighbors\n",
      "[10:22:00] WARNING: not removing hydrogen atom without neighbors\n",
      "[10:22:00] WARNING: not removing hydrogen atom without neighbors\n",
      "[10:22:00] WARNING: not removing hydrogen atom without neighbors\n",
      "[10:22:00] WARNING: not removing hydrogen atom without neighbors\n",
      "[10:22:00] WARNING: not removing hydrogen atom without neighbors\n",
      "[10:22:00] WARNING: not removing hydrogen atom without neighbors\n",
      "[10:22:00] WARNING: not removing hydrogen atom without neighbors\n",
      "[10:22:00] WARNING: not removing hydrogen atom without neighbors\n",
      "[10:22:00] WARNING: not removing hydrogen atom without neighbors\n",
      "[10:22:00] WARNING: not removing hydrogen atom without neighbors\n",
      "[10:22:00] WARNING: not removing hydrogen atom without neighbors\n",
      "[10:22:00] WARNING: not removing hydrogen atom without neighbors\n",
      "[10:22:00] WARNING: not removing hydrogen atom without neighbors\n",
      "[10:22:00] WARNING: not removing hydrogen atom without neighbors\n",
      "[10:22:00] WARNING: not removing hydrogen atom without neighbors\n",
      "[10:22:00] WARNING: not removing hydrogen atom without neighbors\n",
      "[10:22:00] WARNING: not removing hydrogen atom without neighbors\n",
      "[10:22:01] WARNING: not removing hydrogen atom without neighbors\n",
      "[10:22:01] WARNING: not removing hydrogen atom without neighbors\n",
      "[10:22:01] WARNING: not removing hydrogen atom without neighbors\n",
      "[10:22:01] WARNING: not removing hydrogen atom without neighbors\n",
      "[10:22:01] WARNING: not removing hydrogen atom without neighbors\n",
      "[10:22:01] WARNING: not removing hydrogen atom without neighbors\n",
      "[10:22:01] WARNING: not removing hydrogen atom without neighbors\n",
      "[10:22:01] WARNING: not removing hydrogen atom without neighbors\n",
      "[10:22:01] WARNING: not removing hydrogen atom without neighbors\n",
      "[10:22:01] WARNING: not removing hydrogen atom without neighbors\n",
      "[10:22:01] WARNING: not removing hydrogen atom without neighbors\n",
      "[10:22:01] WARNING: not removing hydrogen atom without neighbors\n",
      "[10:22:01] WARNING: not removing hydrogen atom without neighbors\n",
      "[10:22:01] WARNING: not removing hydrogen atom without neighbors\n",
      "[10:22:01] WARNING: not removing hydrogen atom without neighbors\n",
      "[10:22:01] WARNING: not removing hydrogen atom without neighbors\n",
      "[10:22:01] WARNING: not removing hydrogen atom without neighbors\n",
      "[10:22:01] WARNING: not removing hydrogen atom without neighbors\n",
      "[10:22:01] WARNING: not removing hydrogen atom without neighbors\n",
      "[10:22:01] WARNING: not removing hydrogen atom without neighbors\n",
      "[10:22:01] WARNING: not removing hydrogen atom without neighbors\n",
      "[10:22:01] WARNING: not removing hydrogen atom without neighbors\n",
      "[10:22:01] WARNING: not removing hydrogen atom without neighbors\n",
      "[10:22:01] WARNING: not removing hydrogen atom without neighbors\n",
      "[10:22:01] WARNING: not removing hydrogen atom without neighbors\n",
      "[10:22:01] WARNING: not removing hydrogen atom without neighbors\n",
      "[10:22:01] WARNING: not removing hydrogen atom without neighbors\n",
      "[10:22:01] WARNING: not removing hydrogen atom without neighbors\n",
      "[10:22:01] WARNING: not removing hydrogen atom without neighbors\n",
      "[10:22:02] WARNING: not removing hydrogen atom without neighbors\n",
      "[10:22:02] WARNING: not removing hydrogen atom without neighbors\n",
      "[10:22:02] WARNING: not removing hydrogen atom without neighbors\n",
      "[10:22:02] WARNING: not removing hydrogen atom without neighbors\n",
      "[10:22:02] WARNING: not removing hydrogen atom without neighbors\n",
      "[10:22:02] WARNING: not removing hydrogen atom without neighbors\n",
      "[10:22:02] WARNING: not removing hydrogen atom without neighbors\n",
      "[10:22:02] WARNING: not removing hydrogen atom without neighbors\n",
      "[10:22:02] WARNING: not removing hydrogen atom without neighbors\n",
      "[10:22:02] WARNING: not removing hydrogen atom without neighbors\n",
      "[10:22:02] WARNING: not removing hydrogen atom without neighbors\n",
      "[10:22:02] WARNING: not removing hydrogen atom without neighbors\n",
      "[10:22:02] WARNING: not removing hydrogen atom without neighbors\n",
      "[10:22:02] WARNING: not removing hydrogen atom without neighbors\n",
      "[10:22:02] WARNING: not removing hydrogen atom without neighbors\n",
      "[10:22:02] WARNING: not removing hydrogen atom without neighbors\n",
      "[10:22:02] WARNING: not removing hydrogen atom without neighbors\n",
      "[10:22:02] WARNING: not removing hydrogen atom without neighbors\n",
      "[10:22:02] WARNING: not removing hydrogen atom without neighbors\n",
      "[10:22:02] WARNING: not removing hydrogen atom without neighbors\n",
      "[10:22:02] WARNING: not removing hydrogen atom without neighbors\n",
      "[10:22:02] WARNING: not removing hydrogen atom without neighbors\n",
      "[10:22:02] WARNING: not removing hydrogen atom without neighbors\n",
      "[10:22:02] WARNING: not removing hydrogen atom without neighbors\n",
      "[10:22:02] WARNING: not removing hydrogen atom without neighbors\n",
      "[10:22:02] WARNING: not removing hydrogen atom without neighbors\n",
      "[10:22:02] WARNING: not removing hydrogen atom without neighbors\n",
      "[10:22:02] WARNING: not removing hydrogen atom without neighbors\n",
      "[10:22:02] WARNING: not removing hydrogen atom without neighbors\n",
      "[10:22:02] WARNING: not removing hydrogen atom without neighbors\n",
      "[10:22:02] WARNING: not removing hydrogen atom without neighbors\n",
      "[10:22:02] WARNING: not removing hydrogen atom without neighbors\n",
      "[10:22:02] WARNING: not removing hydrogen atom without neighbors\n",
      "[10:22:02] WARNING: not removing hydrogen atom without neighbors\n",
      "[10:22:02] WARNING: not removing hydrogen atom without neighbors\n",
      "[10:22:02] WARNING: not removing hydrogen atom without neighbors\n",
      "[10:22:02] WARNING: not removing hydrogen atom without neighbors\n",
      "[10:22:02] WARNING: not removing hydrogen atom without neighbors\n",
      "[10:22:02] WARNING: not removing hydrogen atom without neighbors\n",
      "[10:22:02] WARNING: not removing hydrogen atom without neighbors\n"
     ]
    },
    {
     "name": "stdout",
     "output_type": "stream",
     "text": [
      "  -->  KNN LR "
     ]
    },
    {
     "name": "stderr",
     "output_type": "stream",
     "text": [
      "/home/maldeghi/anaconda3/envs/rogi_py38/lib/python3.8/site-packages/sklearn/linear_model/_logistic.py:444: ConvergenceWarning: lbfgs failed to converge (status=1):\n",
      "STOP: TOTAL NO. of ITERATIONS REACHED LIMIT.\n",
      "\n",
      "Increase the number of iterations (max_iter) or scale the data as shown in:\n",
      "    https://scikit-learn.org/stable/modules/preprocessing.html\n",
      "Please also refer to the documentation for alternative solver options:\n",
      "    https://scikit-learn.org/stable/modules/linear_model.html#logistic-regression\n",
      "  n_iter_i = _check_optimize_result(\n",
      "/home/maldeghi/anaconda3/envs/rogi_py38/lib/python3.8/site-packages/sklearn/linear_model/_logistic.py:444: ConvergenceWarning: lbfgs failed to converge (status=1):\n",
      "STOP: TOTAL NO. of ITERATIONS REACHED LIMIT.\n",
      "\n",
      "Increase the number of iterations (max_iter) or scale the data as shown in:\n",
      "    https://scikit-learn.org/stable/modules/preprocessing.html\n",
      "Please also refer to the documentation for alternative solver options:\n",
      "    https://scikit-learn.org/stable/modules/linear_model.html#logistic-regression\n",
      "  n_iter_i = _check_optimize_result(\n",
      "/home/maldeghi/anaconda3/envs/rogi_py38/lib/python3.8/site-packages/sklearn/linear_model/_logistic.py:444: ConvergenceWarning: lbfgs failed to converge (status=1):\n",
      "STOP: TOTAL NO. of ITERATIONS REACHED LIMIT.\n",
      "\n",
      "Increase the number of iterations (max_iter) or scale the data as shown in:\n",
      "    https://scikit-learn.org/stable/modules/preprocessing.html\n",
      "Please also refer to the documentation for alternative solver options:\n",
      "    https://scikit-learn.org/stable/modules/linear_model.html#logistic-regression\n",
      "  n_iter_i = _check_optimize_result(\n",
      "/home/maldeghi/anaconda3/envs/rogi_py38/lib/python3.8/site-packages/sklearn/linear_model/_logistic.py:444: ConvergenceWarning: lbfgs failed to converge (status=1):\n",
      "STOP: TOTAL NO. of ITERATIONS REACHED LIMIT.\n",
      "\n",
      "Increase the number of iterations (max_iter) or scale the data as shown in:\n",
      "    https://scikit-learn.org/stable/modules/preprocessing.html\n",
      "Please also refer to the documentation for alternative solver options:\n",
      "    https://scikit-learn.org/stable/modules/linear_model.html#logistic-regression\n",
      "  n_iter_i = _check_optimize_result(\n",
      "/home/maldeghi/anaconda3/envs/rogi_py38/lib/python3.8/site-packages/sklearn/linear_model/_logistic.py:444: ConvergenceWarning: lbfgs failed to converge (status=1):\n",
      "STOP: TOTAL NO. of ITERATIONS REACHED LIMIT.\n",
      "\n",
      "Increase the number of iterations (max_iter) or scale the data as shown in:\n",
      "    https://scikit-learn.org/stable/modules/preprocessing.html\n",
      "Please also refer to the documentation for alternative solver options:\n",
      "    https://scikit-learn.org/stable/modules/linear_model.html#logistic-regression\n",
      "  n_iter_i = _check_optimize_result(\n"
     ]
    },
    {
     "name": "stdout",
     "output_type": "stream",
     "text": [
      "RF SVC MLP "
     ]
    },
    {
     "name": "stderr",
     "output_type": "stream",
     "text": [
      "Found local copy...\n",
      "Loading...\n",
      "Done!\n"
     ]
    },
    {
     "name": "stdout",
     "output_type": "stream",
     "text": [
      "\n",
      "HydrationFreeEnergy_FreeSolv_None\n",
      "  -->  KNN LR RF SVC MLP "
     ]
    },
    {
     "name": "stderr",
     "output_type": "stream",
     "text": [
      "Found local copy...\n",
      "Loading...\n",
      "Done!\n"
     ]
    },
    {
     "name": "stdout",
     "output_type": "stream",
     "text": [
      "\n",
      "PPBR_AZ_None\n",
      "  -->  KNN LR "
     ]
    },
    {
     "name": "stderr",
     "output_type": "stream",
     "text": [
      "/home/maldeghi/anaconda3/envs/rogi_py38/lib/python3.8/site-packages/sklearn/linear_model/_logistic.py:444: ConvergenceWarning: lbfgs failed to converge (status=1):\n",
      "STOP: TOTAL NO. of ITERATIONS REACHED LIMIT.\n",
      "\n",
      "Increase the number of iterations (max_iter) or scale the data as shown in:\n",
      "    https://scikit-learn.org/stable/modules/preprocessing.html\n",
      "Please also refer to the documentation for alternative solver options:\n",
      "    https://scikit-learn.org/stable/modules/linear_model.html#logistic-regression\n",
      "  n_iter_i = _check_optimize_result(\n",
      "/home/maldeghi/anaconda3/envs/rogi_py38/lib/python3.8/site-packages/sklearn/linear_model/_logistic.py:444: ConvergenceWarning: lbfgs failed to converge (status=1):\n",
      "STOP: TOTAL NO. of ITERATIONS REACHED LIMIT.\n",
      "\n",
      "Increase the number of iterations (max_iter) or scale the data as shown in:\n",
      "    https://scikit-learn.org/stable/modules/preprocessing.html\n",
      "Please also refer to the documentation for alternative solver options:\n",
      "    https://scikit-learn.org/stable/modules/linear_model.html#logistic-regression\n",
      "  n_iter_i = _check_optimize_result(\n",
      "/home/maldeghi/anaconda3/envs/rogi_py38/lib/python3.8/site-packages/sklearn/linear_model/_logistic.py:444: ConvergenceWarning: lbfgs failed to converge (status=1):\n",
      "STOP: TOTAL NO. of ITERATIONS REACHED LIMIT.\n",
      "\n",
      "Increase the number of iterations (max_iter) or scale the data as shown in:\n",
      "    https://scikit-learn.org/stable/modules/preprocessing.html\n",
      "Please also refer to the documentation for alternative solver options:\n",
      "    https://scikit-learn.org/stable/modules/linear_model.html#logistic-regression\n",
      "  n_iter_i = _check_optimize_result(\n",
      "/home/maldeghi/anaconda3/envs/rogi_py38/lib/python3.8/site-packages/sklearn/linear_model/_logistic.py:444: ConvergenceWarning: lbfgs failed to converge (status=1):\n",
      "STOP: TOTAL NO. of ITERATIONS REACHED LIMIT.\n",
      "\n",
      "Increase the number of iterations (max_iter) or scale the data as shown in:\n",
      "    https://scikit-learn.org/stable/modules/preprocessing.html\n",
      "Please also refer to the documentation for alternative solver options:\n",
      "    https://scikit-learn.org/stable/modules/linear_model.html#logistic-regression\n",
      "  n_iter_i = _check_optimize_result(\n",
      "/home/maldeghi/anaconda3/envs/rogi_py38/lib/python3.8/site-packages/sklearn/linear_model/_logistic.py:444: ConvergenceWarning: lbfgs failed to converge (status=1):\n",
      "STOP: TOTAL NO. of ITERATIONS REACHED LIMIT.\n",
      "\n",
      "Increase the number of iterations (max_iter) or scale the data as shown in:\n",
      "    https://scikit-learn.org/stable/modules/preprocessing.html\n",
      "Please also refer to the documentation for alternative solver options:\n",
      "    https://scikit-learn.org/stable/modules/linear_model.html#logistic-regression\n",
      "  n_iter_i = _check_optimize_result(\n"
     ]
    },
    {
     "name": "stdout",
     "output_type": "stream",
     "text": [
      "RF SVC MLP "
     ]
    },
    {
     "name": "stderr",
     "output_type": "stream",
     "text": [
      "Found local copy...\n",
      "Loading...\n",
      "Done!\n"
     ]
    },
    {
     "name": "stdout",
     "output_type": "stream",
     "text": [
      "\n",
      "VDss_Lombardo_None\n",
      "  -->  KNN LR RF SVC MLP "
     ]
    },
    {
     "name": "stderr",
     "output_type": "stream",
     "text": [
      "Found local copy...\n",
      "Loading...\n",
      "Done!\n"
     ]
    },
    {
     "name": "stdout",
     "output_type": "stream",
     "text": [
      "\n",
      "Half_Life_Obach_None\n",
      "  -->  KNN LR RF SVC MLP "
     ]
    },
    {
     "name": "stderr",
     "output_type": "stream",
     "text": [
      "Found local copy...\n",
      "Loading...\n",
      "Done!\n"
     ]
    },
    {
     "name": "stdout",
     "output_type": "stream",
     "text": [
      "\n",
      "Clearance_Hepatocyte_AZ_None\n",
      "  -->  KNN LR "
     ]
    },
    {
     "name": "stderr",
     "output_type": "stream",
     "text": [
      "/home/maldeghi/anaconda3/envs/rogi_py38/lib/python3.8/site-packages/sklearn/linear_model/_logistic.py:444: ConvergenceWarning: lbfgs failed to converge (status=1):\n",
      "STOP: TOTAL NO. of ITERATIONS REACHED LIMIT.\n",
      "\n",
      "Increase the number of iterations (max_iter) or scale the data as shown in:\n",
      "    https://scikit-learn.org/stable/modules/preprocessing.html\n",
      "Please also refer to the documentation for alternative solver options:\n",
      "    https://scikit-learn.org/stable/modules/linear_model.html#logistic-regression\n",
      "  n_iter_i = _check_optimize_result(\n",
      "/home/maldeghi/anaconda3/envs/rogi_py38/lib/python3.8/site-packages/sklearn/linear_model/_logistic.py:444: ConvergenceWarning: lbfgs failed to converge (status=1):\n",
      "STOP: TOTAL NO. of ITERATIONS REACHED LIMIT.\n",
      "\n",
      "Increase the number of iterations (max_iter) or scale the data as shown in:\n",
      "    https://scikit-learn.org/stable/modules/preprocessing.html\n",
      "Please also refer to the documentation for alternative solver options:\n",
      "    https://scikit-learn.org/stable/modules/linear_model.html#logistic-regression\n",
      "  n_iter_i = _check_optimize_result(\n",
      "/home/maldeghi/anaconda3/envs/rogi_py38/lib/python3.8/site-packages/sklearn/linear_model/_logistic.py:444: ConvergenceWarning: lbfgs failed to converge (status=1):\n",
      "STOP: TOTAL NO. of ITERATIONS REACHED LIMIT.\n",
      "\n",
      "Increase the number of iterations (max_iter) or scale the data as shown in:\n",
      "    https://scikit-learn.org/stable/modules/preprocessing.html\n",
      "Please also refer to the documentation for alternative solver options:\n",
      "    https://scikit-learn.org/stable/modules/linear_model.html#logistic-regression\n",
      "  n_iter_i = _check_optimize_result(\n"
     ]
    },
    {
     "name": "stdout",
     "output_type": "stream",
     "text": [
      "RF SVC MLP "
     ]
    },
    {
     "name": "stderr",
     "output_type": "stream",
     "text": [
      "Found local copy...\n",
      "Loading...\n",
      "Done!\n"
     ]
    },
    {
     "name": "stdout",
     "output_type": "stream",
     "text": [
      "\n",
      "Clearance_Microsome_AZ_None\n",
      "  -->  KNN LR "
     ]
    },
    {
     "name": "stderr",
     "output_type": "stream",
     "text": [
      "/home/maldeghi/anaconda3/envs/rogi_py38/lib/python3.8/site-packages/sklearn/linear_model/_logistic.py:444: ConvergenceWarning: lbfgs failed to converge (status=1):\n",
      "STOP: TOTAL NO. of ITERATIONS REACHED LIMIT.\n",
      "\n",
      "Increase the number of iterations (max_iter) or scale the data as shown in:\n",
      "    https://scikit-learn.org/stable/modules/preprocessing.html\n",
      "Please also refer to the documentation for alternative solver options:\n",
      "    https://scikit-learn.org/stable/modules/linear_model.html#logistic-regression\n",
      "  n_iter_i = _check_optimize_result(\n",
      "/home/maldeghi/anaconda3/envs/rogi_py38/lib/python3.8/site-packages/sklearn/linear_model/_logistic.py:444: ConvergenceWarning: lbfgs failed to converge (status=1):\n",
      "STOP: TOTAL NO. of ITERATIONS REACHED LIMIT.\n",
      "\n",
      "Increase the number of iterations (max_iter) or scale the data as shown in:\n",
      "    https://scikit-learn.org/stable/modules/preprocessing.html\n",
      "Please also refer to the documentation for alternative solver options:\n",
      "    https://scikit-learn.org/stable/modules/linear_model.html#logistic-regression\n",
      "  n_iter_i = _check_optimize_result(\n",
      "/home/maldeghi/anaconda3/envs/rogi_py38/lib/python3.8/site-packages/sklearn/linear_model/_logistic.py:444: ConvergenceWarning: lbfgs failed to converge (status=1):\n",
      "STOP: TOTAL NO. of ITERATIONS REACHED LIMIT.\n",
      "\n",
      "Increase the number of iterations (max_iter) or scale the data as shown in:\n",
      "    https://scikit-learn.org/stable/modules/preprocessing.html\n",
      "Please also refer to the documentation for alternative solver options:\n",
      "    https://scikit-learn.org/stable/modules/linear_model.html#logistic-regression\n",
      "  n_iter_i = _check_optimize_result(\n",
      "/home/maldeghi/anaconda3/envs/rogi_py38/lib/python3.8/site-packages/sklearn/linear_model/_logistic.py:444: ConvergenceWarning: lbfgs failed to converge (status=1):\n",
      "STOP: TOTAL NO. of ITERATIONS REACHED LIMIT.\n",
      "\n",
      "Increase the number of iterations (max_iter) or scale the data as shown in:\n",
      "    https://scikit-learn.org/stable/modules/preprocessing.html\n",
      "Please also refer to the documentation for alternative solver options:\n",
      "    https://scikit-learn.org/stable/modules/linear_model.html#logistic-regression\n",
      "  n_iter_i = _check_optimize_result(\n"
     ]
    },
    {
     "name": "stdout",
     "output_type": "stream",
     "text": [
      "RF SVC MLP "
     ]
    },
    {
     "name": "stderr",
     "output_type": "stream",
     "text": [
      "Found local copy...\n",
      "Loading...\n",
      "Done!\n"
     ]
    },
    {
     "name": "stdout",
     "output_type": "stream",
     "text": [
      "\n",
      "LD50_Zhu_None\n",
      "  -->  KNN LR "
     ]
    },
    {
     "name": "stderr",
     "output_type": "stream",
     "text": [
      "/home/maldeghi/anaconda3/envs/rogi_py38/lib/python3.8/site-packages/sklearn/linear_model/_logistic.py:444: ConvergenceWarning: lbfgs failed to converge (status=1):\n",
      "STOP: TOTAL NO. of ITERATIONS REACHED LIMIT.\n",
      "\n",
      "Increase the number of iterations (max_iter) or scale the data as shown in:\n",
      "    https://scikit-learn.org/stable/modules/preprocessing.html\n",
      "Please also refer to the documentation for alternative solver options:\n",
      "    https://scikit-learn.org/stable/modules/linear_model.html#logistic-regression\n",
      "  n_iter_i = _check_optimize_result(\n",
      "/home/maldeghi/anaconda3/envs/rogi_py38/lib/python3.8/site-packages/sklearn/linear_model/_logistic.py:444: ConvergenceWarning: lbfgs failed to converge (status=1):\n",
      "STOP: TOTAL NO. of ITERATIONS REACHED LIMIT.\n",
      "\n",
      "Increase the number of iterations (max_iter) or scale the data as shown in:\n",
      "    https://scikit-learn.org/stable/modules/preprocessing.html\n",
      "Please also refer to the documentation for alternative solver options:\n",
      "    https://scikit-learn.org/stable/modules/linear_model.html#logistic-regression\n",
      "  n_iter_i = _check_optimize_result(\n",
      "/home/maldeghi/anaconda3/envs/rogi_py38/lib/python3.8/site-packages/sklearn/linear_model/_logistic.py:444: ConvergenceWarning: lbfgs failed to converge (status=1):\n",
      "STOP: TOTAL NO. of ITERATIONS REACHED LIMIT.\n",
      "\n",
      "Increase the number of iterations (max_iter) or scale the data as shown in:\n",
      "    https://scikit-learn.org/stable/modules/preprocessing.html\n",
      "Please also refer to the documentation for alternative solver options:\n",
      "    https://scikit-learn.org/stable/modules/linear_model.html#logistic-regression\n",
      "  n_iter_i = _check_optimize_result(\n",
      "/home/maldeghi/anaconda3/envs/rogi_py38/lib/python3.8/site-packages/sklearn/linear_model/_logistic.py:444: ConvergenceWarning: lbfgs failed to converge (status=1):\n",
      "STOP: TOTAL NO. of ITERATIONS REACHED LIMIT.\n",
      "\n",
      "Increase the number of iterations (max_iter) or scale the data as shown in:\n",
      "    https://scikit-learn.org/stable/modules/preprocessing.html\n",
      "Please also refer to the documentation for alternative solver options:\n",
      "    https://scikit-learn.org/stable/modules/linear_model.html#logistic-regression\n",
      "  n_iter_i = _check_optimize_result(\n",
      "/home/maldeghi/anaconda3/envs/rogi_py38/lib/python3.8/site-packages/sklearn/linear_model/_logistic.py:444: ConvergenceWarning: lbfgs failed to converge (status=1):\n",
      "STOP: TOTAL NO. of ITERATIONS REACHED LIMIT.\n",
      "\n",
      "Increase the number of iterations (max_iter) or scale the data as shown in:\n",
      "    https://scikit-learn.org/stable/modules/preprocessing.html\n",
      "Please also refer to the documentation for alternative solver options:\n",
      "    https://scikit-learn.org/stable/modules/linear_model.html#logistic-regression\n",
      "  n_iter_i = _check_optimize_result(\n"
     ]
    },
    {
     "name": "stdout",
     "output_type": "stream",
     "text": [
      "RF SVC MLP "
     ]
    },
    {
     "name": "stderr",
     "output_type": "stream",
     "text": [
      "Found local copy...\n",
      "Loading...\n"
     ]
    },
    {
     "name": "stdout",
     "output_type": "stream",
     "text": [
      "\n",
      "herg_central_hERG_at_1uM\n"
     ]
    },
    {
     "name": "stderr",
     "output_type": "stream",
     "text": [
      "Done!\n"
     ]
    },
    {
     "name": "stdout",
     "output_type": "stream",
     "text": [
      "  -->  KNN LR "
     ]
    },
    {
     "name": "stderr",
     "output_type": "stream",
     "text": [
      "/home/maldeghi/anaconda3/envs/rogi_py38/lib/python3.8/site-packages/sklearn/linear_model/_logistic.py:444: ConvergenceWarning: lbfgs failed to converge (status=1):\n",
      "STOP: TOTAL NO. of ITERATIONS REACHED LIMIT.\n",
      "\n",
      "Increase the number of iterations (max_iter) or scale the data as shown in:\n",
      "    https://scikit-learn.org/stable/modules/preprocessing.html\n",
      "Please also refer to the documentation for alternative solver options:\n",
      "    https://scikit-learn.org/stable/modules/linear_model.html#logistic-regression\n",
      "  n_iter_i = _check_optimize_result(\n",
      "/home/maldeghi/anaconda3/envs/rogi_py38/lib/python3.8/site-packages/sklearn/linear_model/_logistic.py:444: ConvergenceWarning: lbfgs failed to converge (status=1):\n",
      "STOP: TOTAL NO. of ITERATIONS REACHED LIMIT.\n",
      "\n",
      "Increase the number of iterations (max_iter) or scale the data as shown in:\n",
      "    https://scikit-learn.org/stable/modules/preprocessing.html\n",
      "Please also refer to the documentation for alternative solver options:\n",
      "    https://scikit-learn.org/stable/modules/linear_model.html#logistic-regression\n",
      "  n_iter_i = _check_optimize_result(\n",
      "/home/maldeghi/anaconda3/envs/rogi_py38/lib/python3.8/site-packages/sklearn/linear_model/_logistic.py:444: ConvergenceWarning: lbfgs failed to converge (status=1):\n",
      "STOP: TOTAL NO. of ITERATIONS REACHED LIMIT.\n",
      "\n",
      "Increase the number of iterations (max_iter) or scale the data as shown in:\n",
      "    https://scikit-learn.org/stable/modules/preprocessing.html\n",
      "Please also refer to the documentation for alternative solver options:\n",
      "    https://scikit-learn.org/stable/modules/linear_model.html#logistic-regression\n",
      "  n_iter_i = _check_optimize_result(\n",
      "/home/maldeghi/anaconda3/envs/rogi_py38/lib/python3.8/site-packages/sklearn/linear_model/_logistic.py:444: ConvergenceWarning: lbfgs failed to converge (status=1):\n",
      "STOP: TOTAL NO. of ITERATIONS REACHED LIMIT.\n",
      "\n",
      "Increase the number of iterations (max_iter) or scale the data as shown in:\n",
      "    https://scikit-learn.org/stable/modules/preprocessing.html\n",
      "Please also refer to the documentation for alternative solver options:\n",
      "    https://scikit-learn.org/stable/modules/linear_model.html#logistic-regression\n",
      "  n_iter_i = _check_optimize_result(\n",
      "/home/maldeghi/anaconda3/envs/rogi_py38/lib/python3.8/site-packages/sklearn/linear_model/_logistic.py:444: ConvergenceWarning: lbfgs failed to converge (status=1):\n",
      "STOP: TOTAL NO. of ITERATIONS REACHED LIMIT.\n",
      "\n",
      "Increase the number of iterations (max_iter) or scale the data as shown in:\n",
      "    https://scikit-learn.org/stable/modules/preprocessing.html\n",
      "Please also refer to the documentation for alternative solver options:\n",
      "    https://scikit-learn.org/stable/modules/linear_model.html#logistic-regression\n",
      "  n_iter_i = _check_optimize_result(\n"
     ]
    },
    {
     "name": "stdout",
     "output_type": "stream",
     "text": [
      "RF SVC MLP "
     ]
    },
    {
     "name": "stderr",
     "output_type": "stream",
     "text": [
      "Found local copy...\n",
      "Loading...\n"
     ]
    },
    {
     "name": "stdout",
     "output_type": "stream",
     "text": [
      "\n",
      "herg_central_hERG_at_10uM\n"
     ]
    },
    {
     "name": "stderr",
     "output_type": "stream",
     "text": [
      "Done!\n"
     ]
    },
    {
     "name": "stdout",
     "output_type": "stream",
     "text": [
      "  -->  KNN LR "
     ]
    },
    {
     "name": "stderr",
     "output_type": "stream",
     "text": [
      "/home/maldeghi/anaconda3/envs/rogi_py38/lib/python3.8/site-packages/sklearn/linear_model/_logistic.py:444: ConvergenceWarning: lbfgs failed to converge (status=1):\n",
      "STOP: TOTAL NO. of ITERATIONS REACHED LIMIT.\n",
      "\n",
      "Increase the number of iterations (max_iter) or scale the data as shown in:\n",
      "    https://scikit-learn.org/stable/modules/preprocessing.html\n",
      "Please also refer to the documentation for alternative solver options:\n",
      "    https://scikit-learn.org/stable/modules/linear_model.html#logistic-regression\n",
      "  n_iter_i = _check_optimize_result(\n",
      "/home/maldeghi/anaconda3/envs/rogi_py38/lib/python3.8/site-packages/sklearn/linear_model/_logistic.py:444: ConvergenceWarning: lbfgs failed to converge (status=1):\n",
      "STOP: TOTAL NO. of ITERATIONS REACHED LIMIT.\n",
      "\n",
      "Increase the number of iterations (max_iter) or scale the data as shown in:\n",
      "    https://scikit-learn.org/stable/modules/preprocessing.html\n",
      "Please also refer to the documentation for alternative solver options:\n",
      "    https://scikit-learn.org/stable/modules/linear_model.html#logistic-regression\n",
      "  n_iter_i = _check_optimize_result(\n",
      "/home/maldeghi/anaconda3/envs/rogi_py38/lib/python3.8/site-packages/sklearn/linear_model/_logistic.py:444: ConvergenceWarning: lbfgs failed to converge (status=1):\n",
      "STOP: TOTAL NO. of ITERATIONS REACHED LIMIT.\n",
      "\n",
      "Increase the number of iterations (max_iter) or scale the data as shown in:\n",
      "    https://scikit-learn.org/stable/modules/preprocessing.html\n",
      "Please also refer to the documentation for alternative solver options:\n",
      "    https://scikit-learn.org/stable/modules/linear_model.html#logistic-regression\n",
      "  n_iter_i = _check_optimize_result(\n",
      "/home/maldeghi/anaconda3/envs/rogi_py38/lib/python3.8/site-packages/sklearn/linear_model/_logistic.py:444: ConvergenceWarning: lbfgs failed to converge (status=1):\n",
      "STOP: TOTAL NO. of ITERATIONS REACHED LIMIT.\n",
      "\n",
      "Increase the number of iterations (max_iter) or scale the data as shown in:\n",
      "    https://scikit-learn.org/stable/modules/preprocessing.html\n",
      "Please also refer to the documentation for alternative solver options:\n",
      "    https://scikit-learn.org/stable/modules/linear_model.html#logistic-regression\n",
      "  n_iter_i = _check_optimize_result(\n",
      "/home/maldeghi/anaconda3/envs/rogi_py38/lib/python3.8/site-packages/sklearn/linear_model/_logistic.py:444: ConvergenceWarning: lbfgs failed to converge (status=1):\n",
      "STOP: TOTAL NO. of ITERATIONS REACHED LIMIT.\n",
      "\n",
      "Increase the number of iterations (max_iter) or scale the data as shown in:\n",
      "    https://scikit-learn.org/stable/modules/preprocessing.html\n",
      "Please also refer to the documentation for alternative solver options:\n",
      "    https://scikit-learn.org/stable/modules/linear_model.html#logistic-regression\n",
      "  n_iter_i = _check_optimize_result(\n"
     ]
    },
    {
     "name": "stdout",
     "output_type": "stream",
     "text": [
      "RF SVC MLP \n"
     ]
    }
   ],
   "source": [
    "# ============\n",
    "# FINGERPRINTS\n",
    "# ============\n",
    "\n",
    "RESULTS['TDC']['FPS'] = {}\n",
    "\n",
    "for name, label_name in props:\n",
    "    tag = f'{name}_{label_name}'\n",
    "    RESULTS['TDC']['FPS'][tag] = {}\n",
    "    print(tag)\n",
    "\n",
    "    data = get_tdc_dataset(name=name, label_name=label_name)\n",
    "    smiles = data.loc[:, 'Drug']\n",
    "    Y = data.loc[:, 'Y']\n",
    "    \n",
    "    # binarize dataset\n",
    "    Y = binarize_dataset(Y, balance=0.5)\n",
    "    \n",
    "    RESULTS['TDC']['FPS'][tag]['size'] = len(data)\n",
    "\n",
    "    # compute RI score\n",
    "    ri = RoughnessIndex(smiles=smiles, Y=Y, verbose=False)\n",
    "    RESULTS['TDC']['FPS'][tag]['rogi'] = ri.compute_index(min_dt=0.01)\n",
    "    \n",
    "    # compute MODI score\n",
    "    RESULTS['TDC']['FPS'][tag]['modi'] = MODI(Dx=squareform(ri._Dx), Y=Y)\n",
    "\n",
    "    # test multiple ML models\n",
    "    print('  --> ', end=' ')\n",
    "    for model_name in models.keys():\n",
    "        print(f'{model_name}', end=' ')\n",
    "        model = models[model_name]\n",
    "        cv = KFold(n_splits=5, shuffle=True, random_state=42)\n",
    "        cv_results = cross_validate(model, ri._fps, ri._Y, cv=cv, scoring=('accuracy', 'balanced_accuracy', 'roc_auc', 'f1', 'neg_mean_squared_error'), n_jobs=5)\n",
    "        RESULTS['TDC']['FPS'][tag][model_name] = cv_results\n",
    "    print()"
   ]
  },
  {
   "cell_type": "code",
   "execution_count": 8,
   "id": "d14b15ea-69a3-4862-af4b-7fc37615c40a",
   "metadata": {},
   "outputs": [
    {
     "name": "stderr",
     "output_type": "stream",
     "text": [
      "Found local copy...\n",
      "Loading...\n",
      "Done!\n"
     ]
    },
    {
     "name": "stdout",
     "output_type": "stream",
     "text": [
      "Caco2_Wang_None\n",
      "  -->  KNN LR RF SVC MLP "
     ]
    },
    {
     "name": "stderr",
     "output_type": "stream",
     "text": [
      "/home/maldeghi/anaconda3/envs/rogi_py38/lib/python3.8/site-packages/sklearn/neural_network/_multilayer_perceptron.py:702: ConvergenceWarning: Stochastic Optimizer: Maximum iterations (200) reached and the optimization hasn't converged yet.\n",
      "  warnings.warn(\n",
      "/home/maldeghi/anaconda3/envs/rogi_py38/lib/python3.8/site-packages/sklearn/neural_network/_multilayer_perceptron.py:702: ConvergenceWarning: Stochastic Optimizer: Maximum iterations (200) reached and the optimization hasn't converged yet.\n",
      "  warnings.warn(\n",
      "/home/maldeghi/anaconda3/envs/rogi_py38/lib/python3.8/site-packages/sklearn/neural_network/_multilayer_perceptron.py:702: ConvergenceWarning: Stochastic Optimizer: Maximum iterations (200) reached and the optimization hasn't converged yet.\n",
      "  warnings.warn(\n",
      "/home/maldeghi/anaconda3/envs/rogi_py38/lib/python3.8/site-packages/sklearn/neural_network/_multilayer_perceptron.py:702: ConvergenceWarning: Stochastic Optimizer: Maximum iterations (200) reached and the optimization hasn't converged yet.\n",
      "  warnings.warn(\n",
      "/home/maldeghi/anaconda3/envs/rogi_py38/lib/python3.8/site-packages/sklearn/neural_network/_multilayer_perceptron.py:702: ConvergenceWarning: Stochastic Optimizer: Maximum iterations (200) reached and the optimization hasn't converged yet.\n",
      "  warnings.warn(\n",
      "Found local copy...\n",
      "Loading...\n",
      "Done!\n"
     ]
    },
    {
     "name": "stdout",
     "output_type": "stream",
     "text": [
      "\n",
      "Lipophilicity_AstraZeneca_None\n",
      "  -->  KNN LR RF SVC MLP "
     ]
    },
    {
     "name": "stderr",
     "output_type": "stream",
     "text": [
      "/home/maldeghi/anaconda3/envs/rogi_py38/lib/python3.8/site-packages/sklearn/neural_network/_multilayer_perceptron.py:702: ConvergenceWarning: Stochastic Optimizer: Maximum iterations (200) reached and the optimization hasn't converged yet.\n",
      "  warnings.warn(\n",
      "/home/maldeghi/anaconda3/envs/rogi_py38/lib/python3.8/site-packages/sklearn/neural_network/_multilayer_perceptron.py:702: ConvergenceWarning: Stochastic Optimizer: Maximum iterations (200) reached and the optimization hasn't converged yet.\n",
      "  warnings.warn(\n",
      "/home/maldeghi/anaconda3/envs/rogi_py38/lib/python3.8/site-packages/sklearn/neural_network/_multilayer_perceptron.py:702: ConvergenceWarning: Stochastic Optimizer: Maximum iterations (200) reached and the optimization hasn't converged yet.\n",
      "  warnings.warn(\n",
      "/home/maldeghi/anaconda3/envs/rogi_py38/lib/python3.8/site-packages/sklearn/neural_network/_multilayer_perceptron.py:702: ConvergenceWarning: Stochastic Optimizer: Maximum iterations (200) reached and the optimization hasn't converged yet.\n",
      "  warnings.warn(\n",
      "/home/maldeghi/anaconda3/envs/rogi_py38/lib/python3.8/site-packages/sklearn/neural_network/_multilayer_perceptron.py:702: ConvergenceWarning: Stochastic Optimizer: Maximum iterations (200) reached and the optimization hasn't converged yet.\n",
      "  warnings.warn(\n",
      "Found local copy...\n",
      "Loading...\n",
      "Done!\n",
      "[10:38:48] WARNING: not removing hydrogen atom without neighbors\n",
      "[10:38:48] WARNING: not removing hydrogen atom without neighbors\n",
      "[10:38:48] WARNING: not removing hydrogen atom without neighbors\n",
      "[10:38:48] WARNING: not removing hydrogen atom without neighbors\n",
      "[10:38:48] WARNING: not removing hydrogen atom without neighbors\n"
     ]
    },
    {
     "name": "stdout",
     "output_type": "stream",
     "text": [
      "\n",
      "Solubility_AqSolDB_None\n"
     ]
    },
    {
     "name": "stderr",
     "output_type": "stream",
     "text": [
      "[10:38:48] WARNING: not removing hydrogen atom without neighbors\n",
      "[10:38:48] WARNING: not removing hydrogen atom without neighbors\n",
      "[10:38:48] WARNING: not removing hydrogen atom without neighbors\n",
      "[10:38:48] WARNING: not removing hydrogen atom without neighbors\n",
      "[10:38:48] WARNING: not removing hydrogen atom without neighbors\n",
      "[10:38:48] WARNING: not removing hydrogen atom without neighbors\n",
      "[10:38:48] WARNING: not removing hydrogen atom without neighbors\n",
      "[10:38:48] WARNING: not removing hydrogen atom without neighbors\n",
      "[10:38:48] WARNING: not removing hydrogen atom without neighbors\n",
      "[10:38:48] WARNING: not removing hydrogen atom without neighbors\n",
      "[10:38:48] WARNING: not removing hydrogen atom without neighbors\n",
      "[10:38:48] WARNING: not removing hydrogen atom without neighbors\n",
      "[10:38:48] WARNING: not removing hydrogen atom without neighbors\n",
      "[10:38:48] WARNING: not removing hydrogen atom without neighbors\n",
      "[10:38:48] WARNING: not removing hydrogen atom without neighbors\n",
      "[10:38:48] WARNING: not removing hydrogen atom without neighbors\n",
      "[10:38:48] WARNING: not removing hydrogen atom without neighbors\n",
      "[10:38:48] WARNING: not removing hydrogen atom without neighbors\n",
      "[10:38:48] WARNING: not removing hydrogen atom without neighbors\n",
      "[10:38:48] WARNING: not removing hydrogen atom without neighbors\n",
      "[10:38:48] WARNING: not removing hydrogen atom without neighbors\n",
      "[10:38:48] WARNING: not removing hydrogen atom without neighbors\n",
      "[10:38:48] WARNING: not removing hydrogen atom without neighbors\n",
      "[10:38:48] WARNING: not removing hydrogen atom without neighbors\n",
      "[10:38:48] WARNING: not removing hydrogen atom without neighbors\n",
      "[10:38:48] WARNING: not removing hydrogen atom without neighbors\n",
      "[10:38:48] WARNING: not removing hydrogen atom without neighbors\n",
      "[10:38:48] WARNING: not removing hydrogen atom without neighbors\n",
      "[10:38:48] WARNING: not removing hydrogen atom without neighbors\n",
      "[10:38:48] WARNING: not removing hydrogen atom without neighbors\n",
      "[10:38:48] WARNING: not removing hydrogen atom without neighbors\n",
      "[10:38:48] WARNING: not removing hydrogen atom without neighbors\n",
      "[10:38:48] WARNING: not removing hydrogen atom without neighbors\n",
      "[10:38:48] WARNING: not removing hydrogen atom without neighbors\n",
      "[10:38:48] WARNING: not removing hydrogen atom without neighbors\n",
      "[10:38:48] WARNING: not removing hydrogen atom without neighbors\n",
      "[10:38:48] WARNING: not removing hydrogen atom without neighbors\n",
      "[10:38:48] WARNING: not removing hydrogen atom without neighbors\n",
      "[10:38:48] WARNING: not removing hydrogen atom without neighbors\n",
      "[10:38:48] WARNING: not removing hydrogen atom without neighbors\n",
      "[10:38:48] WARNING: not removing hydrogen atom without neighbors\n",
      "[10:38:48] WARNING: not removing hydrogen atom without neighbors\n",
      "[10:38:48] WARNING: not removing hydrogen atom without neighbors\n",
      "[10:38:48] WARNING: not removing hydrogen atom without neighbors\n",
      "[10:38:48] WARNING: not removing hydrogen atom without neighbors\n",
      "[10:38:48] WARNING: not removing hydrogen atom without neighbors\n",
      "[10:38:48] WARNING: not removing hydrogen atom without neighbors\n",
      "[10:38:48] WARNING: not removing hydrogen atom without neighbors\n",
      "[10:38:48] WARNING: not removing hydrogen atom without neighbors\n",
      "[10:38:48] WARNING: not removing hydrogen atom without neighbors\n",
      "[10:38:48] WARNING: not removing hydrogen atom without neighbors\n",
      "[10:38:48] WARNING: not removing hydrogen atom without neighbors\n",
      "[10:38:48] WARNING: not removing hydrogen atom without neighbors\n",
      "[10:38:48] WARNING: not removing hydrogen atom without neighbors\n",
      "[10:38:48] WARNING: not removing hydrogen atom without neighbors\n",
      "[10:38:48] WARNING: not removing hydrogen atom without neighbors\n",
      "[10:38:48] WARNING: not removing hydrogen atom without neighbors\n",
      "[10:38:48] WARNING: not removing hydrogen atom without neighbors\n",
      "[10:38:48] WARNING: not removing hydrogen atom without neighbors\n",
      "[10:38:48] WARNING: not removing hydrogen atom without neighbors\n",
      "[10:38:49] WARNING: not removing hydrogen atom without neighbors\n",
      "[10:38:49] WARNING: not removing hydrogen atom without neighbors\n",
      "[10:38:49] WARNING: not removing hydrogen atom without neighbors\n",
      "[10:38:49] WARNING: not removing hydrogen atom without neighbors\n",
      "[10:38:49] WARNING: not removing hydrogen atom without neighbors\n",
      "[10:38:49] WARNING: not removing hydrogen atom without neighbors\n",
      "[10:38:49] WARNING: not removing hydrogen atom without neighbors\n",
      "[10:38:49] WARNING: not removing hydrogen atom without neighbors\n",
      "[10:38:49] WARNING: not removing hydrogen atom without neighbors\n",
      "[10:38:49] WARNING: not removing hydrogen atom without neighbors\n",
      "[10:38:49] WARNING: not removing hydrogen atom without neighbors\n",
      "[10:38:50] WARNING: not removing hydrogen atom without neighbors\n",
      "[10:38:50] WARNING: not removing hydrogen atom without neighbors\n",
      "[10:38:50] WARNING: not removing hydrogen atom without neighbors\n",
      "[10:38:50] WARNING: not removing hydrogen atom without neighbors\n",
      "[10:38:50] WARNING: not removing hydrogen atom without neighbors\n",
      "[10:38:50] WARNING: not removing hydrogen atom without neighbors\n",
      "[10:38:50] WARNING: not removing hydrogen atom without neighbors\n",
      "[10:38:50] WARNING: not removing hydrogen atom without neighbors\n",
      "[10:38:50] WARNING: not removing hydrogen atom without neighbors\n",
      "[10:38:50] WARNING: not removing hydrogen atom without neighbors\n",
      "[10:38:50] WARNING: not removing hydrogen atom without neighbors\n",
      "[10:38:50] WARNING: not removing hydrogen atom without neighbors\n",
      "[10:38:50] WARNING: not removing hydrogen atom without neighbors\n",
      "[10:38:50] WARNING: not removing hydrogen atom without neighbors\n",
      "[10:38:51] WARNING: not removing hydrogen atom without neighbors\n",
      "[10:38:51] WARNING: not removing hydrogen atom without neighbors\n",
      "[10:38:51] WARNING: not removing hydrogen atom without neighbors\n",
      "[10:38:51] WARNING: not removing hydrogen atom without neighbors\n",
      "[10:38:51] WARNING: not removing hydrogen atom without neighbors\n",
      "[10:38:51] WARNING: not removing hydrogen atom without neighbors\n",
      "[10:38:51] WARNING: not removing hydrogen atom without neighbors\n",
      "[10:38:51] WARNING: not removing hydrogen atom without neighbors\n",
      "[10:38:51] WARNING: not removing hydrogen atom without neighbors\n",
      "[10:38:51] WARNING: not removing hydrogen atom without neighbors\n",
      "[10:38:51] WARNING: not removing hydrogen atom without neighbors\n",
      "[10:38:51] WARNING: not removing hydrogen atom without neighbors\n",
      "[10:38:51] WARNING: not removing hydrogen atom without neighbors\n",
      "[10:38:51] WARNING: not removing hydrogen atom without neighbors\n",
      "[10:38:51] WARNING: not removing hydrogen atom without neighbors\n",
      "[10:38:51] WARNING: not removing hydrogen atom without neighbors\n",
      "[10:38:51] WARNING: not removing hydrogen atom without neighbors\n",
      "[10:38:51] WARNING: not removing hydrogen atom without neighbors\n",
      "[10:38:51] WARNING: not removing hydrogen atom without neighbors\n",
      "[10:38:51] WARNING: not removing hydrogen atom without neighbors\n",
      "[10:38:51] WARNING: not removing hydrogen atom without neighbors\n",
      "[10:38:51] WARNING: not removing hydrogen atom without neighbors\n",
      "[10:38:51] WARNING: not removing hydrogen atom without neighbors\n",
      "[10:38:51] WARNING: not removing hydrogen atom without neighbors\n",
      "[10:38:51] WARNING: not removing hydrogen atom without neighbors\n",
      "[10:38:51] WARNING: not removing hydrogen atom without neighbors\n",
      "[10:38:51] WARNING: not removing hydrogen atom without neighbors\n",
      "[10:38:52] WARNING: not removing hydrogen atom without neighbors\n",
      "[10:38:52] WARNING: not removing hydrogen atom without neighbors\n",
      "[10:38:52] WARNING: not removing hydrogen atom without neighbors\n",
      "[10:38:52] WARNING: not removing hydrogen atom without neighbors\n",
      "[10:38:52] WARNING: not removing hydrogen atom without neighbors\n",
      "[10:38:52] WARNING: not removing hydrogen atom without neighbors\n",
      "[10:38:52] WARNING: not removing hydrogen atom without neighbors\n",
      "[10:38:52] WARNING: not removing hydrogen atom without neighbors\n",
      "[10:38:53] WARNING: not removing hydrogen atom without neighbors\n",
      "[10:38:53] WARNING: not removing hydrogen atom without neighbors\n",
      "[10:38:53] WARNING: not removing hydrogen atom without neighbors\n",
      "[10:38:54] WARNING: not removing hydrogen atom without neighbors\n",
      "[10:38:54] WARNING: not removing hydrogen atom without neighbors\n"
     ]
    },
    {
     "name": "stdout",
     "output_type": "stream",
     "text": [
      "  -->  KNN LR RF SVC MLP "
     ]
    },
    {
     "name": "stderr",
     "output_type": "stream",
     "text": [
      "/home/maldeghi/anaconda3/envs/rogi_py38/lib/python3.8/site-packages/sklearn/neural_network/_multilayer_perceptron.py:702: ConvergenceWarning: Stochastic Optimizer: Maximum iterations (200) reached and the optimization hasn't converged yet.\n",
      "  warnings.warn(\n",
      "/home/maldeghi/anaconda3/envs/rogi_py38/lib/python3.8/site-packages/sklearn/neural_network/_multilayer_perceptron.py:702: ConvergenceWarning: Stochastic Optimizer: Maximum iterations (200) reached and the optimization hasn't converged yet.\n",
      "  warnings.warn(\n",
      "/home/maldeghi/anaconda3/envs/rogi_py38/lib/python3.8/site-packages/sklearn/neural_network/_multilayer_perceptron.py:702: ConvergenceWarning: Stochastic Optimizer: Maximum iterations (200) reached and the optimization hasn't converged yet.\n",
      "  warnings.warn(\n",
      "/home/maldeghi/anaconda3/envs/rogi_py38/lib/python3.8/site-packages/sklearn/neural_network/_multilayer_perceptron.py:702: ConvergenceWarning: Stochastic Optimizer: Maximum iterations (200) reached and the optimization hasn't converged yet.\n",
      "  warnings.warn(\n",
      "/home/maldeghi/anaconda3/envs/rogi_py38/lib/python3.8/site-packages/sklearn/neural_network/_multilayer_perceptron.py:702: ConvergenceWarning: Stochastic Optimizer: Maximum iterations (200) reached and the optimization hasn't converged yet.\n",
      "  warnings.warn(\n",
      "Found local copy...\n",
      "Loading...\n",
      "Done!\n"
     ]
    },
    {
     "name": "stdout",
     "output_type": "stream",
     "text": [
      "\n",
      "HydrationFreeEnergy_FreeSolv_None\n",
      "  -->  KNN LR RF SVC MLP "
     ]
    },
    {
     "name": "stderr",
     "output_type": "stream",
     "text": [
      "/home/maldeghi/anaconda3/envs/rogi_py38/lib/python3.8/site-packages/sklearn/neural_network/_multilayer_perceptron.py:702: ConvergenceWarning: Stochastic Optimizer: Maximum iterations (200) reached and the optimization hasn't converged yet.\n",
      "  warnings.warn(\n",
      "/home/maldeghi/anaconda3/envs/rogi_py38/lib/python3.8/site-packages/sklearn/neural_network/_multilayer_perceptron.py:702: ConvergenceWarning: Stochastic Optimizer: Maximum iterations (200) reached and the optimization hasn't converged yet.\n",
      "  warnings.warn(\n",
      "/home/maldeghi/anaconda3/envs/rogi_py38/lib/python3.8/site-packages/sklearn/neural_network/_multilayer_perceptron.py:702: ConvergenceWarning: Stochastic Optimizer: Maximum iterations (200) reached and the optimization hasn't converged yet.\n",
      "  warnings.warn(\n",
      "/home/maldeghi/anaconda3/envs/rogi_py38/lib/python3.8/site-packages/sklearn/neural_network/_multilayer_perceptron.py:702: ConvergenceWarning: Stochastic Optimizer: Maximum iterations (200) reached and the optimization hasn't converged yet.\n",
      "  warnings.warn(\n",
      "/home/maldeghi/anaconda3/envs/rogi_py38/lib/python3.8/site-packages/sklearn/neural_network/_multilayer_perceptron.py:702: ConvergenceWarning: Stochastic Optimizer: Maximum iterations (200) reached and the optimization hasn't converged yet.\n",
      "  warnings.warn(\n",
      "Found local copy...\n",
      "Loading...\n",
      "Done!\n"
     ]
    },
    {
     "name": "stdout",
     "output_type": "stream",
     "text": [
      "\n",
      "PPBR_AZ_None\n",
      "  -->  KNN LR RF SVC MLP "
     ]
    },
    {
     "name": "stderr",
     "output_type": "stream",
     "text": [
      "/home/maldeghi/anaconda3/envs/rogi_py38/lib/python3.8/site-packages/sklearn/neural_network/_multilayer_perceptron.py:702: ConvergenceWarning: Stochastic Optimizer: Maximum iterations (200) reached and the optimization hasn't converged yet.\n",
      "  warnings.warn(\n",
      "/home/maldeghi/anaconda3/envs/rogi_py38/lib/python3.8/site-packages/sklearn/neural_network/_multilayer_perceptron.py:702: ConvergenceWarning: Stochastic Optimizer: Maximum iterations (200) reached and the optimization hasn't converged yet.\n",
      "  warnings.warn(\n",
      "/home/maldeghi/anaconda3/envs/rogi_py38/lib/python3.8/site-packages/sklearn/neural_network/_multilayer_perceptron.py:702: ConvergenceWarning: Stochastic Optimizer: Maximum iterations (200) reached and the optimization hasn't converged yet.\n",
      "  warnings.warn(\n",
      "/home/maldeghi/anaconda3/envs/rogi_py38/lib/python3.8/site-packages/sklearn/neural_network/_multilayer_perceptron.py:702: ConvergenceWarning: Stochastic Optimizer: Maximum iterations (200) reached and the optimization hasn't converged yet.\n",
      "  warnings.warn(\n",
      "/home/maldeghi/anaconda3/envs/rogi_py38/lib/python3.8/site-packages/sklearn/neural_network/_multilayer_perceptron.py:702: ConvergenceWarning: Stochastic Optimizer: Maximum iterations (200) reached and the optimization hasn't converged yet.\n",
      "  warnings.warn(\n",
      "Found local copy...\n",
      "Loading...\n",
      "Done!\n"
     ]
    },
    {
     "name": "stdout",
     "output_type": "stream",
     "text": [
      "\n",
      "VDss_Lombardo_None\n",
      "  -->  KNN LR RF SVC MLP "
     ]
    },
    {
     "name": "stderr",
     "output_type": "stream",
     "text": [
      "/home/maldeghi/anaconda3/envs/rogi_py38/lib/python3.8/site-packages/sklearn/neural_network/_multilayer_perceptron.py:702: ConvergenceWarning: Stochastic Optimizer: Maximum iterations (200) reached and the optimization hasn't converged yet.\n",
      "  warnings.warn(\n",
      "/home/maldeghi/anaconda3/envs/rogi_py38/lib/python3.8/site-packages/sklearn/neural_network/_multilayer_perceptron.py:702: ConvergenceWarning: Stochastic Optimizer: Maximum iterations (200) reached and the optimization hasn't converged yet.\n",
      "  warnings.warn(\n",
      "/home/maldeghi/anaconda3/envs/rogi_py38/lib/python3.8/site-packages/sklearn/neural_network/_multilayer_perceptron.py:702: ConvergenceWarning: Stochastic Optimizer: Maximum iterations (200) reached and the optimization hasn't converged yet.\n",
      "  warnings.warn(\n",
      "/home/maldeghi/anaconda3/envs/rogi_py38/lib/python3.8/site-packages/sklearn/neural_network/_multilayer_perceptron.py:702: ConvergenceWarning: Stochastic Optimizer: Maximum iterations (200) reached and the optimization hasn't converged yet.\n",
      "  warnings.warn(\n",
      "/home/maldeghi/anaconda3/envs/rogi_py38/lib/python3.8/site-packages/sklearn/neural_network/_multilayer_perceptron.py:702: ConvergenceWarning: Stochastic Optimizer: Maximum iterations (200) reached and the optimization hasn't converged yet.\n",
      "  warnings.warn(\n",
      "Found local copy...\n",
      "Loading...\n",
      "Done!\n"
     ]
    },
    {
     "name": "stdout",
     "output_type": "stream",
     "text": [
      "\n",
      "Half_Life_Obach_None\n",
      "  -->  KNN LR RF SVC MLP "
     ]
    },
    {
     "name": "stderr",
     "output_type": "stream",
     "text": [
      "/home/maldeghi/anaconda3/envs/rogi_py38/lib/python3.8/site-packages/sklearn/neural_network/_multilayer_perceptron.py:702: ConvergenceWarning: Stochastic Optimizer: Maximum iterations (200) reached and the optimization hasn't converged yet.\n",
      "  warnings.warn(\n",
      "/home/maldeghi/anaconda3/envs/rogi_py38/lib/python3.8/site-packages/sklearn/neural_network/_multilayer_perceptron.py:702: ConvergenceWarning: Stochastic Optimizer: Maximum iterations (200) reached and the optimization hasn't converged yet.\n",
      "  warnings.warn(\n",
      "/home/maldeghi/anaconda3/envs/rogi_py38/lib/python3.8/site-packages/sklearn/neural_network/_multilayer_perceptron.py:702: ConvergenceWarning: Stochastic Optimizer: Maximum iterations (200) reached and the optimization hasn't converged yet.\n",
      "  warnings.warn(\n",
      "/home/maldeghi/anaconda3/envs/rogi_py38/lib/python3.8/site-packages/sklearn/neural_network/_multilayer_perceptron.py:702: ConvergenceWarning: Stochastic Optimizer: Maximum iterations (200) reached and the optimization hasn't converged yet.\n",
      "  warnings.warn(\n",
      "/home/maldeghi/anaconda3/envs/rogi_py38/lib/python3.8/site-packages/sklearn/neural_network/_multilayer_perceptron.py:702: ConvergenceWarning: Stochastic Optimizer: Maximum iterations (200) reached and the optimization hasn't converged yet.\n",
      "  warnings.warn(\n",
      "Found local copy...\n",
      "Loading...\n",
      "Done!\n"
     ]
    },
    {
     "name": "stdout",
     "output_type": "stream",
     "text": [
      "\n",
      "Clearance_Hepatocyte_AZ_None\n",
      "  -->  KNN LR RF SVC MLP "
     ]
    },
    {
     "name": "stderr",
     "output_type": "stream",
     "text": [
      "/home/maldeghi/anaconda3/envs/rogi_py38/lib/python3.8/site-packages/sklearn/neural_network/_multilayer_perceptron.py:702: ConvergenceWarning: Stochastic Optimizer: Maximum iterations (200) reached and the optimization hasn't converged yet.\n",
      "  warnings.warn(\n",
      "/home/maldeghi/anaconda3/envs/rogi_py38/lib/python3.8/site-packages/sklearn/neural_network/_multilayer_perceptron.py:702: ConvergenceWarning: Stochastic Optimizer: Maximum iterations (200) reached and the optimization hasn't converged yet.\n",
      "  warnings.warn(\n",
      "/home/maldeghi/anaconda3/envs/rogi_py38/lib/python3.8/site-packages/sklearn/neural_network/_multilayer_perceptron.py:702: ConvergenceWarning: Stochastic Optimizer: Maximum iterations (200) reached and the optimization hasn't converged yet.\n",
      "  warnings.warn(\n",
      "/home/maldeghi/anaconda3/envs/rogi_py38/lib/python3.8/site-packages/sklearn/neural_network/_multilayer_perceptron.py:702: ConvergenceWarning: Stochastic Optimizer: Maximum iterations (200) reached and the optimization hasn't converged yet.\n",
      "  warnings.warn(\n",
      "/home/maldeghi/anaconda3/envs/rogi_py38/lib/python3.8/site-packages/sklearn/neural_network/_multilayer_perceptron.py:702: ConvergenceWarning: Stochastic Optimizer: Maximum iterations (200) reached and the optimization hasn't converged yet.\n",
      "  warnings.warn(\n",
      "Found local copy...\n",
      "Loading...\n",
      "Done!\n"
     ]
    },
    {
     "name": "stdout",
     "output_type": "stream",
     "text": [
      "\n",
      "Clearance_Microsome_AZ_None\n",
      "  -->  KNN LR RF SVC MLP "
     ]
    },
    {
     "name": "stderr",
     "output_type": "stream",
     "text": [
      "/home/maldeghi/anaconda3/envs/rogi_py38/lib/python3.8/site-packages/sklearn/neural_network/_multilayer_perceptron.py:702: ConvergenceWarning: Stochastic Optimizer: Maximum iterations (200) reached and the optimization hasn't converged yet.\n",
      "  warnings.warn(\n",
      "/home/maldeghi/anaconda3/envs/rogi_py38/lib/python3.8/site-packages/sklearn/neural_network/_multilayer_perceptron.py:702: ConvergenceWarning: Stochastic Optimizer: Maximum iterations (200) reached and the optimization hasn't converged yet.\n",
      "  warnings.warn(\n",
      "/home/maldeghi/anaconda3/envs/rogi_py38/lib/python3.8/site-packages/sklearn/neural_network/_multilayer_perceptron.py:702: ConvergenceWarning: Stochastic Optimizer: Maximum iterations (200) reached and the optimization hasn't converged yet.\n",
      "  warnings.warn(\n",
      "/home/maldeghi/anaconda3/envs/rogi_py38/lib/python3.8/site-packages/sklearn/neural_network/_multilayer_perceptron.py:702: ConvergenceWarning: Stochastic Optimizer: Maximum iterations (200) reached and the optimization hasn't converged yet.\n",
      "  warnings.warn(\n",
      "/home/maldeghi/anaconda3/envs/rogi_py38/lib/python3.8/site-packages/sklearn/neural_network/_multilayer_perceptron.py:702: ConvergenceWarning: Stochastic Optimizer: Maximum iterations (200) reached and the optimization hasn't converged yet.\n",
      "  warnings.warn(\n",
      "Found local copy...\n",
      "Loading...\n",
      "Done!\n"
     ]
    },
    {
     "name": "stdout",
     "output_type": "stream",
     "text": [
      "\n",
      "LD50_Zhu_None\n",
      "  -->  KNN LR RF SVC MLP "
     ]
    },
    {
     "name": "stderr",
     "output_type": "stream",
     "text": [
      "/home/maldeghi/anaconda3/envs/rogi_py38/lib/python3.8/site-packages/sklearn/neural_network/_multilayer_perceptron.py:702: ConvergenceWarning: Stochastic Optimizer: Maximum iterations (200) reached and the optimization hasn't converged yet.\n",
      "  warnings.warn(\n",
      "/home/maldeghi/anaconda3/envs/rogi_py38/lib/python3.8/site-packages/sklearn/neural_network/_multilayer_perceptron.py:702: ConvergenceWarning: Stochastic Optimizer: Maximum iterations (200) reached and the optimization hasn't converged yet.\n",
      "  warnings.warn(\n",
      "/home/maldeghi/anaconda3/envs/rogi_py38/lib/python3.8/site-packages/sklearn/neural_network/_multilayer_perceptron.py:702: ConvergenceWarning: Stochastic Optimizer: Maximum iterations (200) reached and the optimization hasn't converged yet.\n",
      "  warnings.warn(\n",
      "/home/maldeghi/anaconda3/envs/rogi_py38/lib/python3.8/site-packages/sklearn/neural_network/_multilayer_perceptron.py:702: ConvergenceWarning: Stochastic Optimizer: Maximum iterations (200) reached and the optimization hasn't converged yet.\n",
      "  warnings.warn(\n",
      "/home/maldeghi/anaconda3/envs/rogi_py38/lib/python3.8/site-packages/sklearn/neural_network/_multilayer_perceptron.py:702: ConvergenceWarning: Stochastic Optimizer: Maximum iterations (200) reached and the optimization hasn't converged yet.\n",
      "  warnings.warn(\n",
      "Found local copy...\n",
      "Loading...\n"
     ]
    },
    {
     "name": "stdout",
     "output_type": "stream",
     "text": [
      "\n",
      "herg_central_hERG_at_1uM\n"
     ]
    },
    {
     "name": "stderr",
     "output_type": "stream",
     "text": [
      "Done!\n"
     ]
    },
    {
     "name": "stdout",
     "output_type": "stream",
     "text": [
      "  -->  KNN LR RF SVC MLP "
     ]
    },
    {
     "name": "stderr",
     "output_type": "stream",
     "text": [
      "/home/maldeghi/anaconda3/envs/rogi_py38/lib/python3.8/site-packages/sklearn/neural_network/_multilayer_perceptron.py:702: ConvergenceWarning: Stochastic Optimizer: Maximum iterations (200) reached and the optimization hasn't converged yet.\n",
      "  warnings.warn(\n",
      "/home/maldeghi/anaconda3/envs/rogi_py38/lib/python3.8/site-packages/sklearn/neural_network/_multilayer_perceptron.py:702: ConvergenceWarning: Stochastic Optimizer: Maximum iterations (200) reached and the optimization hasn't converged yet.\n",
      "  warnings.warn(\n",
      "/home/maldeghi/anaconda3/envs/rogi_py38/lib/python3.8/site-packages/sklearn/neural_network/_multilayer_perceptron.py:702: ConvergenceWarning: Stochastic Optimizer: Maximum iterations (200) reached and the optimization hasn't converged yet.\n",
      "  warnings.warn(\n",
      "Found local copy...\n",
      "Loading...\n"
     ]
    },
    {
     "name": "stdout",
     "output_type": "stream",
     "text": [
      "\n",
      "herg_central_hERG_at_10uM\n"
     ]
    },
    {
     "name": "stderr",
     "output_type": "stream",
     "text": [
      "Done!\n"
     ]
    },
    {
     "name": "stdout",
     "output_type": "stream",
     "text": [
      "  -->  KNN LR RF SVC MLP "
     ]
    },
    {
     "name": "stderr",
     "output_type": "stream",
     "text": [
      "/home/maldeghi/anaconda3/envs/rogi_py38/lib/python3.8/site-packages/sklearn/neural_network/_multilayer_perceptron.py:702: ConvergenceWarning: Stochastic Optimizer: Maximum iterations (200) reached and the optimization hasn't converged yet.\n",
      "  warnings.warn(\n",
      "/home/maldeghi/anaconda3/envs/rogi_py38/lib/python3.8/site-packages/sklearn/neural_network/_multilayer_perceptron.py:702: ConvergenceWarning: Stochastic Optimizer: Maximum iterations (200) reached and the optimization hasn't converged yet.\n",
      "  warnings.warn(\n",
      "/home/maldeghi/anaconda3/envs/rogi_py38/lib/python3.8/site-packages/sklearn/neural_network/_multilayer_perceptron.py:702: ConvergenceWarning: Stochastic Optimizer: Maximum iterations (200) reached and the optimization hasn't converged yet.\n",
      "  warnings.warn(\n",
      "/home/maldeghi/anaconda3/envs/rogi_py38/lib/python3.8/site-packages/sklearn/neural_network/_multilayer_perceptron.py:702: ConvergenceWarning: Stochastic Optimizer: Maximum iterations (200) reached and the optimization hasn't converged yet.\n",
      "  warnings.warn(\n"
     ]
    },
    {
     "name": "stdout",
     "output_type": "stream",
     "text": [
      "\n"
     ]
    },
    {
     "name": "stderr",
     "output_type": "stream",
     "text": [
      "/home/maldeghi/anaconda3/envs/rogi_py38/lib/python3.8/site-packages/sklearn/neural_network/_multilayer_perceptron.py:702: ConvergenceWarning: Stochastic Optimizer: Maximum iterations (200) reached and the optimization hasn't converged yet.\n",
      "  warnings.warn(\n"
     ]
    }
   ],
   "source": [
    "# ===========\n",
    "# DESCRIPTORS\n",
    "# ===========\n",
    "\n",
    "RESULTS['TDC']['DESC'] = {}\n",
    "\n",
    "for name, label_name in props:\n",
    "    tag = f'{name}_{label_name}'\n",
    "    RESULTS['TDC']['DESC'][tag] = {}\n",
    "    print(tag)\n",
    "\n",
    "    # data\n",
    "    data = get_tdc_dataset(name=name, label_name=label_name)\n",
    "    smiles = data.loc[:, 'Drug']\n",
    "    Y = data.loc[:, 'Y']\n",
    "    # binarize dataset\n",
    "    Y = binarize_dataset(Y, balance=0.5)\n",
    "    \n",
    "    RESULTS['TDC']['DESC'][tag]['size'] = len(data)\n",
    "    \n",
    "    # descriptors\n",
    "    df_X = smiles_to_descriptors_df(smiles, descriptors=desc_names)\n",
    "    # normalize features (this involves some data leakage and slighly inflates performance, but it does not really matter here)\n",
    "    X = df_X.to_numpy()\n",
    "    _X = (X - X.min(axis=0)) / (X.max(axis=0) - X.min(axis=0))\n",
    "\n",
    "    # compute RI score\n",
    "    ri = RoughnessIndex(X=_X, Y=Y, metric='euclidean', verbose=False)        \n",
    "    RESULTS['TDC']['DESC'][tag]['rogi'] = ri.compute_index(min_dt=0.01)\n",
    "    \n",
    "    # compute MODI score\n",
    "    RESULTS['TDC']['DESC'][tag]['modi'] = MODI(Dx=squareform(ri._Dx), Y=Y)\n",
    "\n",
    "    # test multiple ML models\n",
    "    print('  --> ', end=' ')\n",
    "    for model_name in models.keys():\n",
    "        print(f'{model_name}', end=' ')\n",
    "        model = models[model_name]\n",
    "        cv = KFold(n_splits=5, shuffle=True, random_state=42)\n",
    "        cv_results = cross_validate(model, _X, ri._Y, cv=cv, scoring=('accuracy', 'balanced_accuracy', 'roc_auc', 'f1', 'neg_mean_squared_error'), n_jobs=5)\n",
    "        RESULTS['TDC']['DESC'][tag][model_name] = cv_results\n",
    "    print()"
   ]
  },
  {
   "cell_type": "markdown",
   "id": "d785c2be-559d-4338-9e12-307a05c4ae1a",
   "metadata": {},
   "source": [
    "## ChEMBL Datasets"
   ]
  },
  {
   "cell_type": "code",
   "execution_count": 9,
   "id": "b4f66201-0040-4582-8b75-7bf48bf436c6",
   "metadata": {},
   "outputs": [],
   "source": [
    "csv_files = glob('chembl_datasets/*csv')"
   ]
  },
  {
   "cell_type": "code",
   "execution_count": 10,
   "id": "95c1aba2-9f33-41f9-9410-74938d3e82c9",
   "metadata": {},
   "outputs": [
    {
     "name": "stdout",
     "output_type": "stream",
     "text": [
      "CHEMBL2034_Ki\n",
      "  -->  KNN LR "
     ]
    },
    {
     "name": "stderr",
     "output_type": "stream",
     "text": [
      "/home/maldeghi/anaconda3/envs/rogi_py38/lib/python3.8/site-packages/sklearn/linear_model/_logistic.py:444: ConvergenceWarning: lbfgs failed to converge (status=1):\n",
      "STOP: TOTAL NO. of ITERATIONS REACHED LIMIT.\n",
      "\n",
      "Increase the number of iterations (max_iter) or scale the data as shown in:\n",
      "    https://scikit-learn.org/stable/modules/preprocessing.html\n",
      "Please also refer to the documentation for alternative solver options:\n",
      "    https://scikit-learn.org/stable/modules/linear_model.html#logistic-regression\n",
      "  n_iter_i = _check_optimize_result(\n",
      "/home/maldeghi/anaconda3/envs/rogi_py38/lib/python3.8/site-packages/sklearn/linear_model/_logistic.py:444: ConvergenceWarning: lbfgs failed to converge (status=1):\n",
      "STOP: TOTAL NO. of ITERATIONS REACHED LIMIT.\n",
      "\n",
      "Increase the number of iterations (max_iter) or scale the data as shown in:\n",
      "    https://scikit-learn.org/stable/modules/preprocessing.html\n",
      "Please also refer to the documentation for alternative solver options:\n",
      "    https://scikit-learn.org/stable/modules/linear_model.html#logistic-regression\n",
      "  n_iter_i = _check_optimize_result(\n",
      "/home/maldeghi/anaconda3/envs/rogi_py38/lib/python3.8/site-packages/sklearn/linear_model/_logistic.py:444: ConvergenceWarning: lbfgs failed to converge (status=1):\n",
      "STOP: TOTAL NO. of ITERATIONS REACHED LIMIT.\n",
      "\n",
      "Increase the number of iterations (max_iter) or scale the data as shown in:\n",
      "    https://scikit-learn.org/stable/modules/preprocessing.html\n",
      "Please also refer to the documentation for alternative solver options:\n",
      "    https://scikit-learn.org/stable/modules/linear_model.html#logistic-regression\n",
      "  n_iter_i = _check_optimize_result(\n",
      "/home/maldeghi/anaconda3/envs/rogi_py38/lib/python3.8/site-packages/sklearn/linear_model/_logistic.py:444: ConvergenceWarning: lbfgs failed to converge (status=1):\n",
      "STOP: TOTAL NO. of ITERATIONS REACHED LIMIT.\n",
      "\n",
      "Increase the number of iterations (max_iter) or scale the data as shown in:\n",
      "    https://scikit-learn.org/stable/modules/preprocessing.html\n",
      "Please also refer to the documentation for alternative solver options:\n",
      "    https://scikit-learn.org/stable/modules/linear_model.html#logistic-regression\n",
      "  n_iter_i = _check_optimize_result(\n",
      "/home/maldeghi/anaconda3/envs/rogi_py38/lib/python3.8/site-packages/sklearn/linear_model/_logistic.py:444: ConvergenceWarning: lbfgs failed to converge (status=1):\n",
      "STOP: TOTAL NO. of ITERATIONS REACHED LIMIT.\n",
      "\n",
      "Increase the number of iterations (max_iter) or scale the data as shown in:\n",
      "    https://scikit-learn.org/stable/modules/preprocessing.html\n",
      "Please also refer to the documentation for alternative solver options:\n",
      "    https://scikit-learn.org/stable/modules/linear_model.html#logistic-regression\n",
      "  n_iter_i = _check_optimize_result(\n"
     ]
    },
    {
     "name": "stdout",
     "output_type": "stream",
     "text": [
      "RF SVC MLP \n",
      "CHEMBL219_Ki\n",
      "  -->  KNN LR "
     ]
    },
    {
     "name": "stderr",
     "output_type": "stream",
     "text": [
      "/home/maldeghi/anaconda3/envs/rogi_py38/lib/python3.8/site-packages/sklearn/linear_model/_logistic.py:444: ConvergenceWarning: lbfgs failed to converge (status=1):\n",
      "STOP: TOTAL NO. of ITERATIONS REACHED LIMIT.\n",
      "\n",
      "Increase the number of iterations (max_iter) or scale the data as shown in:\n",
      "    https://scikit-learn.org/stable/modules/preprocessing.html\n",
      "Please also refer to the documentation for alternative solver options:\n",
      "    https://scikit-learn.org/stable/modules/linear_model.html#logistic-regression\n",
      "  n_iter_i = _check_optimize_result(\n",
      "/home/maldeghi/anaconda3/envs/rogi_py38/lib/python3.8/site-packages/sklearn/linear_model/_logistic.py:444: ConvergenceWarning: lbfgs failed to converge (status=1):\n",
      "STOP: TOTAL NO. of ITERATIONS REACHED LIMIT.\n",
      "\n",
      "Increase the number of iterations (max_iter) or scale the data as shown in:\n",
      "    https://scikit-learn.org/stable/modules/preprocessing.html\n",
      "Please also refer to the documentation for alternative solver options:\n",
      "    https://scikit-learn.org/stable/modules/linear_model.html#logistic-regression\n",
      "  n_iter_i = _check_optimize_result(\n",
      "/home/maldeghi/anaconda3/envs/rogi_py38/lib/python3.8/site-packages/sklearn/linear_model/_logistic.py:444: ConvergenceWarning: lbfgs failed to converge (status=1):\n",
      "STOP: TOTAL NO. of ITERATIONS REACHED LIMIT.\n",
      "\n",
      "Increase the number of iterations (max_iter) or scale the data as shown in:\n",
      "    https://scikit-learn.org/stable/modules/preprocessing.html\n",
      "Please also refer to the documentation for alternative solver options:\n",
      "    https://scikit-learn.org/stable/modules/linear_model.html#logistic-regression\n",
      "  n_iter_i = _check_optimize_result(\n",
      "/home/maldeghi/anaconda3/envs/rogi_py38/lib/python3.8/site-packages/sklearn/linear_model/_logistic.py:444: ConvergenceWarning: lbfgs failed to converge (status=1):\n",
      "STOP: TOTAL NO. of ITERATIONS REACHED LIMIT.\n",
      "\n",
      "Increase the number of iterations (max_iter) or scale the data as shown in:\n",
      "    https://scikit-learn.org/stable/modules/preprocessing.html\n",
      "Please also refer to the documentation for alternative solver options:\n",
      "    https://scikit-learn.org/stable/modules/linear_model.html#logistic-regression\n",
      "  n_iter_i = _check_optimize_result(\n",
      "/home/maldeghi/anaconda3/envs/rogi_py38/lib/python3.8/site-packages/sklearn/linear_model/_logistic.py:444: ConvergenceWarning: lbfgs failed to converge (status=1):\n",
      "STOP: TOTAL NO. of ITERATIONS REACHED LIMIT.\n",
      "\n",
      "Increase the number of iterations (max_iter) or scale the data as shown in:\n",
      "    https://scikit-learn.org/stable/modules/preprocessing.html\n",
      "Please also refer to the documentation for alternative solver options:\n",
      "    https://scikit-learn.org/stable/modules/linear_model.html#logistic-regression\n",
      "  n_iter_i = _check_optimize_result(\n"
     ]
    },
    {
     "name": "stdout",
     "output_type": "stream",
     "text": [
      "RF SVC MLP \n",
      "CHEMBL2147_Ki\n",
      "  -->  KNN LR "
     ]
    },
    {
     "name": "stderr",
     "output_type": "stream",
     "text": [
      "/home/maldeghi/anaconda3/envs/rogi_py38/lib/python3.8/site-packages/sklearn/linear_model/_logistic.py:444: ConvergenceWarning: lbfgs failed to converge (status=1):\n",
      "STOP: TOTAL NO. of ITERATIONS REACHED LIMIT.\n",
      "\n",
      "Increase the number of iterations (max_iter) or scale the data as shown in:\n",
      "    https://scikit-learn.org/stable/modules/preprocessing.html\n",
      "Please also refer to the documentation for alternative solver options:\n",
      "    https://scikit-learn.org/stable/modules/linear_model.html#logistic-regression\n",
      "  n_iter_i = _check_optimize_result(\n",
      "/home/maldeghi/anaconda3/envs/rogi_py38/lib/python3.8/site-packages/sklearn/linear_model/_logistic.py:444: ConvergenceWarning: lbfgs failed to converge (status=1):\n",
      "STOP: TOTAL NO. of ITERATIONS REACHED LIMIT.\n",
      "\n",
      "Increase the number of iterations (max_iter) or scale the data as shown in:\n",
      "    https://scikit-learn.org/stable/modules/preprocessing.html\n",
      "Please also refer to the documentation for alternative solver options:\n",
      "    https://scikit-learn.org/stable/modules/linear_model.html#logistic-regression\n",
      "  n_iter_i = _check_optimize_result(\n",
      "/home/maldeghi/anaconda3/envs/rogi_py38/lib/python3.8/site-packages/sklearn/linear_model/_logistic.py:444: ConvergenceWarning: lbfgs failed to converge (status=1):\n",
      "STOP: TOTAL NO. of ITERATIONS REACHED LIMIT.\n",
      "\n",
      "Increase the number of iterations (max_iter) or scale the data as shown in:\n",
      "    https://scikit-learn.org/stable/modules/preprocessing.html\n",
      "Please also refer to the documentation for alternative solver options:\n",
      "    https://scikit-learn.org/stable/modules/linear_model.html#logistic-regression\n",
      "  n_iter_i = _check_optimize_result(\n",
      "/home/maldeghi/anaconda3/envs/rogi_py38/lib/python3.8/site-packages/sklearn/linear_model/_logistic.py:444: ConvergenceWarning: lbfgs failed to converge (status=1):\n",
      "STOP: TOTAL NO. of ITERATIONS REACHED LIMIT.\n",
      "\n",
      "Increase the number of iterations (max_iter) or scale the data as shown in:\n",
      "    https://scikit-learn.org/stable/modules/preprocessing.html\n",
      "Please also refer to the documentation for alternative solver options:\n",
      "    https://scikit-learn.org/stable/modules/linear_model.html#logistic-regression\n",
      "  n_iter_i = _check_optimize_result(\n",
      "/home/maldeghi/anaconda3/envs/rogi_py38/lib/python3.8/site-packages/sklearn/linear_model/_logistic.py:444: ConvergenceWarning: lbfgs failed to converge (status=1):\n",
      "STOP: TOTAL NO. of ITERATIONS REACHED LIMIT.\n",
      "\n",
      "Increase the number of iterations (max_iter) or scale the data as shown in:\n",
      "    https://scikit-learn.org/stable/modules/preprocessing.html\n",
      "Please also refer to the documentation for alternative solver options:\n",
      "    https://scikit-learn.org/stable/modules/linear_model.html#logistic-regression\n",
      "  n_iter_i = _check_optimize_result(\n"
     ]
    },
    {
     "name": "stdout",
     "output_type": "stream",
     "text": [
      "RF SVC MLP \n",
      "CHEMBL236_Ki\n",
      "  -->  KNN LR "
     ]
    },
    {
     "name": "stderr",
     "output_type": "stream",
     "text": [
      "/home/maldeghi/anaconda3/envs/rogi_py38/lib/python3.8/site-packages/sklearn/linear_model/_logistic.py:444: ConvergenceWarning: lbfgs failed to converge (status=1):\n",
      "STOP: TOTAL NO. of ITERATIONS REACHED LIMIT.\n",
      "\n",
      "Increase the number of iterations (max_iter) or scale the data as shown in:\n",
      "    https://scikit-learn.org/stable/modules/preprocessing.html\n",
      "Please also refer to the documentation for alternative solver options:\n",
      "    https://scikit-learn.org/stable/modules/linear_model.html#logistic-regression\n",
      "  n_iter_i = _check_optimize_result(\n",
      "/home/maldeghi/anaconda3/envs/rogi_py38/lib/python3.8/site-packages/sklearn/linear_model/_logistic.py:444: ConvergenceWarning: lbfgs failed to converge (status=1):\n",
      "STOP: TOTAL NO. of ITERATIONS REACHED LIMIT.\n",
      "\n",
      "Increase the number of iterations (max_iter) or scale the data as shown in:\n",
      "    https://scikit-learn.org/stable/modules/preprocessing.html\n",
      "Please also refer to the documentation for alternative solver options:\n",
      "    https://scikit-learn.org/stable/modules/linear_model.html#logistic-regression\n",
      "  n_iter_i = _check_optimize_result(\n",
      "/home/maldeghi/anaconda3/envs/rogi_py38/lib/python3.8/site-packages/sklearn/linear_model/_logistic.py:444: ConvergenceWarning: lbfgs failed to converge (status=1):\n",
      "STOP: TOTAL NO. of ITERATIONS REACHED LIMIT.\n",
      "\n",
      "Increase the number of iterations (max_iter) or scale the data as shown in:\n",
      "    https://scikit-learn.org/stable/modules/preprocessing.html\n",
      "Please also refer to the documentation for alternative solver options:\n",
      "    https://scikit-learn.org/stable/modules/linear_model.html#logistic-regression\n",
      "  n_iter_i = _check_optimize_result(\n",
      "/home/maldeghi/anaconda3/envs/rogi_py38/lib/python3.8/site-packages/sklearn/linear_model/_logistic.py:444: ConvergenceWarning: lbfgs failed to converge (status=1):\n",
      "STOP: TOTAL NO. of ITERATIONS REACHED LIMIT.\n",
      "\n",
      "Increase the number of iterations (max_iter) or scale the data as shown in:\n",
      "    https://scikit-learn.org/stable/modules/preprocessing.html\n",
      "Please also refer to the documentation for alternative solver options:\n",
      "    https://scikit-learn.org/stable/modules/linear_model.html#logistic-regression\n",
      "  n_iter_i = _check_optimize_result(\n",
      "/home/maldeghi/anaconda3/envs/rogi_py38/lib/python3.8/site-packages/sklearn/linear_model/_logistic.py:444: ConvergenceWarning: lbfgs failed to converge (status=1):\n",
      "STOP: TOTAL NO. of ITERATIONS REACHED LIMIT.\n",
      "\n",
      "Increase the number of iterations (max_iter) or scale the data as shown in:\n",
      "    https://scikit-learn.org/stable/modules/preprocessing.html\n",
      "Please also refer to the documentation for alternative solver options:\n",
      "    https://scikit-learn.org/stable/modules/linear_model.html#logistic-regression\n",
      "  n_iter_i = _check_optimize_result(\n"
     ]
    },
    {
     "name": "stdout",
     "output_type": "stream",
     "text": [
      "RF SVC MLP \n",
      "CHEMBL3979_EC50\n",
      "  -->  KNN LR "
     ]
    },
    {
     "name": "stderr",
     "output_type": "stream",
     "text": [
      "/home/maldeghi/anaconda3/envs/rogi_py38/lib/python3.8/site-packages/sklearn/linear_model/_logistic.py:444: ConvergenceWarning: lbfgs failed to converge (status=1):\n",
      "STOP: TOTAL NO. of ITERATIONS REACHED LIMIT.\n",
      "\n",
      "Increase the number of iterations (max_iter) or scale the data as shown in:\n",
      "    https://scikit-learn.org/stable/modules/preprocessing.html\n",
      "Please also refer to the documentation for alternative solver options:\n",
      "    https://scikit-learn.org/stable/modules/linear_model.html#logistic-regression\n",
      "  n_iter_i = _check_optimize_result(\n",
      "/home/maldeghi/anaconda3/envs/rogi_py38/lib/python3.8/site-packages/sklearn/linear_model/_logistic.py:444: ConvergenceWarning: lbfgs failed to converge (status=1):\n",
      "STOP: TOTAL NO. of ITERATIONS REACHED LIMIT.\n",
      "\n",
      "Increase the number of iterations (max_iter) or scale the data as shown in:\n",
      "    https://scikit-learn.org/stable/modules/preprocessing.html\n",
      "Please also refer to the documentation for alternative solver options:\n",
      "    https://scikit-learn.org/stable/modules/linear_model.html#logistic-regression\n",
      "  n_iter_i = _check_optimize_result(\n",
      "/home/maldeghi/anaconda3/envs/rogi_py38/lib/python3.8/site-packages/sklearn/linear_model/_logistic.py:444: ConvergenceWarning: lbfgs failed to converge (status=1):\n",
      "STOP: TOTAL NO. of ITERATIONS REACHED LIMIT.\n",
      "\n",
      "Increase the number of iterations (max_iter) or scale the data as shown in:\n",
      "    https://scikit-learn.org/stable/modules/preprocessing.html\n",
      "Please also refer to the documentation for alternative solver options:\n",
      "    https://scikit-learn.org/stable/modules/linear_model.html#logistic-regression\n",
      "  n_iter_i = _check_optimize_result(\n",
      "/home/maldeghi/anaconda3/envs/rogi_py38/lib/python3.8/site-packages/sklearn/linear_model/_logistic.py:444: ConvergenceWarning: lbfgs failed to converge (status=1):\n",
      "STOP: TOTAL NO. of ITERATIONS REACHED LIMIT.\n",
      "\n",
      "Increase the number of iterations (max_iter) or scale the data as shown in:\n",
      "    https://scikit-learn.org/stable/modules/preprocessing.html\n",
      "Please also refer to the documentation for alternative solver options:\n",
      "    https://scikit-learn.org/stable/modules/linear_model.html#logistic-regression\n",
      "  n_iter_i = _check_optimize_result(\n",
      "/home/maldeghi/anaconda3/envs/rogi_py38/lib/python3.8/site-packages/sklearn/linear_model/_logistic.py:444: ConvergenceWarning: lbfgs failed to converge (status=1):\n",
      "STOP: TOTAL NO. of ITERATIONS REACHED LIMIT.\n",
      "\n",
      "Increase the number of iterations (max_iter) or scale the data as shown in:\n",
      "    https://scikit-learn.org/stable/modules/preprocessing.html\n",
      "Please also refer to the documentation for alternative solver options:\n",
      "    https://scikit-learn.org/stable/modules/linear_model.html#logistic-regression\n",
      "  n_iter_i = _check_optimize_result(\n"
     ]
    },
    {
     "name": "stdout",
     "output_type": "stream",
     "text": [
      "RF SVC MLP \n",
      "CHEMBL2835_Ki\n",
      "  -->  KNN LR "
     ]
    },
    {
     "name": "stderr",
     "output_type": "stream",
     "text": [
      "/home/maldeghi/anaconda3/envs/rogi_py38/lib/python3.8/site-packages/sklearn/linear_model/_logistic.py:444: ConvergenceWarning: lbfgs failed to converge (status=1):\n",
      "STOP: TOTAL NO. of ITERATIONS REACHED LIMIT.\n",
      "\n",
      "Increase the number of iterations (max_iter) or scale the data as shown in:\n",
      "    https://scikit-learn.org/stable/modules/preprocessing.html\n",
      "Please also refer to the documentation for alternative solver options:\n",
      "    https://scikit-learn.org/stable/modules/linear_model.html#logistic-regression\n",
      "  n_iter_i = _check_optimize_result(\n",
      "/home/maldeghi/anaconda3/envs/rogi_py38/lib/python3.8/site-packages/sklearn/linear_model/_logistic.py:444: ConvergenceWarning: lbfgs failed to converge (status=1):\n",
      "STOP: TOTAL NO. of ITERATIONS REACHED LIMIT.\n",
      "\n",
      "Increase the number of iterations (max_iter) or scale the data as shown in:\n",
      "    https://scikit-learn.org/stable/modules/preprocessing.html\n",
      "Please also refer to the documentation for alternative solver options:\n",
      "    https://scikit-learn.org/stable/modules/linear_model.html#logistic-regression\n",
      "  n_iter_i = _check_optimize_result(\n",
      "/home/maldeghi/anaconda3/envs/rogi_py38/lib/python3.8/site-packages/sklearn/linear_model/_logistic.py:444: ConvergenceWarning: lbfgs failed to converge (status=1):\n",
      "STOP: TOTAL NO. of ITERATIONS REACHED LIMIT.\n",
      "\n",
      "Increase the number of iterations (max_iter) or scale the data as shown in:\n",
      "    https://scikit-learn.org/stable/modules/preprocessing.html\n",
      "Please also refer to the documentation for alternative solver options:\n",
      "    https://scikit-learn.org/stable/modules/linear_model.html#logistic-regression\n",
      "  n_iter_i = _check_optimize_result(\n",
      "/home/maldeghi/anaconda3/envs/rogi_py38/lib/python3.8/site-packages/sklearn/linear_model/_logistic.py:444: ConvergenceWarning: lbfgs failed to converge (status=1):\n",
      "STOP: TOTAL NO. of ITERATIONS REACHED LIMIT.\n",
      "\n",
      "Increase the number of iterations (max_iter) or scale the data as shown in:\n",
      "    https://scikit-learn.org/stable/modules/preprocessing.html\n",
      "Please also refer to the documentation for alternative solver options:\n",
      "    https://scikit-learn.org/stable/modules/linear_model.html#logistic-regression\n",
      "  n_iter_i = _check_optimize_result(\n",
      "/home/maldeghi/anaconda3/envs/rogi_py38/lib/python3.8/site-packages/sklearn/linear_model/_logistic.py:444: ConvergenceWarning: lbfgs failed to converge (status=1):\n",
      "STOP: TOTAL NO. of ITERATIONS REACHED LIMIT.\n",
      "\n",
      "Increase the number of iterations (max_iter) or scale the data as shown in:\n",
      "    https://scikit-learn.org/stable/modules/preprocessing.html\n",
      "Please also refer to the documentation for alternative solver options:\n",
      "    https://scikit-learn.org/stable/modules/linear_model.html#logistic-regression\n",
      "  n_iter_i = _check_optimize_result(\n"
     ]
    },
    {
     "name": "stdout",
     "output_type": "stream",
     "text": [
      "RF SVC MLP \n",
      "CHEMBL264_Ki\n",
      "  -->  KNN LR "
     ]
    },
    {
     "name": "stderr",
     "output_type": "stream",
     "text": [
      "/home/maldeghi/anaconda3/envs/rogi_py38/lib/python3.8/site-packages/sklearn/linear_model/_logistic.py:444: ConvergenceWarning: lbfgs failed to converge (status=1):\n",
      "STOP: TOTAL NO. of ITERATIONS REACHED LIMIT.\n",
      "\n",
      "Increase the number of iterations (max_iter) or scale the data as shown in:\n",
      "    https://scikit-learn.org/stable/modules/preprocessing.html\n",
      "Please also refer to the documentation for alternative solver options:\n",
      "    https://scikit-learn.org/stable/modules/linear_model.html#logistic-regression\n",
      "  n_iter_i = _check_optimize_result(\n",
      "/home/maldeghi/anaconda3/envs/rogi_py38/lib/python3.8/site-packages/sklearn/linear_model/_logistic.py:444: ConvergenceWarning: lbfgs failed to converge (status=1):\n",
      "STOP: TOTAL NO. of ITERATIONS REACHED LIMIT.\n",
      "\n",
      "Increase the number of iterations (max_iter) or scale the data as shown in:\n",
      "    https://scikit-learn.org/stable/modules/preprocessing.html\n",
      "Please also refer to the documentation for alternative solver options:\n",
      "    https://scikit-learn.org/stable/modules/linear_model.html#logistic-regression\n",
      "  n_iter_i = _check_optimize_result(\n",
      "/home/maldeghi/anaconda3/envs/rogi_py38/lib/python3.8/site-packages/sklearn/linear_model/_logistic.py:444: ConvergenceWarning: lbfgs failed to converge (status=1):\n",
      "STOP: TOTAL NO. of ITERATIONS REACHED LIMIT.\n",
      "\n",
      "Increase the number of iterations (max_iter) or scale the data as shown in:\n",
      "    https://scikit-learn.org/stable/modules/preprocessing.html\n",
      "Please also refer to the documentation for alternative solver options:\n",
      "    https://scikit-learn.org/stable/modules/linear_model.html#logistic-regression\n",
      "  n_iter_i = _check_optimize_result(\n",
      "/home/maldeghi/anaconda3/envs/rogi_py38/lib/python3.8/site-packages/sklearn/linear_model/_logistic.py:444: ConvergenceWarning: lbfgs failed to converge (status=1):\n",
      "STOP: TOTAL NO. of ITERATIONS REACHED LIMIT.\n",
      "\n",
      "Increase the number of iterations (max_iter) or scale the data as shown in:\n",
      "    https://scikit-learn.org/stable/modules/preprocessing.html\n",
      "Please also refer to the documentation for alternative solver options:\n",
      "    https://scikit-learn.org/stable/modules/linear_model.html#logistic-regression\n",
      "  n_iter_i = _check_optimize_result(\n",
      "/home/maldeghi/anaconda3/envs/rogi_py38/lib/python3.8/site-packages/sklearn/linear_model/_logistic.py:444: ConvergenceWarning: lbfgs failed to converge (status=1):\n",
      "STOP: TOTAL NO. of ITERATIONS REACHED LIMIT.\n",
      "\n",
      "Increase the number of iterations (max_iter) or scale the data as shown in:\n",
      "    https://scikit-learn.org/stable/modules/preprocessing.html\n",
      "Please also refer to the documentation for alternative solver options:\n",
      "    https://scikit-learn.org/stable/modules/linear_model.html#logistic-regression\n",
      "  n_iter_i = _check_optimize_result(\n"
     ]
    },
    {
     "name": "stdout",
     "output_type": "stream",
     "text": [
      "RF SVC MLP \n",
      "CHEMBL238_Ki\n",
      "  -->  KNN LR "
     ]
    },
    {
     "name": "stderr",
     "output_type": "stream",
     "text": [
      "/home/maldeghi/anaconda3/envs/rogi_py38/lib/python3.8/site-packages/sklearn/linear_model/_logistic.py:444: ConvergenceWarning: lbfgs failed to converge (status=1):\n",
      "STOP: TOTAL NO. of ITERATIONS REACHED LIMIT.\n",
      "\n",
      "Increase the number of iterations (max_iter) or scale the data as shown in:\n",
      "    https://scikit-learn.org/stable/modules/preprocessing.html\n",
      "Please also refer to the documentation for alternative solver options:\n",
      "    https://scikit-learn.org/stable/modules/linear_model.html#logistic-regression\n",
      "  n_iter_i = _check_optimize_result(\n",
      "/home/maldeghi/anaconda3/envs/rogi_py38/lib/python3.8/site-packages/sklearn/linear_model/_logistic.py:444: ConvergenceWarning: lbfgs failed to converge (status=1):\n",
      "STOP: TOTAL NO. of ITERATIONS REACHED LIMIT.\n",
      "\n",
      "Increase the number of iterations (max_iter) or scale the data as shown in:\n",
      "    https://scikit-learn.org/stable/modules/preprocessing.html\n",
      "Please also refer to the documentation for alternative solver options:\n",
      "    https://scikit-learn.org/stable/modules/linear_model.html#logistic-regression\n",
      "  n_iter_i = _check_optimize_result(\n",
      "/home/maldeghi/anaconda3/envs/rogi_py38/lib/python3.8/site-packages/sklearn/linear_model/_logistic.py:444: ConvergenceWarning: lbfgs failed to converge (status=1):\n",
      "STOP: TOTAL NO. of ITERATIONS REACHED LIMIT.\n",
      "\n",
      "Increase the number of iterations (max_iter) or scale the data as shown in:\n",
      "    https://scikit-learn.org/stable/modules/preprocessing.html\n",
      "Please also refer to the documentation for alternative solver options:\n",
      "    https://scikit-learn.org/stable/modules/linear_model.html#logistic-regression\n",
      "  n_iter_i = _check_optimize_result(\n",
      "/home/maldeghi/anaconda3/envs/rogi_py38/lib/python3.8/site-packages/sklearn/linear_model/_logistic.py:444: ConvergenceWarning: lbfgs failed to converge (status=1):\n",
      "STOP: TOTAL NO. of ITERATIONS REACHED LIMIT.\n",
      "\n",
      "Increase the number of iterations (max_iter) or scale the data as shown in:\n",
      "    https://scikit-learn.org/stable/modules/preprocessing.html\n",
      "Please also refer to the documentation for alternative solver options:\n",
      "    https://scikit-learn.org/stable/modules/linear_model.html#logistic-regression\n",
      "  n_iter_i = _check_optimize_result(\n",
      "/home/maldeghi/anaconda3/envs/rogi_py38/lib/python3.8/site-packages/sklearn/linear_model/_logistic.py:444: ConvergenceWarning: lbfgs failed to converge (status=1):\n",
      "STOP: TOTAL NO. of ITERATIONS REACHED LIMIT.\n",
      "\n",
      "Increase the number of iterations (max_iter) or scale the data as shown in:\n",
      "    https://scikit-learn.org/stable/modules/preprocessing.html\n",
      "Please also refer to the documentation for alternative solver options:\n",
      "    https://scikit-learn.org/stable/modules/linear_model.html#logistic-regression\n",
      "  n_iter_i = _check_optimize_result(\n"
     ]
    },
    {
     "name": "stdout",
     "output_type": "stream",
     "text": [
      "RF SVC MLP \n",
      "CHEMBL1871_Ki\n",
      "  -->  KNN LR "
     ]
    },
    {
     "name": "stderr",
     "output_type": "stream",
     "text": [
      "/home/maldeghi/anaconda3/envs/rogi_py38/lib/python3.8/site-packages/sklearn/linear_model/_logistic.py:444: ConvergenceWarning: lbfgs failed to converge (status=1):\n",
      "STOP: TOTAL NO. of ITERATIONS REACHED LIMIT.\n",
      "\n",
      "Increase the number of iterations (max_iter) or scale the data as shown in:\n",
      "    https://scikit-learn.org/stable/modules/preprocessing.html\n",
      "Please also refer to the documentation for alternative solver options:\n",
      "    https://scikit-learn.org/stable/modules/linear_model.html#logistic-regression\n",
      "  n_iter_i = _check_optimize_result(\n",
      "/home/maldeghi/anaconda3/envs/rogi_py38/lib/python3.8/site-packages/sklearn/linear_model/_logistic.py:444: ConvergenceWarning: lbfgs failed to converge (status=1):\n",
      "STOP: TOTAL NO. of ITERATIONS REACHED LIMIT.\n",
      "\n",
      "Increase the number of iterations (max_iter) or scale the data as shown in:\n",
      "    https://scikit-learn.org/stable/modules/preprocessing.html\n",
      "Please also refer to the documentation for alternative solver options:\n",
      "    https://scikit-learn.org/stable/modules/linear_model.html#logistic-regression\n",
      "  n_iter_i = _check_optimize_result(\n",
      "/home/maldeghi/anaconda3/envs/rogi_py38/lib/python3.8/site-packages/sklearn/linear_model/_logistic.py:444: ConvergenceWarning: lbfgs failed to converge (status=1):\n",
      "STOP: TOTAL NO. of ITERATIONS REACHED LIMIT.\n",
      "\n",
      "Increase the number of iterations (max_iter) or scale the data as shown in:\n",
      "    https://scikit-learn.org/stable/modules/preprocessing.html\n",
      "Please also refer to the documentation for alternative solver options:\n",
      "    https://scikit-learn.org/stable/modules/linear_model.html#logistic-regression\n",
      "  n_iter_i = _check_optimize_result(\n",
      "/home/maldeghi/anaconda3/envs/rogi_py38/lib/python3.8/site-packages/sklearn/linear_model/_logistic.py:444: ConvergenceWarning: lbfgs failed to converge (status=1):\n",
      "STOP: TOTAL NO. of ITERATIONS REACHED LIMIT.\n",
      "\n",
      "Increase the number of iterations (max_iter) or scale the data as shown in:\n",
      "    https://scikit-learn.org/stable/modules/preprocessing.html\n",
      "Please also refer to the documentation for alternative solver options:\n",
      "    https://scikit-learn.org/stable/modules/linear_model.html#logistic-regression\n",
      "  n_iter_i = _check_optimize_result(\n"
     ]
    },
    {
     "name": "stdout",
     "output_type": "stream",
     "text": [
      "RF SVC MLP \n",
      "CHEMBL2971_Ki\n",
      "  -->  KNN LR "
     ]
    },
    {
     "name": "stderr",
     "output_type": "stream",
     "text": [
      "/home/maldeghi/anaconda3/envs/rogi_py38/lib/python3.8/site-packages/sklearn/linear_model/_logistic.py:444: ConvergenceWarning: lbfgs failed to converge (status=1):\n",
      "STOP: TOTAL NO. of ITERATIONS REACHED LIMIT.\n",
      "\n",
      "Increase the number of iterations (max_iter) or scale the data as shown in:\n",
      "    https://scikit-learn.org/stable/modules/preprocessing.html\n",
      "Please also refer to the documentation for alternative solver options:\n",
      "    https://scikit-learn.org/stable/modules/linear_model.html#logistic-regression\n",
      "  n_iter_i = _check_optimize_result(\n",
      "/home/maldeghi/anaconda3/envs/rogi_py38/lib/python3.8/site-packages/sklearn/linear_model/_logistic.py:444: ConvergenceWarning: lbfgs failed to converge (status=1):\n",
      "STOP: TOTAL NO. of ITERATIONS REACHED LIMIT.\n",
      "\n",
      "Increase the number of iterations (max_iter) or scale the data as shown in:\n",
      "    https://scikit-learn.org/stable/modules/preprocessing.html\n",
      "Please also refer to the documentation for alternative solver options:\n",
      "    https://scikit-learn.org/stable/modules/linear_model.html#logistic-regression\n",
      "  n_iter_i = _check_optimize_result(\n"
     ]
    },
    {
     "name": "stdout",
     "output_type": "stream",
     "text": [
      "RF SVC MLP \n",
      "CHEMBL233_Ki\n",
      "  -->  KNN LR "
     ]
    },
    {
     "name": "stderr",
     "output_type": "stream",
     "text": [
      "/home/maldeghi/anaconda3/envs/rogi_py38/lib/python3.8/site-packages/sklearn/linear_model/_logistic.py:444: ConvergenceWarning: lbfgs failed to converge (status=1):\n",
      "STOP: TOTAL NO. of ITERATIONS REACHED LIMIT.\n",
      "\n",
      "Increase the number of iterations (max_iter) or scale the data as shown in:\n",
      "    https://scikit-learn.org/stable/modules/preprocessing.html\n",
      "Please also refer to the documentation for alternative solver options:\n",
      "    https://scikit-learn.org/stable/modules/linear_model.html#logistic-regression\n",
      "  n_iter_i = _check_optimize_result(\n",
      "/home/maldeghi/anaconda3/envs/rogi_py38/lib/python3.8/site-packages/sklearn/linear_model/_logistic.py:444: ConvergenceWarning: lbfgs failed to converge (status=1):\n",
      "STOP: TOTAL NO. of ITERATIONS REACHED LIMIT.\n",
      "\n",
      "Increase the number of iterations (max_iter) or scale the data as shown in:\n",
      "    https://scikit-learn.org/stable/modules/preprocessing.html\n",
      "Please also refer to the documentation for alternative solver options:\n",
      "    https://scikit-learn.org/stable/modules/linear_model.html#logistic-regression\n",
      "  n_iter_i = _check_optimize_result(\n",
      "/home/maldeghi/anaconda3/envs/rogi_py38/lib/python3.8/site-packages/sklearn/linear_model/_logistic.py:444: ConvergenceWarning: lbfgs failed to converge (status=1):\n",
      "STOP: TOTAL NO. of ITERATIONS REACHED LIMIT.\n",
      "\n",
      "Increase the number of iterations (max_iter) or scale the data as shown in:\n",
      "    https://scikit-learn.org/stable/modules/preprocessing.html\n",
      "Please also refer to the documentation for alternative solver options:\n",
      "    https://scikit-learn.org/stable/modules/linear_model.html#logistic-regression\n",
      "  n_iter_i = _check_optimize_result(\n",
      "/home/maldeghi/anaconda3/envs/rogi_py38/lib/python3.8/site-packages/sklearn/linear_model/_logistic.py:444: ConvergenceWarning: lbfgs failed to converge (status=1):\n",
      "STOP: TOTAL NO. of ITERATIONS REACHED LIMIT.\n",
      "\n",
      "Increase the number of iterations (max_iter) or scale the data as shown in:\n",
      "    https://scikit-learn.org/stable/modules/preprocessing.html\n",
      "Please also refer to the documentation for alternative solver options:\n",
      "    https://scikit-learn.org/stable/modules/linear_model.html#logistic-regression\n",
      "  n_iter_i = _check_optimize_result(\n",
      "/home/maldeghi/anaconda3/envs/rogi_py38/lib/python3.8/site-packages/sklearn/linear_model/_logistic.py:444: ConvergenceWarning: lbfgs failed to converge (status=1):\n",
      "STOP: TOTAL NO. of ITERATIONS REACHED LIMIT.\n",
      "\n",
      "Increase the number of iterations (max_iter) or scale the data as shown in:\n",
      "    https://scikit-learn.org/stable/modules/preprocessing.html\n",
      "Please also refer to the documentation for alternative solver options:\n",
      "    https://scikit-learn.org/stable/modules/linear_model.html#logistic-regression\n",
      "  n_iter_i = _check_optimize_result(\n"
     ]
    },
    {
     "name": "stdout",
     "output_type": "stream",
     "text": [
      "RF SVC MLP \n",
      "CHEMBL262_Ki\n",
      "  -->  KNN LR "
     ]
    },
    {
     "name": "stderr",
     "output_type": "stream",
     "text": [
      "/home/maldeghi/anaconda3/envs/rogi_py38/lib/python3.8/site-packages/sklearn/linear_model/_logistic.py:444: ConvergenceWarning: lbfgs failed to converge (status=1):\n",
      "STOP: TOTAL NO. of ITERATIONS REACHED LIMIT.\n",
      "\n",
      "Increase the number of iterations (max_iter) or scale the data as shown in:\n",
      "    https://scikit-learn.org/stable/modules/preprocessing.html\n",
      "Please also refer to the documentation for alternative solver options:\n",
      "    https://scikit-learn.org/stable/modules/linear_model.html#logistic-regression\n",
      "  n_iter_i = _check_optimize_result(\n",
      "/home/maldeghi/anaconda3/envs/rogi_py38/lib/python3.8/site-packages/sklearn/linear_model/_logistic.py:444: ConvergenceWarning: lbfgs failed to converge (status=1):\n",
      "STOP: TOTAL NO. of ITERATIONS REACHED LIMIT.\n",
      "\n",
      "Increase the number of iterations (max_iter) or scale the data as shown in:\n",
      "    https://scikit-learn.org/stable/modules/preprocessing.html\n",
      "Please also refer to the documentation for alternative solver options:\n",
      "    https://scikit-learn.org/stable/modules/linear_model.html#logistic-regression\n",
      "  n_iter_i = _check_optimize_result(\n"
     ]
    },
    {
     "name": "stdout",
     "output_type": "stream",
     "text": [
      "RF SVC MLP \n",
      "CHEMBL287_Ki\n",
      "  -->  KNN LR "
     ]
    },
    {
     "name": "stderr",
     "output_type": "stream",
     "text": [
      "/home/maldeghi/anaconda3/envs/rogi_py38/lib/python3.8/site-packages/sklearn/linear_model/_logistic.py:444: ConvergenceWarning: lbfgs failed to converge (status=1):\n",
      "STOP: TOTAL NO. of ITERATIONS REACHED LIMIT.\n",
      "\n",
      "Increase the number of iterations (max_iter) or scale the data as shown in:\n",
      "    https://scikit-learn.org/stable/modules/preprocessing.html\n",
      "Please also refer to the documentation for alternative solver options:\n",
      "    https://scikit-learn.org/stable/modules/linear_model.html#logistic-regression\n",
      "  n_iter_i = _check_optimize_result(\n",
      "/home/maldeghi/anaconda3/envs/rogi_py38/lib/python3.8/site-packages/sklearn/linear_model/_logistic.py:444: ConvergenceWarning: lbfgs failed to converge (status=1):\n",
      "STOP: TOTAL NO. of ITERATIONS REACHED LIMIT.\n",
      "\n",
      "Increase the number of iterations (max_iter) or scale the data as shown in:\n",
      "    https://scikit-learn.org/stable/modules/preprocessing.html\n",
      "Please also refer to the documentation for alternative solver options:\n",
      "    https://scikit-learn.org/stable/modules/linear_model.html#logistic-regression\n",
      "  n_iter_i = _check_optimize_result(\n",
      "/home/maldeghi/anaconda3/envs/rogi_py38/lib/python3.8/site-packages/sklearn/linear_model/_logistic.py:444: ConvergenceWarning: lbfgs failed to converge (status=1):\n",
      "STOP: TOTAL NO. of ITERATIONS REACHED LIMIT.\n",
      "\n",
      "Increase the number of iterations (max_iter) or scale the data as shown in:\n",
      "    https://scikit-learn.org/stable/modules/preprocessing.html\n",
      "Please also refer to the documentation for alternative solver options:\n",
      "    https://scikit-learn.org/stable/modules/linear_model.html#logistic-regression\n",
      "  n_iter_i = _check_optimize_result(\n",
      "/home/maldeghi/anaconda3/envs/rogi_py38/lib/python3.8/site-packages/sklearn/linear_model/_logistic.py:444: ConvergenceWarning: lbfgs failed to converge (status=1):\n",
      "STOP: TOTAL NO. of ITERATIONS REACHED LIMIT.\n",
      "\n",
      "Increase the number of iterations (max_iter) or scale the data as shown in:\n",
      "    https://scikit-learn.org/stable/modules/preprocessing.html\n",
      "Please also refer to the documentation for alternative solver options:\n",
      "    https://scikit-learn.org/stable/modules/linear_model.html#logistic-regression\n",
      "  n_iter_i = _check_optimize_result(\n",
      "/home/maldeghi/anaconda3/envs/rogi_py38/lib/python3.8/site-packages/sklearn/linear_model/_logistic.py:444: ConvergenceWarning: lbfgs failed to converge (status=1):\n",
      "STOP: TOTAL NO. of ITERATIONS REACHED LIMIT.\n",
      "\n",
      "Increase the number of iterations (max_iter) or scale the data as shown in:\n",
      "    https://scikit-learn.org/stable/modules/preprocessing.html\n",
      "Please also refer to the documentation for alternative solver options:\n",
      "    https://scikit-learn.org/stable/modules/linear_model.html#logistic-regression\n",
      "  n_iter_i = _check_optimize_result(\n"
     ]
    },
    {
     "name": "stdout",
     "output_type": "stream",
     "text": [
      "RF SVC MLP \n",
      "CHEMBL4005_Ki\n",
      "  -->  KNN LR "
     ]
    },
    {
     "name": "stderr",
     "output_type": "stream",
     "text": [
      "/home/maldeghi/anaconda3/envs/rogi_py38/lib/python3.8/site-packages/sklearn/linear_model/_logistic.py:444: ConvergenceWarning: lbfgs failed to converge (status=1):\n",
      "STOP: TOTAL NO. of ITERATIONS REACHED LIMIT.\n",
      "\n",
      "Increase the number of iterations (max_iter) or scale the data as shown in:\n",
      "    https://scikit-learn.org/stable/modules/preprocessing.html\n",
      "Please also refer to the documentation for alternative solver options:\n",
      "    https://scikit-learn.org/stable/modules/linear_model.html#logistic-regression\n",
      "  n_iter_i = _check_optimize_result(\n",
      "/home/maldeghi/anaconda3/envs/rogi_py38/lib/python3.8/site-packages/sklearn/linear_model/_logistic.py:444: ConvergenceWarning: lbfgs failed to converge (status=1):\n",
      "STOP: TOTAL NO. of ITERATIONS REACHED LIMIT.\n",
      "\n",
      "Increase the number of iterations (max_iter) or scale the data as shown in:\n",
      "    https://scikit-learn.org/stable/modules/preprocessing.html\n",
      "Please also refer to the documentation for alternative solver options:\n",
      "    https://scikit-learn.org/stable/modules/linear_model.html#logistic-regression\n",
      "  n_iter_i = _check_optimize_result(\n",
      "/home/maldeghi/anaconda3/envs/rogi_py38/lib/python3.8/site-packages/sklearn/linear_model/_logistic.py:444: ConvergenceWarning: lbfgs failed to converge (status=1):\n",
      "STOP: TOTAL NO. of ITERATIONS REACHED LIMIT.\n",
      "\n",
      "Increase the number of iterations (max_iter) or scale the data as shown in:\n",
      "    https://scikit-learn.org/stable/modules/preprocessing.html\n",
      "Please also refer to the documentation for alternative solver options:\n",
      "    https://scikit-learn.org/stable/modules/linear_model.html#logistic-regression\n",
      "  n_iter_i = _check_optimize_result(\n",
      "/home/maldeghi/anaconda3/envs/rogi_py38/lib/python3.8/site-packages/sklearn/linear_model/_logistic.py:444: ConvergenceWarning: lbfgs failed to converge (status=1):\n",
      "STOP: TOTAL NO. of ITERATIONS REACHED LIMIT.\n",
      "\n",
      "Increase the number of iterations (max_iter) or scale the data as shown in:\n",
      "    https://scikit-learn.org/stable/modules/preprocessing.html\n",
      "Please also refer to the documentation for alternative solver options:\n",
      "    https://scikit-learn.org/stable/modules/linear_model.html#logistic-regression\n",
      "  n_iter_i = _check_optimize_result(\n",
      "/home/maldeghi/anaconda3/envs/rogi_py38/lib/python3.8/site-packages/sklearn/linear_model/_logistic.py:444: ConvergenceWarning: lbfgs failed to converge (status=1):\n",
      "STOP: TOTAL NO. of ITERATIONS REACHED LIMIT.\n",
      "\n",
      "Increase the number of iterations (max_iter) or scale the data as shown in:\n",
      "    https://scikit-learn.org/stable/modules/preprocessing.html\n",
      "Please also refer to the documentation for alternative solver options:\n",
      "    https://scikit-learn.org/stable/modules/linear_model.html#logistic-regression\n",
      "  n_iter_i = _check_optimize_result(\n"
     ]
    },
    {
     "name": "stdout",
     "output_type": "stream",
     "text": [
      "RF SVC MLP \n",
      "CHEMBL4203_Ki\n",
      "  -->  KNN LR RF SVC MLP \n",
      "CHEMBL214_Ki\n",
      "  -->  KNN LR "
     ]
    },
    {
     "name": "stderr",
     "output_type": "stream",
     "text": [
      "/home/maldeghi/anaconda3/envs/rogi_py38/lib/python3.8/site-packages/sklearn/linear_model/_logistic.py:444: ConvergenceWarning: lbfgs failed to converge (status=1):\n",
      "STOP: TOTAL NO. of ITERATIONS REACHED LIMIT.\n",
      "\n",
      "Increase the number of iterations (max_iter) or scale the data as shown in:\n",
      "    https://scikit-learn.org/stable/modules/preprocessing.html\n",
      "Please also refer to the documentation for alternative solver options:\n",
      "    https://scikit-learn.org/stable/modules/linear_model.html#logistic-regression\n",
      "  n_iter_i = _check_optimize_result(\n",
      "/home/maldeghi/anaconda3/envs/rogi_py38/lib/python3.8/site-packages/sklearn/linear_model/_logistic.py:444: ConvergenceWarning: lbfgs failed to converge (status=1):\n",
      "STOP: TOTAL NO. of ITERATIONS REACHED LIMIT.\n",
      "\n",
      "Increase the number of iterations (max_iter) or scale the data as shown in:\n",
      "    https://scikit-learn.org/stable/modules/preprocessing.html\n",
      "Please also refer to the documentation for alternative solver options:\n",
      "    https://scikit-learn.org/stable/modules/linear_model.html#logistic-regression\n",
      "  n_iter_i = _check_optimize_result(\n",
      "/home/maldeghi/anaconda3/envs/rogi_py38/lib/python3.8/site-packages/sklearn/linear_model/_logistic.py:444: ConvergenceWarning: lbfgs failed to converge (status=1):\n",
      "STOP: TOTAL NO. of ITERATIONS REACHED LIMIT.\n",
      "\n",
      "Increase the number of iterations (max_iter) or scale the data as shown in:\n",
      "    https://scikit-learn.org/stable/modules/preprocessing.html\n",
      "Please also refer to the documentation for alternative solver options:\n",
      "    https://scikit-learn.org/stable/modules/linear_model.html#logistic-regression\n",
      "  n_iter_i = _check_optimize_result(\n",
      "/home/maldeghi/anaconda3/envs/rogi_py38/lib/python3.8/site-packages/sklearn/linear_model/_logistic.py:444: ConvergenceWarning: lbfgs failed to converge (status=1):\n",
      "STOP: TOTAL NO. of ITERATIONS REACHED LIMIT.\n",
      "\n",
      "Increase the number of iterations (max_iter) or scale the data as shown in:\n",
      "    https://scikit-learn.org/stable/modules/preprocessing.html\n",
      "Please also refer to the documentation for alternative solver options:\n",
      "    https://scikit-learn.org/stable/modules/linear_model.html#logistic-regression\n",
      "  n_iter_i = _check_optimize_result(\n",
      "/home/maldeghi/anaconda3/envs/rogi_py38/lib/python3.8/site-packages/sklearn/linear_model/_logistic.py:444: ConvergenceWarning: lbfgs failed to converge (status=1):\n",
      "STOP: TOTAL NO. of ITERATIONS REACHED LIMIT.\n",
      "\n",
      "Increase the number of iterations (max_iter) or scale the data as shown in:\n",
      "    https://scikit-learn.org/stable/modules/preprocessing.html\n",
      "Please also refer to the documentation for alternative solver options:\n",
      "    https://scikit-learn.org/stable/modules/linear_model.html#logistic-regression\n",
      "  n_iter_i = _check_optimize_result(\n"
     ]
    },
    {
     "name": "stdout",
     "output_type": "stream",
     "text": [
      "RF SVC MLP \n",
      "CHEMBL237_Ki\n",
      "  -->  KNN LR "
     ]
    },
    {
     "name": "stderr",
     "output_type": "stream",
     "text": [
      "/home/maldeghi/anaconda3/envs/rogi_py38/lib/python3.8/site-packages/sklearn/linear_model/_logistic.py:444: ConvergenceWarning: lbfgs failed to converge (status=1):\n",
      "STOP: TOTAL NO. of ITERATIONS REACHED LIMIT.\n",
      "\n",
      "Increase the number of iterations (max_iter) or scale the data as shown in:\n",
      "    https://scikit-learn.org/stable/modules/preprocessing.html\n",
      "Please also refer to the documentation for alternative solver options:\n",
      "    https://scikit-learn.org/stable/modules/linear_model.html#logistic-regression\n",
      "  n_iter_i = _check_optimize_result(\n",
      "/home/maldeghi/anaconda3/envs/rogi_py38/lib/python3.8/site-packages/sklearn/linear_model/_logistic.py:444: ConvergenceWarning: lbfgs failed to converge (status=1):\n",
      "STOP: TOTAL NO. of ITERATIONS REACHED LIMIT.\n",
      "\n",
      "Increase the number of iterations (max_iter) or scale the data as shown in:\n",
      "    https://scikit-learn.org/stable/modules/preprocessing.html\n",
      "Please also refer to the documentation for alternative solver options:\n",
      "    https://scikit-learn.org/stable/modules/linear_model.html#logistic-regression\n",
      "  n_iter_i = _check_optimize_result(\n",
      "/home/maldeghi/anaconda3/envs/rogi_py38/lib/python3.8/site-packages/sklearn/linear_model/_logistic.py:444: ConvergenceWarning: lbfgs failed to converge (status=1):\n",
      "STOP: TOTAL NO. of ITERATIONS REACHED LIMIT.\n",
      "\n",
      "Increase the number of iterations (max_iter) or scale the data as shown in:\n",
      "    https://scikit-learn.org/stable/modules/preprocessing.html\n",
      "Please also refer to the documentation for alternative solver options:\n",
      "    https://scikit-learn.org/stable/modules/linear_model.html#logistic-regression\n",
      "  n_iter_i = _check_optimize_result(\n",
      "/home/maldeghi/anaconda3/envs/rogi_py38/lib/python3.8/site-packages/sklearn/linear_model/_logistic.py:444: ConvergenceWarning: lbfgs failed to converge (status=1):\n",
      "STOP: TOTAL NO. of ITERATIONS REACHED LIMIT.\n",
      "\n",
      "Increase the number of iterations (max_iter) or scale the data as shown in:\n",
      "    https://scikit-learn.org/stable/modules/preprocessing.html\n",
      "Please also refer to the documentation for alternative solver options:\n",
      "    https://scikit-learn.org/stable/modules/linear_model.html#logistic-regression\n",
      "  n_iter_i = _check_optimize_result(\n",
      "/home/maldeghi/anaconda3/envs/rogi_py38/lib/python3.8/site-packages/sklearn/linear_model/_logistic.py:444: ConvergenceWarning: lbfgs failed to converge (status=1):\n",
      "STOP: TOTAL NO. of ITERATIONS REACHED LIMIT.\n",
      "\n",
      "Increase the number of iterations (max_iter) or scale the data as shown in:\n",
      "    https://scikit-learn.org/stable/modules/preprocessing.html\n",
      "Please also refer to the documentation for alternative solver options:\n",
      "    https://scikit-learn.org/stable/modules/linear_model.html#logistic-regression\n",
      "  n_iter_i = _check_optimize_result(\n"
     ]
    },
    {
     "name": "stdout",
     "output_type": "stream",
     "text": [
      "RF SVC MLP \n",
      "CHEMBL218_EC50\n",
      "  -->  KNN LR "
     ]
    },
    {
     "name": "stderr",
     "output_type": "stream",
     "text": [
      "/home/maldeghi/anaconda3/envs/rogi_py38/lib/python3.8/site-packages/sklearn/linear_model/_logistic.py:444: ConvergenceWarning: lbfgs failed to converge (status=1):\n",
      "STOP: TOTAL NO. of ITERATIONS REACHED LIMIT.\n",
      "\n",
      "Increase the number of iterations (max_iter) or scale the data as shown in:\n",
      "    https://scikit-learn.org/stable/modules/preprocessing.html\n",
      "Please also refer to the documentation for alternative solver options:\n",
      "    https://scikit-learn.org/stable/modules/linear_model.html#logistic-regression\n",
      "  n_iter_i = _check_optimize_result(\n",
      "/home/maldeghi/anaconda3/envs/rogi_py38/lib/python3.8/site-packages/sklearn/linear_model/_logistic.py:444: ConvergenceWarning: lbfgs failed to converge (status=1):\n",
      "STOP: TOTAL NO. of ITERATIONS REACHED LIMIT.\n",
      "\n",
      "Increase the number of iterations (max_iter) or scale the data as shown in:\n",
      "    https://scikit-learn.org/stable/modules/preprocessing.html\n",
      "Please also refer to the documentation for alternative solver options:\n",
      "    https://scikit-learn.org/stable/modules/linear_model.html#logistic-regression\n",
      "  n_iter_i = _check_optimize_result(\n",
      "/home/maldeghi/anaconda3/envs/rogi_py38/lib/python3.8/site-packages/sklearn/linear_model/_logistic.py:444: ConvergenceWarning: lbfgs failed to converge (status=1):\n",
      "STOP: TOTAL NO. of ITERATIONS REACHED LIMIT.\n",
      "\n",
      "Increase the number of iterations (max_iter) or scale the data as shown in:\n",
      "    https://scikit-learn.org/stable/modules/preprocessing.html\n",
      "Please also refer to the documentation for alternative solver options:\n",
      "    https://scikit-learn.org/stable/modules/linear_model.html#logistic-regression\n",
      "  n_iter_i = _check_optimize_result(\n",
      "/home/maldeghi/anaconda3/envs/rogi_py38/lib/python3.8/site-packages/sklearn/linear_model/_logistic.py:444: ConvergenceWarning: lbfgs failed to converge (status=1):\n",
      "STOP: TOTAL NO. of ITERATIONS REACHED LIMIT.\n",
      "\n",
      "Increase the number of iterations (max_iter) or scale the data as shown in:\n",
      "    https://scikit-learn.org/stable/modules/preprocessing.html\n",
      "Please also refer to the documentation for alternative solver options:\n",
      "    https://scikit-learn.org/stable/modules/linear_model.html#logistic-regression\n",
      "  n_iter_i = _check_optimize_result(\n",
      "/home/maldeghi/anaconda3/envs/rogi_py38/lib/python3.8/site-packages/sklearn/linear_model/_logistic.py:444: ConvergenceWarning: lbfgs failed to converge (status=1):\n",
      "STOP: TOTAL NO. of ITERATIONS REACHED LIMIT.\n",
      "\n",
      "Increase the number of iterations (max_iter) or scale the data as shown in:\n",
      "    https://scikit-learn.org/stable/modules/preprocessing.html\n",
      "Please also refer to the documentation for alternative solver options:\n",
      "    https://scikit-learn.org/stable/modules/linear_model.html#logistic-regression\n",
      "  n_iter_i = _check_optimize_result(\n"
     ]
    },
    {
     "name": "stdout",
     "output_type": "stream",
     "text": [
      "RF SVC MLP \n",
      "CHEMBL4792_Ki\n",
      "  -->  KNN LR "
     ]
    },
    {
     "name": "stderr",
     "output_type": "stream",
     "text": [
      "/home/maldeghi/anaconda3/envs/rogi_py38/lib/python3.8/site-packages/sklearn/linear_model/_logistic.py:444: ConvergenceWarning: lbfgs failed to converge (status=1):\n",
      "STOP: TOTAL NO. of ITERATIONS REACHED LIMIT.\n",
      "\n",
      "Increase the number of iterations (max_iter) or scale the data as shown in:\n",
      "    https://scikit-learn.org/stable/modules/preprocessing.html\n",
      "Please also refer to the documentation for alternative solver options:\n",
      "    https://scikit-learn.org/stable/modules/linear_model.html#logistic-regression\n",
      "  n_iter_i = _check_optimize_result(\n",
      "/home/maldeghi/anaconda3/envs/rogi_py38/lib/python3.8/site-packages/sklearn/linear_model/_logistic.py:444: ConvergenceWarning: lbfgs failed to converge (status=1):\n",
      "STOP: TOTAL NO. of ITERATIONS REACHED LIMIT.\n",
      "\n",
      "Increase the number of iterations (max_iter) or scale the data as shown in:\n",
      "    https://scikit-learn.org/stable/modules/preprocessing.html\n",
      "Please also refer to the documentation for alternative solver options:\n",
      "    https://scikit-learn.org/stable/modules/linear_model.html#logistic-regression\n",
      "  n_iter_i = _check_optimize_result(\n",
      "/home/maldeghi/anaconda3/envs/rogi_py38/lib/python3.8/site-packages/sklearn/linear_model/_logistic.py:444: ConvergenceWarning: lbfgs failed to converge (status=1):\n",
      "STOP: TOTAL NO. of ITERATIONS REACHED LIMIT.\n",
      "\n",
      "Increase the number of iterations (max_iter) or scale the data as shown in:\n",
      "    https://scikit-learn.org/stable/modules/preprocessing.html\n",
      "Please also refer to the documentation for alternative solver options:\n",
      "    https://scikit-learn.org/stable/modules/linear_model.html#logistic-regression\n",
      "  n_iter_i = _check_optimize_result(\n",
      "/home/maldeghi/anaconda3/envs/rogi_py38/lib/python3.8/site-packages/sklearn/linear_model/_logistic.py:444: ConvergenceWarning: lbfgs failed to converge (status=1):\n",
      "STOP: TOTAL NO. of ITERATIONS REACHED LIMIT.\n",
      "\n",
      "Increase the number of iterations (max_iter) or scale the data as shown in:\n",
      "    https://scikit-learn.org/stable/modules/preprocessing.html\n",
      "Please also refer to the documentation for alternative solver options:\n",
      "    https://scikit-learn.org/stable/modules/linear_model.html#logistic-regression\n",
      "  n_iter_i = _check_optimize_result(\n",
      "/home/maldeghi/anaconda3/envs/rogi_py38/lib/python3.8/site-packages/sklearn/linear_model/_logistic.py:444: ConvergenceWarning: lbfgs failed to converge (status=1):\n",
      "STOP: TOTAL NO. of ITERATIONS REACHED LIMIT.\n",
      "\n",
      "Increase the number of iterations (max_iter) or scale the data as shown in:\n",
      "    https://scikit-learn.org/stable/modules/preprocessing.html\n",
      "Please also refer to the documentation for alternative solver options:\n",
      "    https://scikit-learn.org/stable/modules/linear_model.html#logistic-regression\n",
      "  n_iter_i = _check_optimize_result(\n"
     ]
    },
    {
     "name": "stdout",
     "output_type": "stream",
     "text": [
      "RF SVC MLP \n",
      "CHEMBL228_Ki\n",
      "  -->  KNN LR "
     ]
    },
    {
     "name": "stderr",
     "output_type": "stream",
     "text": [
      "/home/maldeghi/anaconda3/envs/rogi_py38/lib/python3.8/site-packages/sklearn/linear_model/_logistic.py:444: ConvergenceWarning: lbfgs failed to converge (status=1):\n",
      "STOP: TOTAL NO. of ITERATIONS REACHED LIMIT.\n",
      "\n",
      "Increase the number of iterations (max_iter) or scale the data as shown in:\n",
      "    https://scikit-learn.org/stable/modules/preprocessing.html\n",
      "Please also refer to the documentation for alternative solver options:\n",
      "    https://scikit-learn.org/stable/modules/linear_model.html#logistic-regression\n",
      "  n_iter_i = _check_optimize_result(\n",
      "/home/maldeghi/anaconda3/envs/rogi_py38/lib/python3.8/site-packages/sklearn/linear_model/_logistic.py:444: ConvergenceWarning: lbfgs failed to converge (status=1):\n",
      "STOP: TOTAL NO. of ITERATIONS REACHED LIMIT.\n",
      "\n",
      "Increase the number of iterations (max_iter) or scale the data as shown in:\n",
      "    https://scikit-learn.org/stable/modules/preprocessing.html\n",
      "Please also refer to the documentation for alternative solver options:\n",
      "    https://scikit-learn.org/stable/modules/linear_model.html#logistic-regression\n",
      "  n_iter_i = _check_optimize_result(\n",
      "/home/maldeghi/anaconda3/envs/rogi_py38/lib/python3.8/site-packages/sklearn/linear_model/_logistic.py:444: ConvergenceWarning: lbfgs failed to converge (status=1):\n",
      "STOP: TOTAL NO. of ITERATIONS REACHED LIMIT.\n",
      "\n",
      "Increase the number of iterations (max_iter) or scale the data as shown in:\n",
      "    https://scikit-learn.org/stable/modules/preprocessing.html\n",
      "Please also refer to the documentation for alternative solver options:\n",
      "    https://scikit-learn.org/stable/modules/linear_model.html#logistic-regression\n",
      "  n_iter_i = _check_optimize_result(\n",
      "/home/maldeghi/anaconda3/envs/rogi_py38/lib/python3.8/site-packages/sklearn/linear_model/_logistic.py:444: ConvergenceWarning: lbfgs failed to converge (status=1):\n",
      "STOP: TOTAL NO. of ITERATIONS REACHED LIMIT.\n",
      "\n",
      "Increase the number of iterations (max_iter) or scale the data as shown in:\n",
      "    https://scikit-learn.org/stable/modules/preprocessing.html\n",
      "Please also refer to the documentation for alternative solver options:\n",
      "    https://scikit-learn.org/stable/modules/linear_model.html#logistic-regression\n",
      "  n_iter_i = _check_optimize_result(\n",
      "/home/maldeghi/anaconda3/envs/rogi_py38/lib/python3.8/site-packages/sklearn/linear_model/_logistic.py:444: ConvergenceWarning: lbfgs failed to converge (status=1):\n",
      "STOP: TOTAL NO. of ITERATIONS REACHED LIMIT.\n",
      "\n",
      "Increase the number of iterations (max_iter) or scale the data as shown in:\n",
      "    https://scikit-learn.org/stable/modules/preprocessing.html\n",
      "Please also refer to the documentation for alternative solver options:\n",
      "    https://scikit-learn.org/stable/modules/linear_model.html#logistic-regression\n",
      "  n_iter_i = _check_optimize_result(\n"
     ]
    },
    {
     "name": "stdout",
     "output_type": "stream",
     "text": [
      "RF SVC MLP \n",
      "CHEMBL231_Ki\n",
      "  -->  KNN LR "
     ]
    },
    {
     "name": "stderr",
     "output_type": "stream",
     "text": [
      "/home/maldeghi/anaconda3/envs/rogi_py38/lib/python3.8/site-packages/sklearn/linear_model/_logistic.py:444: ConvergenceWarning: lbfgs failed to converge (status=1):\n",
      "STOP: TOTAL NO. of ITERATIONS REACHED LIMIT.\n",
      "\n",
      "Increase the number of iterations (max_iter) or scale the data as shown in:\n",
      "    https://scikit-learn.org/stable/modules/preprocessing.html\n",
      "Please also refer to the documentation for alternative solver options:\n",
      "    https://scikit-learn.org/stable/modules/linear_model.html#logistic-regression\n",
      "  n_iter_i = _check_optimize_result(\n",
      "/home/maldeghi/anaconda3/envs/rogi_py38/lib/python3.8/site-packages/sklearn/linear_model/_logistic.py:444: ConvergenceWarning: lbfgs failed to converge (status=1):\n",
      "STOP: TOTAL NO. of ITERATIONS REACHED LIMIT.\n",
      "\n",
      "Increase the number of iterations (max_iter) or scale the data as shown in:\n",
      "    https://scikit-learn.org/stable/modules/preprocessing.html\n",
      "Please also refer to the documentation for alternative solver options:\n",
      "    https://scikit-learn.org/stable/modules/linear_model.html#logistic-regression\n",
      "  n_iter_i = _check_optimize_result(\n",
      "/home/maldeghi/anaconda3/envs/rogi_py38/lib/python3.8/site-packages/sklearn/linear_model/_logistic.py:444: ConvergenceWarning: lbfgs failed to converge (status=1):\n",
      "STOP: TOTAL NO. of ITERATIONS REACHED LIMIT.\n",
      "\n",
      "Increase the number of iterations (max_iter) or scale the data as shown in:\n",
      "    https://scikit-learn.org/stable/modules/preprocessing.html\n",
      "Please also refer to the documentation for alternative solver options:\n",
      "    https://scikit-learn.org/stable/modules/linear_model.html#logistic-regression\n",
      "  n_iter_i = _check_optimize_result(\n"
     ]
    },
    {
     "name": "stdout",
     "output_type": "stream",
     "text": [
      "RF SVC MLP \n",
      "CHEMBL204_Ki\n",
      "  -->  KNN LR "
     ]
    },
    {
     "name": "stderr",
     "output_type": "stream",
     "text": [
      "/home/maldeghi/anaconda3/envs/rogi_py38/lib/python3.8/site-packages/sklearn/linear_model/_logistic.py:444: ConvergenceWarning: lbfgs failed to converge (status=1):\n",
      "STOP: TOTAL NO. of ITERATIONS REACHED LIMIT.\n",
      "\n",
      "Increase the number of iterations (max_iter) or scale the data as shown in:\n",
      "    https://scikit-learn.org/stable/modules/preprocessing.html\n",
      "Please also refer to the documentation for alternative solver options:\n",
      "    https://scikit-learn.org/stable/modules/linear_model.html#logistic-regression\n",
      "  n_iter_i = _check_optimize_result(\n",
      "/home/maldeghi/anaconda3/envs/rogi_py38/lib/python3.8/site-packages/sklearn/linear_model/_logistic.py:444: ConvergenceWarning: lbfgs failed to converge (status=1):\n",
      "STOP: TOTAL NO. of ITERATIONS REACHED LIMIT.\n",
      "\n",
      "Increase the number of iterations (max_iter) or scale the data as shown in:\n",
      "    https://scikit-learn.org/stable/modules/preprocessing.html\n",
      "Please also refer to the documentation for alternative solver options:\n",
      "    https://scikit-learn.org/stable/modules/linear_model.html#logistic-regression\n",
      "  n_iter_i = _check_optimize_result(\n",
      "/home/maldeghi/anaconda3/envs/rogi_py38/lib/python3.8/site-packages/sklearn/linear_model/_logistic.py:444: ConvergenceWarning: lbfgs failed to converge (status=1):\n",
      "STOP: TOTAL NO. of ITERATIONS REACHED LIMIT.\n",
      "\n",
      "Increase the number of iterations (max_iter) or scale the data as shown in:\n",
      "    https://scikit-learn.org/stable/modules/preprocessing.html\n",
      "Please also refer to the documentation for alternative solver options:\n",
      "    https://scikit-learn.org/stable/modules/linear_model.html#logistic-regression\n",
      "  n_iter_i = _check_optimize_result(\n",
      "/home/maldeghi/anaconda3/envs/rogi_py38/lib/python3.8/site-packages/sklearn/linear_model/_logistic.py:444: ConvergenceWarning: lbfgs failed to converge (status=1):\n",
      "STOP: TOTAL NO. of ITERATIONS REACHED LIMIT.\n",
      "\n",
      "Increase the number of iterations (max_iter) or scale the data as shown in:\n",
      "    https://scikit-learn.org/stable/modules/preprocessing.html\n",
      "Please also refer to the documentation for alternative solver options:\n",
      "    https://scikit-learn.org/stable/modules/linear_model.html#logistic-regression\n",
      "  n_iter_i = _check_optimize_result(\n",
      "/home/maldeghi/anaconda3/envs/rogi_py38/lib/python3.8/site-packages/sklearn/linear_model/_logistic.py:444: ConvergenceWarning: lbfgs failed to converge (status=1):\n",
      "STOP: TOTAL NO. of ITERATIONS REACHED LIMIT.\n",
      "\n",
      "Increase the number of iterations (max_iter) or scale the data as shown in:\n",
      "    https://scikit-learn.org/stable/modules/preprocessing.html\n",
      "Please also refer to the documentation for alternative solver options:\n",
      "    https://scikit-learn.org/stable/modules/linear_model.html#logistic-regression\n",
      "  n_iter_i = _check_optimize_result(\n"
     ]
    },
    {
     "name": "stdout",
     "output_type": "stream",
     "text": [
      "RF SVC MLP \n",
      "CHEMBL4616_EC50\n",
      "  -->  KNN LR "
     ]
    },
    {
     "name": "stderr",
     "output_type": "stream",
     "text": [
      "/home/maldeghi/anaconda3/envs/rogi_py38/lib/python3.8/site-packages/sklearn/linear_model/_logistic.py:444: ConvergenceWarning: lbfgs failed to converge (status=1):\n",
      "STOP: TOTAL NO. of ITERATIONS REACHED LIMIT.\n",
      "\n",
      "Increase the number of iterations (max_iter) or scale the data as shown in:\n",
      "    https://scikit-learn.org/stable/modules/preprocessing.html\n",
      "Please also refer to the documentation for alternative solver options:\n",
      "    https://scikit-learn.org/stable/modules/linear_model.html#logistic-regression\n",
      "  n_iter_i = _check_optimize_result(\n",
      "/home/maldeghi/anaconda3/envs/rogi_py38/lib/python3.8/site-packages/sklearn/linear_model/_logistic.py:444: ConvergenceWarning: lbfgs failed to converge (status=1):\n",
      "STOP: TOTAL NO. of ITERATIONS REACHED LIMIT.\n",
      "\n",
      "Increase the number of iterations (max_iter) or scale the data as shown in:\n",
      "    https://scikit-learn.org/stable/modules/preprocessing.html\n",
      "Please also refer to the documentation for alternative solver options:\n",
      "    https://scikit-learn.org/stable/modules/linear_model.html#logistic-regression\n",
      "  n_iter_i = _check_optimize_result(\n",
      "/home/maldeghi/anaconda3/envs/rogi_py38/lib/python3.8/site-packages/sklearn/linear_model/_logistic.py:444: ConvergenceWarning: lbfgs failed to converge (status=1):\n",
      "STOP: TOTAL NO. of ITERATIONS REACHED LIMIT.\n",
      "\n",
      "Increase the number of iterations (max_iter) or scale the data as shown in:\n",
      "    https://scikit-learn.org/stable/modules/preprocessing.html\n",
      "Please also refer to the documentation for alternative solver options:\n",
      "    https://scikit-learn.org/stable/modules/linear_model.html#logistic-regression\n",
      "  n_iter_i = _check_optimize_result(\n",
      "/home/maldeghi/anaconda3/envs/rogi_py38/lib/python3.8/site-packages/sklearn/linear_model/_logistic.py:444: ConvergenceWarning: lbfgs failed to converge (status=1):\n",
      "STOP: TOTAL NO. of ITERATIONS REACHED LIMIT.\n",
      "\n",
      "Increase the number of iterations (max_iter) or scale the data as shown in:\n",
      "    https://scikit-learn.org/stable/modules/preprocessing.html\n",
      "Please also refer to the documentation for alternative solver options:\n",
      "    https://scikit-learn.org/stable/modules/linear_model.html#logistic-regression\n",
      "  n_iter_i = _check_optimize_result(\n",
      "/home/maldeghi/anaconda3/envs/rogi_py38/lib/python3.8/site-packages/sklearn/linear_model/_logistic.py:444: ConvergenceWarning: lbfgs failed to converge (status=1):\n",
      "STOP: TOTAL NO. of ITERATIONS REACHED LIMIT.\n",
      "\n",
      "Increase the number of iterations (max_iter) or scale the data as shown in:\n",
      "    https://scikit-learn.org/stable/modules/preprocessing.html\n",
      "Please also refer to the documentation for alternative solver options:\n",
      "    https://scikit-learn.org/stable/modules/linear_model.html#logistic-regression\n",
      "  n_iter_i = _check_optimize_result(\n"
     ]
    },
    {
     "name": "stdout",
     "output_type": "stream",
     "text": [
      "RF SVC MLP \n",
      "CHEMBL239_EC50\n",
      "  -->  KNN LR "
     ]
    },
    {
     "name": "stderr",
     "output_type": "stream",
     "text": [
      "/home/maldeghi/anaconda3/envs/rogi_py38/lib/python3.8/site-packages/sklearn/linear_model/_logistic.py:444: ConvergenceWarning: lbfgs failed to converge (status=1):\n",
      "STOP: TOTAL NO. of ITERATIONS REACHED LIMIT.\n",
      "\n",
      "Increase the number of iterations (max_iter) or scale the data as shown in:\n",
      "    https://scikit-learn.org/stable/modules/preprocessing.html\n",
      "Please also refer to the documentation for alternative solver options:\n",
      "    https://scikit-learn.org/stable/modules/linear_model.html#logistic-regression\n",
      "  n_iter_i = _check_optimize_result(\n",
      "/home/maldeghi/anaconda3/envs/rogi_py38/lib/python3.8/site-packages/sklearn/linear_model/_logistic.py:444: ConvergenceWarning: lbfgs failed to converge (status=1):\n",
      "STOP: TOTAL NO. of ITERATIONS REACHED LIMIT.\n",
      "\n",
      "Increase the number of iterations (max_iter) or scale the data as shown in:\n",
      "    https://scikit-learn.org/stable/modules/preprocessing.html\n",
      "Please also refer to the documentation for alternative solver options:\n",
      "    https://scikit-learn.org/stable/modules/linear_model.html#logistic-regression\n",
      "  n_iter_i = _check_optimize_result(\n",
      "/home/maldeghi/anaconda3/envs/rogi_py38/lib/python3.8/site-packages/sklearn/linear_model/_logistic.py:444: ConvergenceWarning: lbfgs failed to converge (status=1):\n",
      "STOP: TOTAL NO. of ITERATIONS REACHED LIMIT.\n",
      "\n",
      "Increase the number of iterations (max_iter) or scale the data as shown in:\n",
      "    https://scikit-learn.org/stable/modules/preprocessing.html\n",
      "Please also refer to the documentation for alternative solver options:\n",
      "    https://scikit-learn.org/stable/modules/linear_model.html#logistic-regression\n",
      "  n_iter_i = _check_optimize_result(\n",
      "/home/maldeghi/anaconda3/envs/rogi_py38/lib/python3.8/site-packages/sklearn/linear_model/_logistic.py:444: ConvergenceWarning: lbfgs failed to converge (status=1):\n",
      "STOP: TOTAL NO. of ITERATIONS REACHED LIMIT.\n",
      "\n",
      "Increase the number of iterations (max_iter) or scale the data as shown in:\n",
      "    https://scikit-learn.org/stable/modules/preprocessing.html\n",
      "Please also refer to the documentation for alternative solver options:\n",
      "    https://scikit-learn.org/stable/modules/linear_model.html#logistic-regression\n",
      "  n_iter_i = _check_optimize_result(\n",
      "/home/maldeghi/anaconda3/envs/rogi_py38/lib/python3.8/site-packages/sklearn/linear_model/_logistic.py:444: ConvergenceWarning: lbfgs failed to converge (status=1):\n",
      "STOP: TOTAL NO. of ITERATIONS REACHED LIMIT.\n",
      "\n",
      "Increase the number of iterations (max_iter) or scale the data as shown in:\n",
      "    https://scikit-learn.org/stable/modules/preprocessing.html\n",
      "Please also refer to the documentation for alternative solver options:\n",
      "    https://scikit-learn.org/stable/modules/linear_model.html#logistic-regression\n",
      "  n_iter_i = _check_optimize_result(\n"
     ]
    },
    {
     "name": "stdout",
     "output_type": "stream",
     "text": [
      "RF SVC MLP \n",
      "CHEMBL244_Ki\n",
      "  -->  KNN LR "
     ]
    },
    {
     "name": "stderr",
     "output_type": "stream",
     "text": [
      "/home/maldeghi/anaconda3/envs/rogi_py38/lib/python3.8/site-packages/sklearn/linear_model/_logistic.py:444: ConvergenceWarning: lbfgs failed to converge (status=1):\n",
      "STOP: TOTAL NO. of ITERATIONS REACHED LIMIT.\n",
      "\n",
      "Increase the number of iterations (max_iter) or scale the data as shown in:\n",
      "    https://scikit-learn.org/stable/modules/preprocessing.html\n",
      "Please also refer to the documentation for alternative solver options:\n",
      "    https://scikit-learn.org/stable/modules/linear_model.html#logistic-regression\n",
      "  n_iter_i = _check_optimize_result(\n",
      "/home/maldeghi/anaconda3/envs/rogi_py38/lib/python3.8/site-packages/sklearn/linear_model/_logistic.py:444: ConvergenceWarning: lbfgs failed to converge (status=1):\n",
      "STOP: TOTAL NO. of ITERATIONS REACHED LIMIT.\n",
      "\n",
      "Increase the number of iterations (max_iter) or scale the data as shown in:\n",
      "    https://scikit-learn.org/stable/modules/preprocessing.html\n",
      "Please also refer to the documentation for alternative solver options:\n",
      "    https://scikit-learn.org/stable/modules/linear_model.html#logistic-regression\n",
      "  n_iter_i = _check_optimize_result(\n",
      "/home/maldeghi/anaconda3/envs/rogi_py38/lib/python3.8/site-packages/sklearn/linear_model/_logistic.py:444: ConvergenceWarning: lbfgs failed to converge (status=1):\n",
      "STOP: TOTAL NO. of ITERATIONS REACHED LIMIT.\n",
      "\n",
      "Increase the number of iterations (max_iter) or scale the data as shown in:\n",
      "    https://scikit-learn.org/stable/modules/preprocessing.html\n",
      "Please also refer to the documentation for alternative solver options:\n",
      "    https://scikit-learn.org/stable/modules/linear_model.html#logistic-regression\n",
      "  n_iter_i = _check_optimize_result(\n",
      "/home/maldeghi/anaconda3/envs/rogi_py38/lib/python3.8/site-packages/sklearn/linear_model/_logistic.py:444: ConvergenceWarning: lbfgs failed to converge (status=1):\n",
      "STOP: TOTAL NO. of ITERATIONS REACHED LIMIT.\n",
      "\n",
      "Increase the number of iterations (max_iter) or scale the data as shown in:\n",
      "    https://scikit-learn.org/stable/modules/preprocessing.html\n",
      "Please also refer to the documentation for alternative solver options:\n",
      "    https://scikit-learn.org/stable/modules/linear_model.html#logistic-regression\n",
      "  n_iter_i = _check_optimize_result(\n",
      "/home/maldeghi/anaconda3/envs/rogi_py38/lib/python3.8/site-packages/sklearn/linear_model/_logistic.py:444: ConvergenceWarning: lbfgs failed to converge (status=1):\n",
      "STOP: TOTAL NO. of ITERATIONS REACHED LIMIT.\n",
      "\n",
      "Increase the number of iterations (max_iter) or scale the data as shown in:\n",
      "    https://scikit-learn.org/stable/modules/preprocessing.html\n",
      "Please also refer to the documentation for alternative solver options:\n",
      "    https://scikit-learn.org/stable/modules/linear_model.html#logistic-regression\n",
      "  n_iter_i = _check_optimize_result(\n"
     ]
    },
    {
     "name": "stdout",
     "output_type": "stream",
     "text": [
      "RF SVC MLP \n",
      "CHEMBL237_EC50\n",
      "  -->  KNN LR "
     ]
    },
    {
     "name": "stderr",
     "output_type": "stream",
     "text": [
      "/home/maldeghi/anaconda3/envs/rogi_py38/lib/python3.8/site-packages/sklearn/linear_model/_logistic.py:444: ConvergenceWarning: lbfgs failed to converge (status=1):\n",
      "STOP: TOTAL NO. of ITERATIONS REACHED LIMIT.\n",
      "\n",
      "Increase the number of iterations (max_iter) or scale the data as shown in:\n",
      "    https://scikit-learn.org/stable/modules/preprocessing.html\n",
      "Please also refer to the documentation for alternative solver options:\n",
      "    https://scikit-learn.org/stable/modules/linear_model.html#logistic-regression\n",
      "  n_iter_i = _check_optimize_result(\n",
      "/home/maldeghi/anaconda3/envs/rogi_py38/lib/python3.8/site-packages/sklearn/linear_model/_logistic.py:444: ConvergenceWarning: lbfgs failed to converge (status=1):\n",
      "STOP: TOTAL NO. of ITERATIONS REACHED LIMIT.\n",
      "\n",
      "Increase the number of iterations (max_iter) or scale the data as shown in:\n",
      "    https://scikit-learn.org/stable/modules/preprocessing.html\n",
      "Please also refer to the documentation for alternative solver options:\n",
      "    https://scikit-learn.org/stable/modules/linear_model.html#logistic-regression\n",
      "  n_iter_i = _check_optimize_result(\n",
      "/home/maldeghi/anaconda3/envs/rogi_py38/lib/python3.8/site-packages/sklearn/linear_model/_logistic.py:444: ConvergenceWarning: lbfgs failed to converge (status=1):\n",
      "STOP: TOTAL NO. of ITERATIONS REACHED LIMIT.\n",
      "\n",
      "Increase the number of iterations (max_iter) or scale the data as shown in:\n",
      "    https://scikit-learn.org/stable/modules/preprocessing.html\n",
      "Please also refer to the documentation for alternative solver options:\n",
      "    https://scikit-learn.org/stable/modules/linear_model.html#logistic-regression\n",
      "  n_iter_i = _check_optimize_result(\n",
      "/home/maldeghi/anaconda3/envs/rogi_py38/lib/python3.8/site-packages/sklearn/linear_model/_logistic.py:444: ConvergenceWarning: lbfgs failed to converge (status=1):\n",
      "STOP: TOTAL NO. of ITERATIONS REACHED LIMIT.\n",
      "\n",
      "Increase the number of iterations (max_iter) or scale the data as shown in:\n",
      "    https://scikit-learn.org/stable/modules/preprocessing.html\n",
      "Please also refer to the documentation for alternative solver options:\n",
      "    https://scikit-learn.org/stable/modules/linear_model.html#logistic-regression\n",
      "  n_iter_i = _check_optimize_result(\n",
      "/home/maldeghi/anaconda3/envs/rogi_py38/lib/python3.8/site-packages/sklearn/linear_model/_logistic.py:444: ConvergenceWarning: lbfgs failed to converge (status=1):\n",
      "STOP: TOTAL NO. of ITERATIONS REACHED LIMIT.\n",
      "\n",
      "Increase the number of iterations (max_iter) or scale the data as shown in:\n",
      "    https://scikit-learn.org/stable/modules/preprocessing.html\n",
      "Please also refer to the documentation for alternative solver options:\n",
      "    https://scikit-learn.org/stable/modules/linear_model.html#logistic-regression\n",
      "  n_iter_i = _check_optimize_result(\n"
     ]
    },
    {
     "name": "stdout",
     "output_type": "stream",
     "text": [
      "RF SVC MLP \n",
      "CHEMBL2047_EC50\n",
      "  -->  KNN LR "
     ]
    },
    {
     "name": "stderr",
     "output_type": "stream",
     "text": [
      "/home/maldeghi/anaconda3/envs/rogi_py38/lib/python3.8/site-packages/sklearn/linear_model/_logistic.py:444: ConvergenceWarning: lbfgs failed to converge (status=1):\n",
      "STOP: TOTAL NO. of ITERATIONS REACHED LIMIT.\n",
      "\n",
      "Increase the number of iterations (max_iter) or scale the data as shown in:\n",
      "    https://scikit-learn.org/stable/modules/preprocessing.html\n",
      "Please also refer to the documentation for alternative solver options:\n",
      "    https://scikit-learn.org/stable/modules/linear_model.html#logistic-regression\n",
      "  n_iter_i = _check_optimize_result(\n",
      "/home/maldeghi/anaconda3/envs/rogi_py38/lib/python3.8/site-packages/sklearn/linear_model/_logistic.py:444: ConvergenceWarning: lbfgs failed to converge (status=1):\n",
      "STOP: TOTAL NO. of ITERATIONS REACHED LIMIT.\n",
      "\n",
      "Increase the number of iterations (max_iter) or scale the data as shown in:\n",
      "    https://scikit-learn.org/stable/modules/preprocessing.html\n",
      "Please also refer to the documentation for alternative solver options:\n",
      "    https://scikit-learn.org/stable/modules/linear_model.html#logistic-regression\n",
      "  n_iter_i = _check_optimize_result(\n",
      "/home/maldeghi/anaconda3/envs/rogi_py38/lib/python3.8/site-packages/sklearn/linear_model/_logistic.py:444: ConvergenceWarning: lbfgs failed to converge (status=1):\n",
      "STOP: TOTAL NO. of ITERATIONS REACHED LIMIT.\n",
      "\n",
      "Increase the number of iterations (max_iter) or scale the data as shown in:\n",
      "    https://scikit-learn.org/stable/modules/preprocessing.html\n",
      "Please also refer to the documentation for alternative solver options:\n",
      "    https://scikit-learn.org/stable/modules/linear_model.html#logistic-regression\n",
      "  n_iter_i = _check_optimize_result(\n",
      "/home/maldeghi/anaconda3/envs/rogi_py38/lib/python3.8/site-packages/sklearn/linear_model/_logistic.py:444: ConvergenceWarning: lbfgs failed to converge (status=1):\n",
      "STOP: TOTAL NO. of ITERATIONS REACHED LIMIT.\n",
      "\n",
      "Increase the number of iterations (max_iter) or scale the data as shown in:\n",
      "    https://scikit-learn.org/stable/modules/preprocessing.html\n",
      "Please also refer to the documentation for alternative solver options:\n",
      "    https://scikit-learn.org/stable/modules/linear_model.html#logistic-regression\n",
      "  n_iter_i = _check_optimize_result(\n",
      "/home/maldeghi/anaconda3/envs/rogi_py38/lib/python3.8/site-packages/sklearn/linear_model/_logistic.py:444: ConvergenceWarning: lbfgs failed to converge (status=1):\n",
      "STOP: TOTAL NO. of ITERATIONS REACHED LIMIT.\n",
      "\n",
      "Increase the number of iterations (max_iter) or scale the data as shown in:\n",
      "    https://scikit-learn.org/stable/modules/preprocessing.html\n",
      "Please also refer to the documentation for alternative solver options:\n",
      "    https://scikit-learn.org/stable/modules/linear_model.html#logistic-regression\n",
      "  n_iter_i = _check_optimize_result(\n"
     ]
    },
    {
     "name": "stdout",
     "output_type": "stream",
     "text": [
      "RF SVC MLP \n",
      "CHEMBL1862_Ki\n",
      "  -->  KNN LR "
     ]
    },
    {
     "name": "stderr",
     "output_type": "stream",
     "text": [
      "/home/maldeghi/anaconda3/envs/rogi_py38/lib/python3.8/site-packages/sklearn/linear_model/_logistic.py:444: ConvergenceWarning: lbfgs failed to converge (status=1):\n",
      "STOP: TOTAL NO. of ITERATIONS REACHED LIMIT.\n",
      "\n",
      "Increase the number of iterations (max_iter) or scale the data as shown in:\n",
      "    https://scikit-learn.org/stable/modules/preprocessing.html\n",
      "Please also refer to the documentation for alternative solver options:\n",
      "    https://scikit-learn.org/stable/modules/linear_model.html#logistic-regression\n",
      "  n_iter_i = _check_optimize_result(\n"
     ]
    },
    {
     "name": "stdout",
     "output_type": "stream",
     "text": [
      "RF SVC MLP \n",
      "CHEMBL234_Ki\n",
      "  -->  KNN LR "
     ]
    },
    {
     "name": "stderr",
     "output_type": "stream",
     "text": [
      "/home/maldeghi/anaconda3/envs/rogi_py38/lib/python3.8/site-packages/sklearn/linear_model/_logistic.py:444: ConvergenceWarning: lbfgs failed to converge (status=1):\n",
      "STOP: TOTAL NO. of ITERATIONS REACHED LIMIT.\n",
      "\n",
      "Increase the number of iterations (max_iter) or scale the data as shown in:\n",
      "    https://scikit-learn.org/stable/modules/preprocessing.html\n",
      "Please also refer to the documentation for alternative solver options:\n",
      "    https://scikit-learn.org/stable/modules/linear_model.html#logistic-regression\n",
      "  n_iter_i = _check_optimize_result(\n",
      "/home/maldeghi/anaconda3/envs/rogi_py38/lib/python3.8/site-packages/sklearn/linear_model/_logistic.py:444: ConvergenceWarning: lbfgs failed to converge (status=1):\n",
      "STOP: TOTAL NO. of ITERATIONS REACHED LIMIT.\n",
      "\n",
      "Increase the number of iterations (max_iter) or scale the data as shown in:\n",
      "    https://scikit-learn.org/stable/modules/preprocessing.html\n",
      "Please also refer to the documentation for alternative solver options:\n",
      "    https://scikit-learn.org/stable/modules/linear_model.html#logistic-regression\n",
      "  n_iter_i = _check_optimize_result(\n",
      "/home/maldeghi/anaconda3/envs/rogi_py38/lib/python3.8/site-packages/sklearn/linear_model/_logistic.py:444: ConvergenceWarning: lbfgs failed to converge (status=1):\n",
      "STOP: TOTAL NO. of ITERATIONS REACHED LIMIT.\n",
      "\n",
      "Increase the number of iterations (max_iter) or scale the data as shown in:\n",
      "    https://scikit-learn.org/stable/modules/preprocessing.html\n",
      "Please also refer to the documentation for alternative solver options:\n",
      "    https://scikit-learn.org/stable/modules/linear_model.html#logistic-regression\n",
      "  n_iter_i = _check_optimize_result(\n",
      "/home/maldeghi/anaconda3/envs/rogi_py38/lib/python3.8/site-packages/sklearn/linear_model/_logistic.py:444: ConvergenceWarning: lbfgs failed to converge (status=1):\n",
      "STOP: TOTAL NO. of ITERATIONS REACHED LIMIT.\n",
      "\n",
      "Increase the number of iterations (max_iter) or scale the data as shown in:\n",
      "    https://scikit-learn.org/stable/modules/preprocessing.html\n",
      "Please also refer to the documentation for alternative solver options:\n",
      "    https://scikit-learn.org/stable/modules/linear_model.html#logistic-regression\n",
      "  n_iter_i = _check_optimize_result(\n",
      "/home/maldeghi/anaconda3/envs/rogi_py38/lib/python3.8/site-packages/sklearn/linear_model/_logistic.py:444: ConvergenceWarning: lbfgs failed to converge (status=1):\n",
      "STOP: TOTAL NO. of ITERATIONS REACHED LIMIT.\n",
      "\n",
      "Increase the number of iterations (max_iter) or scale the data as shown in:\n",
      "    https://scikit-learn.org/stable/modules/preprocessing.html\n",
      "Please also refer to the documentation for alternative solver options:\n",
      "    https://scikit-learn.org/stable/modules/linear_model.html#logistic-regression\n",
      "  n_iter_i = _check_optimize_result(\n"
     ]
    },
    {
     "name": "stdout",
     "output_type": "stream",
     "text": [
      "RF SVC MLP \n",
      "CHEMBL235_EC50\n",
      "  -->  KNN LR "
     ]
    },
    {
     "name": "stderr",
     "output_type": "stream",
     "text": [
      "/home/maldeghi/anaconda3/envs/rogi_py38/lib/python3.8/site-packages/sklearn/linear_model/_logistic.py:444: ConvergenceWarning: lbfgs failed to converge (status=1):\n",
      "STOP: TOTAL NO. of ITERATIONS REACHED LIMIT.\n",
      "\n",
      "Increase the number of iterations (max_iter) or scale the data as shown in:\n",
      "    https://scikit-learn.org/stable/modules/preprocessing.html\n",
      "Please also refer to the documentation for alternative solver options:\n",
      "    https://scikit-learn.org/stable/modules/linear_model.html#logistic-regression\n",
      "  n_iter_i = _check_optimize_result(\n",
      "/home/maldeghi/anaconda3/envs/rogi_py38/lib/python3.8/site-packages/sklearn/linear_model/_logistic.py:444: ConvergenceWarning: lbfgs failed to converge (status=1):\n",
      "STOP: TOTAL NO. of ITERATIONS REACHED LIMIT.\n",
      "\n",
      "Increase the number of iterations (max_iter) or scale the data as shown in:\n",
      "    https://scikit-learn.org/stable/modules/preprocessing.html\n",
      "Please also refer to the documentation for alternative solver options:\n",
      "    https://scikit-learn.org/stable/modules/linear_model.html#logistic-regression\n",
      "  n_iter_i = _check_optimize_result(\n",
      "/home/maldeghi/anaconda3/envs/rogi_py38/lib/python3.8/site-packages/sklearn/linear_model/_logistic.py:444: ConvergenceWarning: lbfgs failed to converge (status=1):\n",
      "STOP: TOTAL NO. of ITERATIONS REACHED LIMIT.\n",
      "\n",
      "Increase the number of iterations (max_iter) or scale the data as shown in:\n",
      "    https://scikit-learn.org/stable/modules/preprocessing.html\n",
      "Please also refer to the documentation for alternative solver options:\n",
      "    https://scikit-learn.org/stable/modules/linear_model.html#logistic-regression\n",
      "  n_iter_i = _check_optimize_result(\n",
      "/home/maldeghi/anaconda3/envs/rogi_py38/lib/python3.8/site-packages/sklearn/linear_model/_logistic.py:444: ConvergenceWarning: lbfgs failed to converge (status=1):\n",
      "STOP: TOTAL NO. of ITERATIONS REACHED LIMIT.\n",
      "\n",
      "Increase the number of iterations (max_iter) or scale the data as shown in:\n",
      "    https://scikit-learn.org/stable/modules/preprocessing.html\n",
      "Please also refer to the documentation for alternative solver options:\n",
      "    https://scikit-learn.org/stable/modules/linear_model.html#logistic-regression\n",
      "  n_iter_i = _check_optimize_result(\n",
      "/home/maldeghi/anaconda3/envs/rogi_py38/lib/python3.8/site-packages/sklearn/linear_model/_logistic.py:444: ConvergenceWarning: lbfgs failed to converge (status=1):\n",
      "STOP: TOTAL NO. of ITERATIONS REACHED LIMIT.\n",
      "\n",
      "Increase the number of iterations (max_iter) or scale the data as shown in:\n",
      "    https://scikit-learn.org/stable/modules/preprocessing.html\n",
      "Please also refer to the documentation for alternative solver options:\n",
      "    https://scikit-learn.org/stable/modules/linear_model.html#logistic-regression\n",
      "  n_iter_i = _check_optimize_result(\n"
     ]
    },
    {
     "name": "stdout",
     "output_type": "stream",
     "text": [
      "RF SVC MLP \n"
     ]
    }
   ],
   "source": [
    "RESULTS['CHEMBL']['FPS'] = {}\n",
    "\n",
    "for csv_file in csv_files:\n",
    "    tag = csv_file.split('/')[-1].strip('.csv')\n",
    "    RESULTS['CHEMBL']['FPS'][tag] = {}\n",
    "    print(tag)\n",
    "\n",
    "    # load csv\n",
    "    data = pd.read_csv(csv_file, index_col=0)\n",
    "    # rm NaN entries\n",
    "    data = data.dropna()\n",
    "    smiles = data.loc[:, 'smiles']\n",
    "    # take log affinity\n",
    "    Y =  - np.log10(data.loc[:, 'exp_mean [nM]'].to_numpy() * 10 **(-9))\n",
    "    \n",
    "    # binarize dataset\n",
    "    Y = binarize_dataset(Y, balance=0.5)\n",
    "    \n",
    "    RESULTS['CHEMBL']['FPS'][tag]['size'] = len(data)\n",
    "\n",
    "    # compute RI score\n",
    "    ri = RoughnessIndex(smiles=smiles, Y=Y, verbose=False)\n",
    "    RESULTS['CHEMBL']['FPS'][tag]['rogi'] = ri.compute_index(min_dt=0.01)\n",
    "    \n",
    "    # compute MODI score\n",
    "    RESULTS['CHEMBL']['FPS'][tag]['modi'] = MODI(Dx=squareform(ri._Dx), Y=Y)\n",
    "\n",
    "    # test multiple ML models\n",
    "    print('  --> ', end=' ')\n",
    "    for model_name in models.keys():\n",
    "        print(f'{model_name}', end=' ')\n",
    "        model = models[model_name]\n",
    "        cv = KFold(n_splits=5, shuffle=True, random_state=42)\n",
    "        cv_results = cross_validate(model, ri._fps, ri._Y, cv=cv, scoring=('accuracy', 'balanced_accuracy', 'roc_auc', 'f1', 'neg_mean_squared_error'), n_jobs=5)\n",
    "        RESULTS['CHEMBL']['FPS'][tag][model_name] = cv_results\n",
    "    print()"
   ]
  },
  {
   "cell_type": "code",
   "execution_count": 11,
   "id": "ea225783-a4e6-414d-ad30-3ece10518ce9",
   "metadata": {},
   "outputs": [
    {
     "name": "stdout",
     "output_type": "stream",
     "text": [
      "CHEMBL2034_Ki\n",
      "  -->  KNN LR RF SVC MLP "
     ]
    },
    {
     "name": "stderr",
     "output_type": "stream",
     "text": [
      "/home/maldeghi/anaconda3/envs/rogi_py38/lib/python3.8/site-packages/sklearn/neural_network/_multilayer_perceptron.py:702: ConvergenceWarning: Stochastic Optimizer: Maximum iterations (200) reached and the optimization hasn't converged yet.\n",
      "  warnings.warn(\n",
      "/home/maldeghi/anaconda3/envs/rogi_py38/lib/python3.8/site-packages/sklearn/neural_network/_multilayer_perceptron.py:702: ConvergenceWarning: Stochastic Optimizer: Maximum iterations (200) reached and the optimization hasn't converged yet.\n",
      "  warnings.warn(\n",
      "/home/maldeghi/anaconda3/envs/rogi_py38/lib/python3.8/site-packages/sklearn/neural_network/_multilayer_perceptron.py:702: ConvergenceWarning: Stochastic Optimizer: Maximum iterations (200) reached and the optimization hasn't converged yet.\n",
      "  warnings.warn(\n",
      "/home/maldeghi/anaconda3/envs/rogi_py38/lib/python3.8/site-packages/sklearn/neural_network/_multilayer_perceptron.py:702: ConvergenceWarning: Stochastic Optimizer: Maximum iterations (200) reached and the optimization hasn't converged yet.\n",
      "  warnings.warn(\n",
      "/home/maldeghi/anaconda3/envs/rogi_py38/lib/python3.8/site-packages/sklearn/neural_network/_multilayer_perceptron.py:702: ConvergenceWarning: Stochastic Optimizer: Maximum iterations (200) reached and the optimization hasn't converged yet.\n",
      "  warnings.warn(\n"
     ]
    },
    {
     "name": "stdout",
     "output_type": "stream",
     "text": [
      "\n",
      "CHEMBL219_Ki\n",
      "  -->  KNN LR RF SVC MLP "
     ]
    },
    {
     "name": "stderr",
     "output_type": "stream",
     "text": [
      "/home/maldeghi/anaconda3/envs/rogi_py38/lib/python3.8/site-packages/sklearn/neural_network/_multilayer_perceptron.py:702: ConvergenceWarning: Stochastic Optimizer: Maximum iterations (200) reached and the optimization hasn't converged yet.\n",
      "  warnings.warn(\n",
      "/home/maldeghi/anaconda3/envs/rogi_py38/lib/python3.8/site-packages/sklearn/neural_network/_multilayer_perceptron.py:702: ConvergenceWarning: Stochastic Optimizer: Maximum iterations (200) reached and the optimization hasn't converged yet.\n",
      "  warnings.warn(\n",
      "/home/maldeghi/anaconda3/envs/rogi_py38/lib/python3.8/site-packages/sklearn/neural_network/_multilayer_perceptron.py:702: ConvergenceWarning: Stochastic Optimizer: Maximum iterations (200) reached and the optimization hasn't converged yet.\n",
      "  warnings.warn(\n",
      "/home/maldeghi/anaconda3/envs/rogi_py38/lib/python3.8/site-packages/sklearn/neural_network/_multilayer_perceptron.py:702: ConvergenceWarning: Stochastic Optimizer: Maximum iterations (200) reached and the optimization hasn't converged yet.\n",
      "  warnings.warn(\n",
      "/home/maldeghi/anaconda3/envs/rogi_py38/lib/python3.8/site-packages/sklearn/neural_network/_multilayer_perceptron.py:702: ConvergenceWarning: Stochastic Optimizer: Maximum iterations (200) reached and the optimization hasn't converged yet.\n",
      "  warnings.warn(\n"
     ]
    },
    {
     "name": "stdout",
     "output_type": "stream",
     "text": [
      "\n",
      "CHEMBL2147_Ki\n",
      "  -->  KNN LR RF SVC MLP "
     ]
    },
    {
     "name": "stderr",
     "output_type": "stream",
     "text": [
      "/home/maldeghi/anaconda3/envs/rogi_py38/lib/python3.8/site-packages/sklearn/neural_network/_multilayer_perceptron.py:702: ConvergenceWarning: Stochastic Optimizer: Maximum iterations (200) reached and the optimization hasn't converged yet.\n",
      "  warnings.warn(\n",
      "/home/maldeghi/anaconda3/envs/rogi_py38/lib/python3.8/site-packages/sklearn/neural_network/_multilayer_perceptron.py:702: ConvergenceWarning: Stochastic Optimizer: Maximum iterations (200) reached and the optimization hasn't converged yet.\n",
      "  warnings.warn(\n",
      "/home/maldeghi/anaconda3/envs/rogi_py38/lib/python3.8/site-packages/sklearn/neural_network/_multilayer_perceptron.py:702: ConvergenceWarning: Stochastic Optimizer: Maximum iterations (200) reached and the optimization hasn't converged yet.\n",
      "  warnings.warn(\n",
      "/home/maldeghi/anaconda3/envs/rogi_py38/lib/python3.8/site-packages/sklearn/neural_network/_multilayer_perceptron.py:702: ConvergenceWarning: Stochastic Optimizer: Maximum iterations (200) reached and the optimization hasn't converged yet.\n",
      "  warnings.warn(\n",
      "/home/maldeghi/anaconda3/envs/rogi_py38/lib/python3.8/site-packages/sklearn/neural_network/_multilayer_perceptron.py:702: ConvergenceWarning: Stochastic Optimizer: Maximum iterations (200) reached and the optimization hasn't converged yet.\n",
      "  warnings.warn(\n"
     ]
    },
    {
     "name": "stdout",
     "output_type": "stream",
     "text": [
      "\n",
      "CHEMBL236_Ki\n",
      "  -->  KNN LR RF SVC MLP "
     ]
    },
    {
     "name": "stderr",
     "output_type": "stream",
     "text": [
      "/home/maldeghi/anaconda3/envs/rogi_py38/lib/python3.8/site-packages/sklearn/neural_network/_multilayer_perceptron.py:702: ConvergenceWarning: Stochastic Optimizer: Maximum iterations (200) reached and the optimization hasn't converged yet.\n",
      "  warnings.warn(\n",
      "/home/maldeghi/anaconda3/envs/rogi_py38/lib/python3.8/site-packages/sklearn/neural_network/_multilayer_perceptron.py:702: ConvergenceWarning: Stochastic Optimizer: Maximum iterations (200) reached and the optimization hasn't converged yet.\n",
      "  warnings.warn(\n",
      "/home/maldeghi/anaconda3/envs/rogi_py38/lib/python3.8/site-packages/sklearn/neural_network/_multilayer_perceptron.py:702: ConvergenceWarning: Stochastic Optimizer: Maximum iterations (200) reached and the optimization hasn't converged yet.\n",
      "  warnings.warn(\n",
      "/home/maldeghi/anaconda3/envs/rogi_py38/lib/python3.8/site-packages/sklearn/neural_network/_multilayer_perceptron.py:702: ConvergenceWarning: Stochastic Optimizer: Maximum iterations (200) reached and the optimization hasn't converged yet.\n",
      "  warnings.warn(\n",
      "/home/maldeghi/anaconda3/envs/rogi_py38/lib/python3.8/site-packages/sklearn/neural_network/_multilayer_perceptron.py:702: ConvergenceWarning: Stochastic Optimizer: Maximum iterations (200) reached and the optimization hasn't converged yet.\n",
      "  warnings.warn(\n"
     ]
    },
    {
     "name": "stdout",
     "output_type": "stream",
     "text": [
      "\n",
      "CHEMBL3979_EC50\n",
      "  -->  KNN LR RF SVC MLP "
     ]
    },
    {
     "name": "stderr",
     "output_type": "stream",
     "text": [
      "/home/maldeghi/anaconda3/envs/rogi_py38/lib/python3.8/site-packages/sklearn/neural_network/_multilayer_perceptron.py:702: ConvergenceWarning: Stochastic Optimizer: Maximum iterations (200) reached and the optimization hasn't converged yet.\n",
      "  warnings.warn(\n",
      "/home/maldeghi/anaconda3/envs/rogi_py38/lib/python3.8/site-packages/sklearn/neural_network/_multilayer_perceptron.py:702: ConvergenceWarning: Stochastic Optimizer: Maximum iterations (200) reached and the optimization hasn't converged yet.\n",
      "  warnings.warn(\n",
      "/home/maldeghi/anaconda3/envs/rogi_py38/lib/python3.8/site-packages/sklearn/neural_network/_multilayer_perceptron.py:702: ConvergenceWarning: Stochastic Optimizer: Maximum iterations (200) reached and the optimization hasn't converged yet.\n",
      "  warnings.warn(\n",
      "/home/maldeghi/anaconda3/envs/rogi_py38/lib/python3.8/site-packages/sklearn/neural_network/_multilayer_perceptron.py:702: ConvergenceWarning: Stochastic Optimizer: Maximum iterations (200) reached and the optimization hasn't converged yet.\n",
      "  warnings.warn(\n",
      "/home/maldeghi/anaconda3/envs/rogi_py38/lib/python3.8/site-packages/sklearn/neural_network/_multilayer_perceptron.py:702: ConvergenceWarning: Stochastic Optimizer: Maximum iterations (200) reached and the optimization hasn't converged yet.\n",
      "  warnings.warn(\n"
     ]
    },
    {
     "name": "stdout",
     "output_type": "stream",
     "text": [
      "\n",
      "CHEMBL2835_Ki\n",
      "  -->  KNN LR RF SVC MLP "
     ]
    },
    {
     "name": "stderr",
     "output_type": "stream",
     "text": [
      "/home/maldeghi/anaconda3/envs/rogi_py38/lib/python3.8/site-packages/sklearn/neural_network/_multilayer_perceptron.py:702: ConvergenceWarning: Stochastic Optimizer: Maximum iterations (200) reached and the optimization hasn't converged yet.\n",
      "  warnings.warn(\n",
      "/home/maldeghi/anaconda3/envs/rogi_py38/lib/python3.8/site-packages/sklearn/neural_network/_multilayer_perceptron.py:702: ConvergenceWarning: Stochastic Optimizer: Maximum iterations (200) reached and the optimization hasn't converged yet.\n",
      "  warnings.warn(\n",
      "/home/maldeghi/anaconda3/envs/rogi_py38/lib/python3.8/site-packages/sklearn/neural_network/_multilayer_perceptron.py:702: ConvergenceWarning: Stochastic Optimizer: Maximum iterations (200) reached and the optimization hasn't converged yet.\n",
      "  warnings.warn(\n",
      "/home/maldeghi/anaconda3/envs/rogi_py38/lib/python3.8/site-packages/sklearn/neural_network/_multilayer_perceptron.py:702: ConvergenceWarning: Stochastic Optimizer: Maximum iterations (200) reached and the optimization hasn't converged yet.\n",
      "  warnings.warn(\n",
      "/home/maldeghi/anaconda3/envs/rogi_py38/lib/python3.8/site-packages/sklearn/neural_network/_multilayer_perceptron.py:702: ConvergenceWarning: Stochastic Optimizer: Maximum iterations (200) reached and the optimization hasn't converged yet.\n",
      "  warnings.warn(\n"
     ]
    },
    {
     "name": "stdout",
     "output_type": "stream",
     "text": [
      "\n",
      "CHEMBL264_Ki\n",
      "  -->  KNN LR RF SVC MLP "
     ]
    },
    {
     "name": "stderr",
     "output_type": "stream",
     "text": [
      "/home/maldeghi/anaconda3/envs/rogi_py38/lib/python3.8/site-packages/sklearn/neural_network/_multilayer_perceptron.py:702: ConvergenceWarning: Stochastic Optimizer: Maximum iterations (200) reached and the optimization hasn't converged yet.\n",
      "  warnings.warn(\n",
      "/home/maldeghi/anaconda3/envs/rogi_py38/lib/python3.8/site-packages/sklearn/neural_network/_multilayer_perceptron.py:702: ConvergenceWarning: Stochastic Optimizer: Maximum iterations (200) reached and the optimization hasn't converged yet.\n",
      "  warnings.warn(\n",
      "/home/maldeghi/anaconda3/envs/rogi_py38/lib/python3.8/site-packages/sklearn/neural_network/_multilayer_perceptron.py:702: ConvergenceWarning: Stochastic Optimizer: Maximum iterations (200) reached and the optimization hasn't converged yet.\n",
      "  warnings.warn(\n",
      "/home/maldeghi/anaconda3/envs/rogi_py38/lib/python3.8/site-packages/sklearn/neural_network/_multilayer_perceptron.py:702: ConvergenceWarning: Stochastic Optimizer: Maximum iterations (200) reached and the optimization hasn't converged yet.\n",
      "  warnings.warn(\n",
      "/home/maldeghi/anaconda3/envs/rogi_py38/lib/python3.8/site-packages/sklearn/neural_network/_multilayer_perceptron.py:702: ConvergenceWarning: Stochastic Optimizer: Maximum iterations (200) reached and the optimization hasn't converged yet.\n",
      "  warnings.warn(\n"
     ]
    },
    {
     "name": "stdout",
     "output_type": "stream",
     "text": [
      "\n",
      "CHEMBL238_Ki\n",
      "  -->  KNN LR RF SVC MLP "
     ]
    },
    {
     "name": "stderr",
     "output_type": "stream",
     "text": [
      "/home/maldeghi/anaconda3/envs/rogi_py38/lib/python3.8/site-packages/sklearn/neural_network/_multilayer_perceptron.py:702: ConvergenceWarning: Stochastic Optimizer: Maximum iterations (200) reached and the optimization hasn't converged yet.\n",
      "  warnings.warn(\n",
      "/home/maldeghi/anaconda3/envs/rogi_py38/lib/python3.8/site-packages/sklearn/neural_network/_multilayer_perceptron.py:702: ConvergenceWarning: Stochastic Optimizer: Maximum iterations (200) reached and the optimization hasn't converged yet.\n",
      "  warnings.warn(\n",
      "/home/maldeghi/anaconda3/envs/rogi_py38/lib/python3.8/site-packages/sklearn/neural_network/_multilayer_perceptron.py:702: ConvergenceWarning: Stochastic Optimizer: Maximum iterations (200) reached and the optimization hasn't converged yet.\n",
      "  warnings.warn(\n",
      "/home/maldeghi/anaconda3/envs/rogi_py38/lib/python3.8/site-packages/sklearn/neural_network/_multilayer_perceptron.py:702: ConvergenceWarning: Stochastic Optimizer: Maximum iterations (200) reached and the optimization hasn't converged yet.\n",
      "  warnings.warn(\n",
      "/home/maldeghi/anaconda3/envs/rogi_py38/lib/python3.8/site-packages/sklearn/neural_network/_multilayer_perceptron.py:702: ConvergenceWarning: Stochastic Optimizer: Maximum iterations (200) reached and the optimization hasn't converged yet.\n",
      "  warnings.warn(\n"
     ]
    },
    {
     "name": "stdout",
     "output_type": "stream",
     "text": [
      "\n",
      "CHEMBL1871_Ki\n",
      "  -->  KNN LR RF SVC MLP "
     ]
    },
    {
     "name": "stderr",
     "output_type": "stream",
     "text": [
      "/home/maldeghi/anaconda3/envs/rogi_py38/lib/python3.8/site-packages/sklearn/neural_network/_multilayer_perceptron.py:702: ConvergenceWarning: Stochastic Optimizer: Maximum iterations (200) reached and the optimization hasn't converged yet.\n",
      "  warnings.warn(\n",
      "/home/maldeghi/anaconda3/envs/rogi_py38/lib/python3.8/site-packages/sklearn/neural_network/_multilayer_perceptron.py:702: ConvergenceWarning: Stochastic Optimizer: Maximum iterations (200) reached and the optimization hasn't converged yet.\n",
      "  warnings.warn(\n",
      "/home/maldeghi/anaconda3/envs/rogi_py38/lib/python3.8/site-packages/sklearn/neural_network/_multilayer_perceptron.py:702: ConvergenceWarning: Stochastic Optimizer: Maximum iterations (200) reached and the optimization hasn't converged yet.\n",
      "  warnings.warn(\n",
      "/home/maldeghi/anaconda3/envs/rogi_py38/lib/python3.8/site-packages/sklearn/neural_network/_multilayer_perceptron.py:702: ConvergenceWarning: Stochastic Optimizer: Maximum iterations (200) reached and the optimization hasn't converged yet.\n",
      "  warnings.warn(\n",
      "/home/maldeghi/anaconda3/envs/rogi_py38/lib/python3.8/site-packages/sklearn/neural_network/_multilayer_perceptron.py:702: ConvergenceWarning: Stochastic Optimizer: Maximum iterations (200) reached and the optimization hasn't converged yet.\n",
      "  warnings.warn(\n"
     ]
    },
    {
     "name": "stdout",
     "output_type": "stream",
     "text": [
      "\n",
      "CHEMBL2971_Ki\n",
      "  -->  KNN LR RF SVC MLP "
     ]
    },
    {
     "name": "stderr",
     "output_type": "stream",
     "text": [
      "/home/maldeghi/anaconda3/envs/rogi_py38/lib/python3.8/site-packages/sklearn/neural_network/_multilayer_perceptron.py:702: ConvergenceWarning: Stochastic Optimizer: Maximum iterations (200) reached and the optimization hasn't converged yet.\n",
      "  warnings.warn(\n",
      "/home/maldeghi/anaconda3/envs/rogi_py38/lib/python3.8/site-packages/sklearn/neural_network/_multilayer_perceptron.py:702: ConvergenceWarning: Stochastic Optimizer: Maximum iterations (200) reached and the optimization hasn't converged yet.\n",
      "  warnings.warn(\n",
      "/home/maldeghi/anaconda3/envs/rogi_py38/lib/python3.8/site-packages/sklearn/neural_network/_multilayer_perceptron.py:702: ConvergenceWarning: Stochastic Optimizer: Maximum iterations (200) reached and the optimization hasn't converged yet.\n",
      "  warnings.warn(\n",
      "/home/maldeghi/anaconda3/envs/rogi_py38/lib/python3.8/site-packages/sklearn/neural_network/_multilayer_perceptron.py:702: ConvergenceWarning: Stochastic Optimizer: Maximum iterations (200) reached and the optimization hasn't converged yet.\n",
      "  warnings.warn(\n"
     ]
    },
    {
     "name": "stdout",
     "output_type": "stream",
     "text": [
      "\n",
      "CHEMBL233_Ki\n",
      "  -->  KNN LR RF SVC MLP "
     ]
    },
    {
     "name": "stderr",
     "output_type": "stream",
     "text": [
      "/home/maldeghi/anaconda3/envs/rogi_py38/lib/python3.8/site-packages/sklearn/neural_network/_multilayer_perceptron.py:702: ConvergenceWarning: Stochastic Optimizer: Maximum iterations (200) reached and the optimization hasn't converged yet.\n",
      "  warnings.warn(\n",
      "/home/maldeghi/anaconda3/envs/rogi_py38/lib/python3.8/site-packages/sklearn/neural_network/_multilayer_perceptron.py:702: ConvergenceWarning: Stochastic Optimizer: Maximum iterations (200) reached and the optimization hasn't converged yet.\n",
      "  warnings.warn(\n",
      "/home/maldeghi/anaconda3/envs/rogi_py38/lib/python3.8/site-packages/sklearn/neural_network/_multilayer_perceptron.py:702: ConvergenceWarning: Stochastic Optimizer: Maximum iterations (200) reached and the optimization hasn't converged yet.\n",
      "  warnings.warn(\n",
      "/home/maldeghi/anaconda3/envs/rogi_py38/lib/python3.8/site-packages/sklearn/neural_network/_multilayer_perceptron.py:702: ConvergenceWarning: Stochastic Optimizer: Maximum iterations (200) reached and the optimization hasn't converged yet.\n",
      "  warnings.warn(\n",
      "/home/maldeghi/anaconda3/envs/rogi_py38/lib/python3.8/site-packages/sklearn/neural_network/_multilayer_perceptron.py:702: ConvergenceWarning: Stochastic Optimizer: Maximum iterations (200) reached and the optimization hasn't converged yet.\n",
      "  warnings.warn(\n"
     ]
    },
    {
     "name": "stdout",
     "output_type": "stream",
     "text": [
      "\n",
      "CHEMBL262_Ki\n",
      "  -->  KNN LR RF SVC MLP "
     ]
    },
    {
     "name": "stderr",
     "output_type": "stream",
     "text": [
      "/home/maldeghi/anaconda3/envs/rogi_py38/lib/python3.8/site-packages/sklearn/neural_network/_multilayer_perceptron.py:702: ConvergenceWarning: Stochastic Optimizer: Maximum iterations (200) reached and the optimization hasn't converged yet.\n",
      "  warnings.warn(\n",
      "/home/maldeghi/anaconda3/envs/rogi_py38/lib/python3.8/site-packages/sklearn/neural_network/_multilayer_perceptron.py:702: ConvergenceWarning: Stochastic Optimizer: Maximum iterations (200) reached and the optimization hasn't converged yet.\n",
      "  warnings.warn(\n",
      "/home/maldeghi/anaconda3/envs/rogi_py38/lib/python3.8/site-packages/sklearn/neural_network/_multilayer_perceptron.py:702: ConvergenceWarning: Stochastic Optimizer: Maximum iterations (200) reached and the optimization hasn't converged yet.\n",
      "  warnings.warn(\n",
      "/home/maldeghi/anaconda3/envs/rogi_py38/lib/python3.8/site-packages/sklearn/neural_network/_multilayer_perceptron.py:702: ConvergenceWarning: Stochastic Optimizer: Maximum iterations (200) reached and the optimization hasn't converged yet.\n",
      "  warnings.warn(\n",
      "/home/maldeghi/anaconda3/envs/rogi_py38/lib/python3.8/site-packages/sklearn/neural_network/_multilayer_perceptron.py:702: ConvergenceWarning: Stochastic Optimizer: Maximum iterations (200) reached and the optimization hasn't converged yet.\n",
      "  warnings.warn(\n"
     ]
    },
    {
     "name": "stdout",
     "output_type": "stream",
     "text": [
      "\n",
      "CHEMBL287_Ki\n",
      "  -->  KNN LR RF SVC MLP "
     ]
    },
    {
     "name": "stderr",
     "output_type": "stream",
     "text": [
      "/home/maldeghi/anaconda3/envs/rogi_py38/lib/python3.8/site-packages/sklearn/neural_network/_multilayer_perceptron.py:702: ConvergenceWarning: Stochastic Optimizer: Maximum iterations (200) reached and the optimization hasn't converged yet.\n",
      "  warnings.warn(\n",
      "/home/maldeghi/anaconda3/envs/rogi_py38/lib/python3.8/site-packages/sklearn/neural_network/_multilayer_perceptron.py:702: ConvergenceWarning: Stochastic Optimizer: Maximum iterations (200) reached and the optimization hasn't converged yet.\n",
      "  warnings.warn(\n",
      "/home/maldeghi/anaconda3/envs/rogi_py38/lib/python3.8/site-packages/sklearn/neural_network/_multilayer_perceptron.py:702: ConvergenceWarning: Stochastic Optimizer: Maximum iterations (200) reached and the optimization hasn't converged yet.\n",
      "  warnings.warn(\n",
      "/home/maldeghi/anaconda3/envs/rogi_py38/lib/python3.8/site-packages/sklearn/neural_network/_multilayer_perceptron.py:702: ConvergenceWarning: Stochastic Optimizer: Maximum iterations (200) reached and the optimization hasn't converged yet.\n",
      "  warnings.warn(\n",
      "/home/maldeghi/anaconda3/envs/rogi_py38/lib/python3.8/site-packages/sklearn/neural_network/_multilayer_perceptron.py:702: ConvergenceWarning: Stochastic Optimizer: Maximum iterations (200) reached and the optimization hasn't converged yet.\n",
      "  warnings.warn(\n"
     ]
    },
    {
     "name": "stdout",
     "output_type": "stream",
     "text": [
      "\n",
      "CHEMBL4005_Ki\n",
      "  -->  KNN LR RF SVC MLP "
     ]
    },
    {
     "name": "stderr",
     "output_type": "stream",
     "text": [
      "/home/maldeghi/anaconda3/envs/rogi_py38/lib/python3.8/site-packages/sklearn/neural_network/_multilayer_perceptron.py:702: ConvergenceWarning: Stochastic Optimizer: Maximum iterations (200) reached and the optimization hasn't converged yet.\n",
      "  warnings.warn(\n",
      "/home/maldeghi/anaconda3/envs/rogi_py38/lib/python3.8/site-packages/sklearn/neural_network/_multilayer_perceptron.py:702: ConvergenceWarning: Stochastic Optimizer: Maximum iterations (200) reached and the optimization hasn't converged yet.\n",
      "  warnings.warn(\n",
      "/home/maldeghi/anaconda3/envs/rogi_py38/lib/python3.8/site-packages/sklearn/neural_network/_multilayer_perceptron.py:702: ConvergenceWarning: Stochastic Optimizer: Maximum iterations (200) reached and the optimization hasn't converged yet.\n",
      "  warnings.warn(\n",
      "/home/maldeghi/anaconda3/envs/rogi_py38/lib/python3.8/site-packages/sklearn/neural_network/_multilayer_perceptron.py:702: ConvergenceWarning: Stochastic Optimizer: Maximum iterations (200) reached and the optimization hasn't converged yet.\n",
      "  warnings.warn(\n",
      "/home/maldeghi/anaconda3/envs/rogi_py38/lib/python3.8/site-packages/sklearn/neural_network/_multilayer_perceptron.py:702: ConvergenceWarning: Stochastic Optimizer: Maximum iterations (200) reached and the optimization hasn't converged yet.\n",
      "  warnings.warn(\n"
     ]
    },
    {
     "name": "stdout",
     "output_type": "stream",
     "text": [
      "\n",
      "CHEMBL4203_Ki\n",
      "  -->  KNN LR RF SVC MLP "
     ]
    },
    {
     "name": "stderr",
     "output_type": "stream",
     "text": [
      "/home/maldeghi/anaconda3/envs/rogi_py38/lib/python3.8/site-packages/sklearn/neural_network/_multilayer_perceptron.py:702: ConvergenceWarning: Stochastic Optimizer: Maximum iterations (200) reached and the optimization hasn't converged yet.\n",
      "  warnings.warn(\n",
      "/home/maldeghi/anaconda3/envs/rogi_py38/lib/python3.8/site-packages/sklearn/neural_network/_multilayer_perceptron.py:702: ConvergenceWarning: Stochastic Optimizer: Maximum iterations (200) reached and the optimization hasn't converged yet.\n",
      "  warnings.warn(\n",
      "/home/maldeghi/anaconda3/envs/rogi_py38/lib/python3.8/site-packages/sklearn/neural_network/_multilayer_perceptron.py:702: ConvergenceWarning: Stochastic Optimizer: Maximum iterations (200) reached and the optimization hasn't converged yet.\n",
      "  warnings.warn(\n",
      "/home/maldeghi/anaconda3/envs/rogi_py38/lib/python3.8/site-packages/sklearn/neural_network/_multilayer_perceptron.py:702: ConvergenceWarning: Stochastic Optimizer: Maximum iterations (200) reached and the optimization hasn't converged yet.\n",
      "  warnings.warn(\n",
      "/home/maldeghi/anaconda3/envs/rogi_py38/lib/python3.8/site-packages/sklearn/neural_network/_multilayer_perceptron.py:702: ConvergenceWarning: Stochastic Optimizer: Maximum iterations (200) reached and the optimization hasn't converged yet.\n",
      "  warnings.warn(\n"
     ]
    },
    {
     "name": "stdout",
     "output_type": "stream",
     "text": [
      "\n",
      "CHEMBL214_Ki\n",
      "  -->  KNN LR RF SVC MLP "
     ]
    },
    {
     "name": "stderr",
     "output_type": "stream",
     "text": [
      "/home/maldeghi/anaconda3/envs/rogi_py38/lib/python3.8/site-packages/sklearn/neural_network/_multilayer_perceptron.py:702: ConvergenceWarning: Stochastic Optimizer: Maximum iterations (200) reached and the optimization hasn't converged yet.\n",
      "  warnings.warn(\n",
      "/home/maldeghi/anaconda3/envs/rogi_py38/lib/python3.8/site-packages/sklearn/neural_network/_multilayer_perceptron.py:702: ConvergenceWarning: Stochastic Optimizer: Maximum iterations (200) reached and the optimization hasn't converged yet.\n",
      "  warnings.warn(\n",
      "/home/maldeghi/anaconda3/envs/rogi_py38/lib/python3.8/site-packages/sklearn/neural_network/_multilayer_perceptron.py:702: ConvergenceWarning: Stochastic Optimizer: Maximum iterations (200) reached and the optimization hasn't converged yet.\n",
      "  warnings.warn(\n",
      "/home/maldeghi/anaconda3/envs/rogi_py38/lib/python3.8/site-packages/sklearn/neural_network/_multilayer_perceptron.py:702: ConvergenceWarning: Stochastic Optimizer: Maximum iterations (200) reached and the optimization hasn't converged yet.\n",
      "  warnings.warn(\n",
      "/home/maldeghi/anaconda3/envs/rogi_py38/lib/python3.8/site-packages/sklearn/neural_network/_multilayer_perceptron.py:702: ConvergenceWarning: Stochastic Optimizer: Maximum iterations (200) reached and the optimization hasn't converged yet.\n",
      "  warnings.warn(\n"
     ]
    },
    {
     "name": "stdout",
     "output_type": "stream",
     "text": [
      "\n",
      "CHEMBL237_Ki\n",
      "  -->  KNN LR RF SVC MLP "
     ]
    },
    {
     "name": "stderr",
     "output_type": "stream",
     "text": [
      "/home/maldeghi/anaconda3/envs/rogi_py38/lib/python3.8/site-packages/sklearn/neural_network/_multilayer_perceptron.py:702: ConvergenceWarning: Stochastic Optimizer: Maximum iterations (200) reached and the optimization hasn't converged yet.\n",
      "  warnings.warn(\n",
      "/home/maldeghi/anaconda3/envs/rogi_py38/lib/python3.8/site-packages/sklearn/neural_network/_multilayer_perceptron.py:702: ConvergenceWarning: Stochastic Optimizer: Maximum iterations (200) reached and the optimization hasn't converged yet.\n",
      "  warnings.warn(\n",
      "/home/maldeghi/anaconda3/envs/rogi_py38/lib/python3.8/site-packages/sklearn/neural_network/_multilayer_perceptron.py:702: ConvergenceWarning: Stochastic Optimizer: Maximum iterations (200) reached and the optimization hasn't converged yet.\n",
      "  warnings.warn(\n",
      "/home/maldeghi/anaconda3/envs/rogi_py38/lib/python3.8/site-packages/sklearn/neural_network/_multilayer_perceptron.py:702: ConvergenceWarning: Stochastic Optimizer: Maximum iterations (200) reached and the optimization hasn't converged yet.\n",
      "  warnings.warn(\n",
      "/home/maldeghi/anaconda3/envs/rogi_py38/lib/python3.8/site-packages/sklearn/neural_network/_multilayer_perceptron.py:702: ConvergenceWarning: Stochastic Optimizer: Maximum iterations (200) reached and the optimization hasn't converged yet.\n",
      "  warnings.warn(\n"
     ]
    },
    {
     "name": "stdout",
     "output_type": "stream",
     "text": [
      "\n",
      "CHEMBL218_EC50\n",
      "  -->  KNN LR RF SVC MLP "
     ]
    },
    {
     "name": "stderr",
     "output_type": "stream",
     "text": [
      "/home/maldeghi/anaconda3/envs/rogi_py38/lib/python3.8/site-packages/sklearn/neural_network/_multilayer_perceptron.py:702: ConvergenceWarning: Stochastic Optimizer: Maximum iterations (200) reached and the optimization hasn't converged yet.\n",
      "  warnings.warn(\n",
      "/home/maldeghi/anaconda3/envs/rogi_py38/lib/python3.8/site-packages/sklearn/neural_network/_multilayer_perceptron.py:702: ConvergenceWarning: Stochastic Optimizer: Maximum iterations (200) reached and the optimization hasn't converged yet.\n",
      "  warnings.warn(\n",
      "/home/maldeghi/anaconda3/envs/rogi_py38/lib/python3.8/site-packages/sklearn/neural_network/_multilayer_perceptron.py:702: ConvergenceWarning: Stochastic Optimizer: Maximum iterations (200) reached and the optimization hasn't converged yet.\n",
      "  warnings.warn(\n",
      "/home/maldeghi/anaconda3/envs/rogi_py38/lib/python3.8/site-packages/sklearn/neural_network/_multilayer_perceptron.py:702: ConvergenceWarning: Stochastic Optimizer: Maximum iterations (200) reached and the optimization hasn't converged yet.\n",
      "  warnings.warn(\n",
      "/home/maldeghi/anaconda3/envs/rogi_py38/lib/python3.8/site-packages/sklearn/neural_network/_multilayer_perceptron.py:702: ConvergenceWarning: Stochastic Optimizer: Maximum iterations (200) reached and the optimization hasn't converged yet.\n",
      "  warnings.warn(\n"
     ]
    },
    {
     "name": "stdout",
     "output_type": "stream",
     "text": [
      "\n",
      "CHEMBL4792_Ki\n",
      "  -->  KNN LR RF SVC MLP "
     ]
    },
    {
     "name": "stderr",
     "output_type": "stream",
     "text": [
      "/home/maldeghi/anaconda3/envs/rogi_py38/lib/python3.8/site-packages/sklearn/neural_network/_multilayer_perceptron.py:702: ConvergenceWarning: Stochastic Optimizer: Maximum iterations (200) reached and the optimization hasn't converged yet.\n",
      "  warnings.warn(\n",
      "/home/maldeghi/anaconda3/envs/rogi_py38/lib/python3.8/site-packages/sklearn/neural_network/_multilayer_perceptron.py:702: ConvergenceWarning: Stochastic Optimizer: Maximum iterations (200) reached and the optimization hasn't converged yet.\n",
      "  warnings.warn(\n",
      "/home/maldeghi/anaconda3/envs/rogi_py38/lib/python3.8/site-packages/sklearn/neural_network/_multilayer_perceptron.py:702: ConvergenceWarning: Stochastic Optimizer: Maximum iterations (200) reached and the optimization hasn't converged yet.\n",
      "  warnings.warn(\n",
      "/home/maldeghi/anaconda3/envs/rogi_py38/lib/python3.8/site-packages/sklearn/neural_network/_multilayer_perceptron.py:702: ConvergenceWarning: Stochastic Optimizer: Maximum iterations (200) reached and the optimization hasn't converged yet.\n",
      "  warnings.warn(\n",
      "/home/maldeghi/anaconda3/envs/rogi_py38/lib/python3.8/site-packages/sklearn/neural_network/_multilayer_perceptron.py:702: ConvergenceWarning: Stochastic Optimizer: Maximum iterations (200) reached and the optimization hasn't converged yet.\n",
      "  warnings.warn(\n"
     ]
    },
    {
     "name": "stdout",
     "output_type": "stream",
     "text": [
      "\n",
      "CHEMBL228_Ki\n",
      "  -->  KNN LR RF SVC MLP "
     ]
    },
    {
     "name": "stderr",
     "output_type": "stream",
     "text": [
      "/home/maldeghi/anaconda3/envs/rogi_py38/lib/python3.8/site-packages/sklearn/neural_network/_multilayer_perceptron.py:702: ConvergenceWarning: Stochastic Optimizer: Maximum iterations (200) reached and the optimization hasn't converged yet.\n",
      "  warnings.warn(\n",
      "/home/maldeghi/anaconda3/envs/rogi_py38/lib/python3.8/site-packages/sklearn/neural_network/_multilayer_perceptron.py:702: ConvergenceWarning: Stochastic Optimizer: Maximum iterations (200) reached and the optimization hasn't converged yet.\n",
      "  warnings.warn(\n",
      "/home/maldeghi/anaconda3/envs/rogi_py38/lib/python3.8/site-packages/sklearn/neural_network/_multilayer_perceptron.py:702: ConvergenceWarning: Stochastic Optimizer: Maximum iterations (200) reached and the optimization hasn't converged yet.\n",
      "  warnings.warn(\n",
      "/home/maldeghi/anaconda3/envs/rogi_py38/lib/python3.8/site-packages/sklearn/neural_network/_multilayer_perceptron.py:702: ConvergenceWarning: Stochastic Optimizer: Maximum iterations (200) reached and the optimization hasn't converged yet.\n",
      "  warnings.warn(\n",
      "/home/maldeghi/anaconda3/envs/rogi_py38/lib/python3.8/site-packages/sklearn/neural_network/_multilayer_perceptron.py:702: ConvergenceWarning: Stochastic Optimizer: Maximum iterations (200) reached and the optimization hasn't converged yet.\n",
      "  warnings.warn(\n"
     ]
    },
    {
     "name": "stdout",
     "output_type": "stream",
     "text": [
      "\n",
      "CHEMBL231_Ki\n",
      "  -->  KNN LR RF SVC MLP "
     ]
    },
    {
     "name": "stderr",
     "output_type": "stream",
     "text": [
      "/home/maldeghi/anaconda3/envs/rogi_py38/lib/python3.8/site-packages/sklearn/neural_network/_multilayer_perceptron.py:702: ConvergenceWarning: Stochastic Optimizer: Maximum iterations (200) reached and the optimization hasn't converged yet.\n",
      "  warnings.warn(\n",
      "/home/maldeghi/anaconda3/envs/rogi_py38/lib/python3.8/site-packages/sklearn/neural_network/_multilayer_perceptron.py:702: ConvergenceWarning: Stochastic Optimizer: Maximum iterations (200) reached and the optimization hasn't converged yet.\n",
      "  warnings.warn(\n",
      "/home/maldeghi/anaconda3/envs/rogi_py38/lib/python3.8/site-packages/sklearn/neural_network/_multilayer_perceptron.py:702: ConvergenceWarning: Stochastic Optimizer: Maximum iterations (200) reached and the optimization hasn't converged yet.\n",
      "  warnings.warn(\n",
      "/home/maldeghi/anaconda3/envs/rogi_py38/lib/python3.8/site-packages/sklearn/neural_network/_multilayer_perceptron.py:702: ConvergenceWarning: Stochastic Optimizer: Maximum iterations (200) reached and the optimization hasn't converged yet.\n",
      "  warnings.warn(\n",
      "/home/maldeghi/anaconda3/envs/rogi_py38/lib/python3.8/site-packages/sklearn/neural_network/_multilayer_perceptron.py:702: ConvergenceWarning: Stochastic Optimizer: Maximum iterations (200) reached and the optimization hasn't converged yet.\n",
      "  warnings.warn(\n"
     ]
    },
    {
     "name": "stdout",
     "output_type": "stream",
     "text": [
      "\n",
      "CHEMBL204_Ki\n",
      "  -->  KNN LR RF SVC MLP "
     ]
    },
    {
     "name": "stderr",
     "output_type": "stream",
     "text": [
      "/home/maldeghi/anaconda3/envs/rogi_py38/lib/python3.8/site-packages/sklearn/neural_network/_multilayer_perceptron.py:702: ConvergenceWarning: Stochastic Optimizer: Maximum iterations (200) reached and the optimization hasn't converged yet.\n",
      "  warnings.warn(\n",
      "/home/maldeghi/anaconda3/envs/rogi_py38/lib/python3.8/site-packages/sklearn/neural_network/_multilayer_perceptron.py:702: ConvergenceWarning: Stochastic Optimizer: Maximum iterations (200) reached and the optimization hasn't converged yet.\n",
      "  warnings.warn(\n",
      "/home/maldeghi/anaconda3/envs/rogi_py38/lib/python3.8/site-packages/sklearn/neural_network/_multilayer_perceptron.py:702: ConvergenceWarning: Stochastic Optimizer: Maximum iterations (200) reached and the optimization hasn't converged yet.\n",
      "  warnings.warn(\n",
      "/home/maldeghi/anaconda3/envs/rogi_py38/lib/python3.8/site-packages/sklearn/neural_network/_multilayer_perceptron.py:702: ConvergenceWarning: Stochastic Optimizer: Maximum iterations (200) reached and the optimization hasn't converged yet.\n",
      "  warnings.warn(\n",
      "/home/maldeghi/anaconda3/envs/rogi_py38/lib/python3.8/site-packages/sklearn/neural_network/_multilayer_perceptron.py:702: ConvergenceWarning: Stochastic Optimizer: Maximum iterations (200) reached and the optimization hasn't converged yet.\n",
      "  warnings.warn(\n"
     ]
    },
    {
     "name": "stdout",
     "output_type": "stream",
     "text": [
      "\n",
      "CHEMBL4616_EC50\n",
      "  -->  KNN LR RF SVC MLP "
     ]
    },
    {
     "name": "stderr",
     "output_type": "stream",
     "text": [
      "/home/maldeghi/anaconda3/envs/rogi_py38/lib/python3.8/site-packages/sklearn/neural_network/_multilayer_perceptron.py:702: ConvergenceWarning: Stochastic Optimizer: Maximum iterations (200) reached and the optimization hasn't converged yet.\n",
      "  warnings.warn(\n",
      "/home/maldeghi/anaconda3/envs/rogi_py38/lib/python3.8/site-packages/sklearn/neural_network/_multilayer_perceptron.py:702: ConvergenceWarning: Stochastic Optimizer: Maximum iterations (200) reached and the optimization hasn't converged yet.\n",
      "  warnings.warn(\n",
      "/home/maldeghi/anaconda3/envs/rogi_py38/lib/python3.8/site-packages/sklearn/neural_network/_multilayer_perceptron.py:702: ConvergenceWarning: Stochastic Optimizer: Maximum iterations (200) reached and the optimization hasn't converged yet.\n",
      "  warnings.warn(\n",
      "/home/maldeghi/anaconda3/envs/rogi_py38/lib/python3.8/site-packages/sklearn/neural_network/_multilayer_perceptron.py:702: ConvergenceWarning: Stochastic Optimizer: Maximum iterations (200) reached and the optimization hasn't converged yet.\n",
      "  warnings.warn(\n",
      "/home/maldeghi/anaconda3/envs/rogi_py38/lib/python3.8/site-packages/sklearn/neural_network/_multilayer_perceptron.py:702: ConvergenceWarning: Stochastic Optimizer: Maximum iterations (200) reached and the optimization hasn't converged yet.\n",
      "  warnings.warn(\n"
     ]
    },
    {
     "name": "stdout",
     "output_type": "stream",
     "text": [
      "\n",
      "CHEMBL239_EC50\n",
      "  -->  KNN LR RF SVC MLP "
     ]
    },
    {
     "name": "stderr",
     "output_type": "stream",
     "text": [
      "/home/maldeghi/anaconda3/envs/rogi_py38/lib/python3.8/site-packages/sklearn/neural_network/_multilayer_perceptron.py:702: ConvergenceWarning: Stochastic Optimizer: Maximum iterations (200) reached and the optimization hasn't converged yet.\n",
      "  warnings.warn(\n",
      "/home/maldeghi/anaconda3/envs/rogi_py38/lib/python3.8/site-packages/sklearn/neural_network/_multilayer_perceptron.py:702: ConvergenceWarning: Stochastic Optimizer: Maximum iterations (200) reached and the optimization hasn't converged yet.\n",
      "  warnings.warn(\n",
      "/home/maldeghi/anaconda3/envs/rogi_py38/lib/python3.8/site-packages/sklearn/neural_network/_multilayer_perceptron.py:702: ConvergenceWarning: Stochastic Optimizer: Maximum iterations (200) reached and the optimization hasn't converged yet.\n",
      "  warnings.warn(\n",
      "/home/maldeghi/anaconda3/envs/rogi_py38/lib/python3.8/site-packages/sklearn/neural_network/_multilayer_perceptron.py:702: ConvergenceWarning: Stochastic Optimizer: Maximum iterations (200) reached and the optimization hasn't converged yet.\n",
      "  warnings.warn(\n",
      "/home/maldeghi/anaconda3/envs/rogi_py38/lib/python3.8/site-packages/sklearn/neural_network/_multilayer_perceptron.py:702: ConvergenceWarning: Stochastic Optimizer: Maximum iterations (200) reached and the optimization hasn't converged yet.\n",
      "  warnings.warn(\n"
     ]
    },
    {
     "name": "stdout",
     "output_type": "stream",
     "text": [
      "\n",
      "CHEMBL244_Ki\n",
      "  -->  KNN LR RF SVC MLP "
     ]
    },
    {
     "name": "stderr",
     "output_type": "stream",
     "text": [
      "/home/maldeghi/anaconda3/envs/rogi_py38/lib/python3.8/site-packages/sklearn/neural_network/_multilayer_perceptron.py:702: ConvergenceWarning: Stochastic Optimizer: Maximum iterations (200) reached and the optimization hasn't converged yet.\n",
      "  warnings.warn(\n",
      "/home/maldeghi/anaconda3/envs/rogi_py38/lib/python3.8/site-packages/sklearn/neural_network/_multilayer_perceptron.py:702: ConvergenceWarning: Stochastic Optimizer: Maximum iterations (200) reached and the optimization hasn't converged yet.\n",
      "  warnings.warn(\n",
      "/home/maldeghi/anaconda3/envs/rogi_py38/lib/python3.8/site-packages/sklearn/neural_network/_multilayer_perceptron.py:702: ConvergenceWarning: Stochastic Optimizer: Maximum iterations (200) reached and the optimization hasn't converged yet.\n",
      "  warnings.warn(\n",
      "/home/maldeghi/anaconda3/envs/rogi_py38/lib/python3.8/site-packages/sklearn/neural_network/_multilayer_perceptron.py:702: ConvergenceWarning: Stochastic Optimizer: Maximum iterations (200) reached and the optimization hasn't converged yet.\n",
      "  warnings.warn(\n",
      "/home/maldeghi/anaconda3/envs/rogi_py38/lib/python3.8/site-packages/sklearn/neural_network/_multilayer_perceptron.py:702: ConvergenceWarning: Stochastic Optimizer: Maximum iterations (200) reached and the optimization hasn't converged yet.\n",
      "  warnings.warn(\n"
     ]
    },
    {
     "name": "stdout",
     "output_type": "stream",
     "text": [
      "\n",
      "CHEMBL237_EC50\n",
      "  -->  KNN LR RF SVC MLP "
     ]
    },
    {
     "name": "stderr",
     "output_type": "stream",
     "text": [
      "/home/maldeghi/anaconda3/envs/rogi_py38/lib/python3.8/site-packages/sklearn/neural_network/_multilayer_perceptron.py:702: ConvergenceWarning: Stochastic Optimizer: Maximum iterations (200) reached and the optimization hasn't converged yet.\n",
      "  warnings.warn(\n",
      "/home/maldeghi/anaconda3/envs/rogi_py38/lib/python3.8/site-packages/sklearn/neural_network/_multilayer_perceptron.py:702: ConvergenceWarning: Stochastic Optimizer: Maximum iterations (200) reached and the optimization hasn't converged yet.\n",
      "  warnings.warn(\n",
      "/home/maldeghi/anaconda3/envs/rogi_py38/lib/python3.8/site-packages/sklearn/neural_network/_multilayer_perceptron.py:702: ConvergenceWarning: Stochastic Optimizer: Maximum iterations (200) reached and the optimization hasn't converged yet.\n",
      "  warnings.warn(\n",
      "/home/maldeghi/anaconda3/envs/rogi_py38/lib/python3.8/site-packages/sklearn/neural_network/_multilayer_perceptron.py:702: ConvergenceWarning: Stochastic Optimizer: Maximum iterations (200) reached and the optimization hasn't converged yet.\n",
      "  warnings.warn(\n",
      "/home/maldeghi/anaconda3/envs/rogi_py38/lib/python3.8/site-packages/sklearn/neural_network/_multilayer_perceptron.py:702: ConvergenceWarning: Stochastic Optimizer: Maximum iterations (200) reached and the optimization hasn't converged yet.\n",
      "  warnings.warn(\n"
     ]
    },
    {
     "name": "stdout",
     "output_type": "stream",
     "text": [
      "\n",
      "CHEMBL2047_EC50\n",
      "  -->  KNN LR RF SVC MLP "
     ]
    },
    {
     "name": "stderr",
     "output_type": "stream",
     "text": [
      "/home/maldeghi/anaconda3/envs/rogi_py38/lib/python3.8/site-packages/sklearn/neural_network/_multilayer_perceptron.py:702: ConvergenceWarning: Stochastic Optimizer: Maximum iterations (200) reached and the optimization hasn't converged yet.\n",
      "  warnings.warn(\n",
      "/home/maldeghi/anaconda3/envs/rogi_py38/lib/python3.8/site-packages/sklearn/neural_network/_multilayer_perceptron.py:702: ConvergenceWarning: Stochastic Optimizer: Maximum iterations (200) reached and the optimization hasn't converged yet.\n",
      "  warnings.warn(\n",
      "/home/maldeghi/anaconda3/envs/rogi_py38/lib/python3.8/site-packages/sklearn/neural_network/_multilayer_perceptron.py:702: ConvergenceWarning: Stochastic Optimizer: Maximum iterations (200) reached and the optimization hasn't converged yet.\n",
      "  warnings.warn(\n",
      "/home/maldeghi/anaconda3/envs/rogi_py38/lib/python3.8/site-packages/sklearn/neural_network/_multilayer_perceptron.py:702: ConvergenceWarning: Stochastic Optimizer: Maximum iterations (200) reached and the optimization hasn't converged yet.\n",
      "  warnings.warn(\n",
      "/home/maldeghi/anaconda3/envs/rogi_py38/lib/python3.8/site-packages/sklearn/neural_network/_multilayer_perceptron.py:702: ConvergenceWarning: Stochastic Optimizer: Maximum iterations (200) reached and the optimization hasn't converged yet.\n",
      "  warnings.warn(\n"
     ]
    },
    {
     "name": "stdout",
     "output_type": "stream",
     "text": [
      "\n",
      "CHEMBL1862_Ki\n",
      "  -->  KNN LR RF SVC MLP "
     ]
    },
    {
     "name": "stderr",
     "output_type": "stream",
     "text": [
      "/home/maldeghi/anaconda3/envs/rogi_py38/lib/python3.8/site-packages/sklearn/neural_network/_multilayer_perceptron.py:702: ConvergenceWarning: Stochastic Optimizer: Maximum iterations (200) reached and the optimization hasn't converged yet.\n",
      "  warnings.warn(\n",
      "/home/maldeghi/anaconda3/envs/rogi_py38/lib/python3.8/site-packages/sklearn/neural_network/_multilayer_perceptron.py:702: ConvergenceWarning: Stochastic Optimizer: Maximum iterations (200) reached and the optimization hasn't converged yet.\n",
      "  warnings.warn(\n",
      "/home/maldeghi/anaconda3/envs/rogi_py38/lib/python3.8/site-packages/sklearn/neural_network/_multilayer_perceptron.py:702: ConvergenceWarning: Stochastic Optimizer: Maximum iterations (200) reached and the optimization hasn't converged yet.\n",
      "  warnings.warn(\n",
      "/home/maldeghi/anaconda3/envs/rogi_py38/lib/python3.8/site-packages/sklearn/neural_network/_multilayer_perceptron.py:702: ConvergenceWarning: Stochastic Optimizer: Maximum iterations (200) reached and the optimization hasn't converged yet.\n",
      "  warnings.warn(\n",
      "/home/maldeghi/anaconda3/envs/rogi_py38/lib/python3.8/site-packages/sklearn/neural_network/_multilayer_perceptron.py:702: ConvergenceWarning: Stochastic Optimizer: Maximum iterations (200) reached and the optimization hasn't converged yet.\n",
      "  warnings.warn(\n"
     ]
    },
    {
     "name": "stdout",
     "output_type": "stream",
     "text": [
      "\n",
      "CHEMBL234_Ki\n",
      "  -->  KNN LR RF SVC MLP "
     ]
    },
    {
     "name": "stderr",
     "output_type": "stream",
     "text": [
      "/home/maldeghi/anaconda3/envs/rogi_py38/lib/python3.8/site-packages/sklearn/neural_network/_multilayer_perceptron.py:702: ConvergenceWarning: Stochastic Optimizer: Maximum iterations (200) reached and the optimization hasn't converged yet.\n",
      "  warnings.warn(\n",
      "/home/maldeghi/anaconda3/envs/rogi_py38/lib/python3.8/site-packages/sklearn/neural_network/_multilayer_perceptron.py:702: ConvergenceWarning: Stochastic Optimizer: Maximum iterations (200) reached and the optimization hasn't converged yet.\n",
      "  warnings.warn(\n",
      "/home/maldeghi/anaconda3/envs/rogi_py38/lib/python3.8/site-packages/sklearn/neural_network/_multilayer_perceptron.py:702: ConvergenceWarning: Stochastic Optimizer: Maximum iterations (200) reached and the optimization hasn't converged yet.\n",
      "  warnings.warn(\n",
      "/home/maldeghi/anaconda3/envs/rogi_py38/lib/python3.8/site-packages/sklearn/neural_network/_multilayer_perceptron.py:702: ConvergenceWarning: Stochastic Optimizer: Maximum iterations (200) reached and the optimization hasn't converged yet.\n",
      "  warnings.warn(\n",
      "/home/maldeghi/anaconda3/envs/rogi_py38/lib/python3.8/site-packages/sklearn/neural_network/_multilayer_perceptron.py:702: ConvergenceWarning: Stochastic Optimizer: Maximum iterations (200) reached and the optimization hasn't converged yet.\n",
      "  warnings.warn(\n"
     ]
    },
    {
     "name": "stdout",
     "output_type": "stream",
     "text": [
      "\n",
      "CHEMBL235_EC50\n",
      "  -->  KNN LR RF SVC MLP "
     ]
    },
    {
     "name": "stderr",
     "output_type": "stream",
     "text": [
      "/home/maldeghi/anaconda3/envs/rogi_py38/lib/python3.8/site-packages/sklearn/neural_network/_multilayer_perceptron.py:702: ConvergenceWarning: Stochastic Optimizer: Maximum iterations (200) reached and the optimization hasn't converged yet.\n",
      "  warnings.warn(\n",
      "/home/maldeghi/anaconda3/envs/rogi_py38/lib/python3.8/site-packages/sklearn/neural_network/_multilayer_perceptron.py:702: ConvergenceWarning: Stochastic Optimizer: Maximum iterations (200) reached and the optimization hasn't converged yet.\n",
      "  warnings.warn(\n"
     ]
    },
    {
     "name": "stdout",
     "output_type": "stream",
     "text": [
      "\n"
     ]
    },
    {
     "name": "stderr",
     "output_type": "stream",
     "text": [
      "/home/maldeghi/anaconda3/envs/rogi_py38/lib/python3.8/site-packages/sklearn/neural_network/_multilayer_perceptron.py:702: ConvergenceWarning: Stochastic Optimizer: Maximum iterations (200) reached and the optimization hasn't converged yet.\n",
      "  warnings.warn(\n",
      "/home/maldeghi/anaconda3/envs/rogi_py38/lib/python3.8/site-packages/sklearn/neural_network/_multilayer_perceptron.py:702: ConvergenceWarning: Stochastic Optimizer: Maximum iterations (200) reached and the optimization hasn't converged yet.\n",
      "  warnings.warn(\n",
      "/home/maldeghi/anaconda3/envs/rogi_py38/lib/python3.8/site-packages/sklearn/neural_network/_multilayer_perceptron.py:702: ConvergenceWarning: Stochastic Optimizer: Maximum iterations (200) reached and the optimization hasn't converged yet.\n",
      "  warnings.warn(\n"
     ]
    }
   ],
   "source": [
    "RESULTS['CHEMBL']['DESC'] = {}\n",
    "\n",
    "for csv_file in csv_files:\n",
    "    tag = csv_file.split('/')[-1].strip('.csv')\n",
    "    RESULTS['CHEMBL']['DESC'][tag] = {}\n",
    "    print(tag)\n",
    "\n",
    "    # load csv\n",
    "    data = pd.read_csv(csv_file, index_col=0)\n",
    "    # rm NaN entries\n",
    "    data = data.dropna()\n",
    "    smiles = data.loc[:, 'smiles']\n",
    "    # take log affinity\n",
    "    Y =  - np.log10(data.loc[:, 'exp_mean [nM]'].to_numpy() * 10 **(-9))\n",
    "    # binarize dataset\n",
    "    Y = binarize_dataset(Y, balance=0.5)\n",
    "    \n",
    "    RESULTS['CHEMBL']['DESC'][tag]['size'] = len(data)\n",
    "    \n",
    "    # descriptors\n",
    "    df_X = smiles_to_descriptors_df(smiles, descriptors=desc_names)\n",
    "    # normalize features (this involves some data leakage and slighly inflates performance, but it does not really matter here)\n",
    "    X = df_X.to_numpy()\n",
    "    _X = (X - X.min(axis=0)) / (X.max(axis=0) - X.min(axis=0))\n",
    "\n",
    "    # compute RI score\n",
    "    ri = RoughnessIndex(X=_X, Y=Y, metric='euclidean', verbose=False) \n",
    "    RESULTS['CHEMBL']['DESC'][tag]['rogi'] = ri.compute_index(min_dt=0.01)\n",
    "    \n",
    "    # compute MODI score\n",
    "    RESULTS['CHEMBL']['DESC'][tag]['modi'] = MODI(Dx=squareform(ri._Dx), Y=Y)\n",
    "\n",
    "    # test multiple ML models\n",
    "    print('  --> ', end=' ')\n",
    "    for model_name in models.keys():\n",
    "        print(f'{model_name}', end=' ')\n",
    "        model = models[model_name]\n",
    "        cv = KFold(n_splits=5, shuffle=True, random_state=42)\n",
    "        cv_results = cross_validate(model, _X, ri._Y, cv=cv, scoring=('accuracy', 'balanced_accuracy', 'roc_auc', 'f1', 'neg_mean_squared_error'), n_jobs=5)\n",
    "        RESULTS['CHEMBL']['DESC'][tag][model_name] = cv_results\n",
    "    print()"
   ]
  },
  {
   "cell_type": "code",
   "execution_count": 12,
   "id": "a7e88296",
   "metadata": {},
   "outputs": [],
   "source": [
    "with open('binarized_regression_results.pkl', 'wb') as f:\n",
    "    pickle.dump(RESULTS, f)"
   ]
  },
  {
   "cell_type": "code",
   "execution_count": 5,
   "id": "c188a00d",
   "metadata": {},
   "outputs": [],
   "source": [
    "with open('binarized_regression_results.pkl', 'rb') as f:\n",
    "    RESULTS = pickle.load(f)"
   ]
  },
  {
   "cell_type": "markdown",
   "id": "467d4fcd",
   "metadata": {},
   "source": [
    "## Plot results"
   ]
  },
  {
   "cell_type": "code",
   "execution_count": 6,
   "id": "54da2ab4-56ef-402c-b45f-2a4ce768070c",
   "metadata": {},
   "outputs": [
    {
     "data": {
      "image/png": "[encoded data removed]",
      "text/plain": [
       "<Figure size 828x396 with 10 Axes>"
      ]
     },
     "metadata": {},
     "output_type": "display_data"
    }
   ],
   "source": [
    "fig, axes = plt.subplots(nrows=2, ncols=5, figsize=(11.5, 5.5), sharey='row', sharex='row')\n",
    "colors = ['#DF9216','#d1495b','#00798c']\n",
    "\n",
    "METRIC = 'test_accuracy'\n",
    "s = 'rogi'    \n",
    "\n",
    "REPR = 'FPS'\n",
    "# --------------------\n",
    "# ZINC + FINGERPRINTS\n",
    "# --------------------\n",
    "DATASET = 'ZINC'\n",
    "nametags = RESULTS[DATASET][REPR].keys()\n",
    "scores = [RESULTS[DATASET][REPR][p][s] for p in nametags]\n",
    "for i, m in enumerate(models.keys()):\n",
    "    accuracy = np.array([np.mean(RESULTS[DATASET][REPR][p][m][METRIC]) for p in nametags])\n",
    "    plot_scatter(axes[0,i], scores, 1. - accuracy, title=f'$\\\\bf{m}$', marker='o', s=50, # size 50 = 2000 instances\n",
    "                 fit=True, fit_outline=False, fit_zorder=0, fit_lw=2,\n",
    "                 color=colors[0], edgecolor=colors[0], linewidth=1, alpha_face=0.4, alpha_edge=0.8,\n",
    "                 annotate=True, text_color=colors[0], x_text=0.37, y_text=0.9, dy_text=0.1, fontsize=10,\n",
    "                 zorder_scatter=5, label='')\n",
    "\n",
    "# -------------------\n",
    "# TDC + FINGERPRINTS\n",
    "# -------------------\n",
    "DATASET = 'TDC'\n",
    "nametags = RESULTS[DATASET][REPR].keys()\n",
    "scores = [RESULTS[DATASET][REPR][p][s] for p in nametags]\n",
    "sizes = [RESULTS[DATASET][REPR][p]['size'] for p in nametags]\n",
    "for i, m in enumerate(models.keys()):\n",
    "    accuracy = np.array([np.mean(RESULTS[DATASET][REPR][p][m][METRIC]) for p in nametags])\n",
    "    plot_scatter(axes[0,i], scores, 1. - accuracy, title=f'$\\\\bf{m}$', marker='o', s=[50 * s/2000 for s in sizes], \n",
    "                 fit=True, fit_outline=False, fit_zorder=0, fit_lw=2,\n",
    "                 color=colors[1], edgecolor=colors[1], linewidth=1, alpha_face=0.4, alpha_edge=0.8,\n",
    "                 annotate=True, text_color=colors[1], x_text=0.37, y_text=0.82, dy_text=0.1, fontsize=10,\n",
    "                 zorder_scatter=5, label='')\n",
    "    \n",
    "    \n",
    "# -------------------\n",
    "# TILBORG + FINGERPRINTS\n",
    "# -------------------\n",
    "DATASET = 'CHEMBL'\n",
    "nametags = RESULTS[DATASET][REPR].keys()\n",
    "scores = [RESULTS[DATASET][REPR][p][s] for p in nametags]\n",
    "sizes = [RESULTS[DATASET][REPR][p]['size'] for p in nametags]\n",
    "for i, m in enumerate(models.keys()):\n",
    "    accuracy = np.array([np.mean(RESULTS[DATASET][REPR][p][m][METRIC]) for p in nametags])\n",
    "    plot_scatter(axes[0,i], scores, 1. - accuracy, title=f'$\\\\bf{m}$', marker='o', s=[50 * s/2000 for s in sizes], \n",
    "                 fit=True, fit_outline=False, fit_zorder=0, fit_lw=2,\n",
    "                 color=colors[2], edgecolor=colors[2], linewidth=1, alpha_face=0.4, alpha_edge=0.8,\n",
    "                 annotate=True, text_color=colors[2], x_text=0.37, y_text=0.74, dy_text=0.1, fontsize=10,\n",
    "                 zorder_scatter=5, label='')\n",
    "    \n",
    "    \n",
    "REPR = 'DESC'\n",
    "# --------------------\n",
    "# ZINC + DESCRIPTORS\n",
    "# --------------------\n",
    "DATASET = 'ZINC'\n",
    "nametags = RESULTS[DATASET][REPR].keys()\n",
    "scores = [RESULTS[DATASET][REPR][p][s] for p in nametags]\n",
    "for i, m in enumerate(models.keys()):\n",
    "    accuracy = np.array([np.mean(RESULTS[DATASET][REPR][p][m][METRIC]) for p in nametags])\n",
    "    plot_scatter(axes[1,i], scores, 1. - accuracy, title='', marker='o', s=50, \n",
    "                 fit=True, fit_outline=False, fit_zorder=0, fit_lw=2,\n",
    "                 color=colors[0], edgecolor=colors[0], linewidth=1, alpha_face=0.4, alpha_edge=0.8,\n",
    "                 annotate=True, text_color=colors[0], x_text=0.37, y_text=0.9, dy_text=0.1, fontsize=10,\n",
    "                 zorder_scatter=5, label='')\n",
    "\n",
    "# -------------------\n",
    "# TDC + DESCRIPTORS\n",
    "# -------------------\n",
    "DATASET = 'TDC'\n",
    "nametags = RESULTS[DATASET][REPR].keys()\n",
    "scores = [RESULTS[DATASET][REPR][p][s] for p in nametags]\n",
    "sizes = [RESULTS[DATASET][REPR][p]['size'] for p in nametags]\n",
    "for i, m in enumerate(models.keys()):\n",
    "    accuracy = np.array([np.mean(RESULTS[DATASET][REPR][p][m][METRIC]) for p in nametags])\n",
    "    plot_scatter(axes[1,i], scores, 1. - accuracy, title='', marker='o', s=[50 * s/2000 for s in sizes], \n",
    "                 fit=True, fit_outline=False, fit_zorder=0, fit_lw=2,\n",
    "                 color=colors[1], edgecolor=colors[1], linewidth=1, alpha_face=0.4, alpha_edge=0.8,\n",
    "                 annotate=True, text_color=colors[1], x_text=0.37, y_text=0.82, dy_text=0.1, fontsize=10,\n",
    "                 zorder_scatter=5, label='')\n",
    "    \n",
    "    \n",
    "# -------------------\n",
    "# TILBORG + DESCRIPTORS\n",
    "# -------------------\n",
    "DATASET = 'CHEMBL'\n",
    "nametags = RESULTS[DATASET][REPR].keys()\n",
    "scores = [RESULTS[DATASET][REPR][p][s] for p in nametags]\n",
    "sizes = [RESULTS[DATASET][REPR][p]['size'] for p in nametags]\n",
    "for i, m in enumerate(models.keys()):\n",
    "    accuracy = np.array([np.mean(RESULTS[DATASET][REPR][p][m][METRIC]) for p in nametags])\n",
    "    plot_scatter(axes[1,i], scores, 1. - accuracy, title='', marker='o', s=[50 * s/2000 for s in sizes], \n",
    "                 fit=True, fit_outline=False, fit_zorder=0, fit_lw=2,\n",
    "                 color=colors[2], edgecolor=colors[2], linewidth=1, alpha_face=0.4, alpha_edge=0.8,\n",
    "                 annotate=True, text_color=colors[2], x_text=0.37, y_text=0.74, dy_text=0.1, fontsize=10,\n",
    "                 zorder_scatter=5, label='')\n",
    "    \n",
    "    \n",
    "# Fix labels, ticks, etc.\n",
    "axes[0,0].set_ylabel('$\\\\bf{Fingerprints}$\\n$1-$ Accuracy')\n",
    "axes[1,0].set_ylabel('$\\\\bf{Descriptors}$\\n$1-$ Accuracy')\n",
    "\n",
    "for i in range(2):\n",
    "    for j in range(5):\n",
    "        axes[i,j].set_xlabel(\"Roughness Index\")\n",
    "        axes[i,j].set_xlabel(\"Roughness Index\")\n",
    "\n",
    "\n",
    "# legend\n",
    "ms = 8\n",
    "legend_elements = [Line2D([0], [0], marker='o', linestyle='None', color=colors[0], label='ZINC+GuacaMol', markerfacecolor=colors[0], markersize=ms),\n",
    "                   Line2D([0], [0], marker='o', linestyle='None', color=colors[1], label='TDC', markerfacecolor=colors[1], markersize=ms),\n",
    "                   Line2D([0], [0], marker='o', linestyle='None', color=colors[2], label='ChEMBL', markerfacecolor=colors[2], markersize=ms)]\n",
    "\n",
    "#fig.legend(handles=legend_elements, loc='upper center', ncol=3, bbox_to_anchor=(0.5, -0.2), frameon=False)\n",
    "lgd = fig.legend(handles=legend_elements, loc='lower center', ncol=3, handletextpad=0.1,\n",
    "                 bbox_to_anchor=(0.5, -0.05), frameon=False, bbox_transform=fig.transFigure)\n",
    "\n",
    "plt.tight_layout()\n",
    "fig.savefig(f'plots/binarized_regression-{s}.pdf', bbox_inches='tight')\n",
    "fig.savefig(f'plots/binarized_regression-{s}.png', dpi=600, bbox_inches='tight')"
   ]
  },
  {
   "cell_type": "code",
   "execution_count": 7,
   "id": "2e0ba134-fbbe-42d6-9cab-15d2a73a2766",
   "metadata": {},
   "outputs": [
    {
     "data": {
      "image/png": "[encoded data removed]",
      "text/plain": [
       "<Figure size 828x396 with 10 Axes>"
      ]
     },
     "metadata": {},
     "output_type": "display_data"
    }
   ],
   "source": [
    "fig, axes = plt.subplots(nrows=2, ncols=5, figsize=(11.5, 5.5), sharey='row', sharex='row')\n",
    "colors = ['#DF9216','#d1495b','#00798c']\n",
    "\n",
    "METRIC = 'test_accuracy'\n",
    "s = 'modi'\n",
    "    \n",
    "\n",
    "REPR = 'FPS'\n",
    "# --------------------\n",
    "# ZINC + FINGERPRINTS\n",
    "# --------------------\n",
    "DATASET = 'ZINC'\n",
    "nametags = RESULTS[DATASET][REPR].keys()\n",
    "scores = [RESULTS[DATASET][REPR][p][s] for p in nametags]\n",
    "for i, m in enumerate(models.keys()):\n",
    "    accuracy = np.array([np.mean(RESULTS[DATASET][REPR][p][m][METRIC]) for p in nametags])\n",
    "    plot_scatter(axes[0,i], scores, accuracy, title=f'$\\\\bf{m}$', marker='o', s=50, # size 50 = 2000 instances\n",
    "                 fit=True, fit_outline=False, fit_zorder=0, fit_lw=2,\n",
    "                 color=colors[0], edgecolor=colors[0], linewidth=1, alpha_face=0.4, alpha_edge=0.8,\n",
    "                 annotate=True, text_color=colors[0], x_text=0.37, y_text=0.9, dy_text=0.1, fontsize=10,\n",
    "                 zorder_scatter=5, label='')\n",
    "\n",
    "# -------------------\n",
    "# TDC + FINGERPRINTS\n",
    "# -------------------\n",
    "DATASET = 'TDC'\n",
    "nametags = RESULTS[DATASET][REPR].keys()\n",
    "scores = [RESULTS[DATASET][REPR][p][s] for p in nametags]\n",
    "sizes = [RESULTS[DATASET][REPR][p]['size'] for p in nametags]\n",
    "for i, m in enumerate(models.keys()):\n",
    "    accuracy = np.array([np.mean(RESULTS[DATASET][REPR][p][m][METRIC]) for p in nametags])\n",
    "    plot_scatter(axes[0,i], scores, accuracy, title=f'$\\\\bf{m}$', marker='o', s=[50 * s/2000 for s in sizes], \n",
    "                 fit=True, fit_outline=False, fit_zorder=0, fit_lw=2,\n",
    "                 color=colors[1], edgecolor=colors[1], linewidth=1, alpha_face=0.4, alpha_edge=0.8,\n",
    "                 annotate=True, text_color=colors[1], x_text=0.37, y_text=0.82, dy_text=0.1, fontsize=10,\n",
    "                 zorder_scatter=5, label='')\n",
    "    \n",
    "    \n",
    "# -------------------\n",
    "# TILBORG + FINGERPRINTS\n",
    "# -------------------\n",
    "DATASET = 'CHEMBL'\n",
    "nametags = RESULTS[DATASET][REPR].keys()\n",
    "scores = [RESULTS[DATASET][REPR][p][s] for p in nametags]\n",
    "sizes = [RESULTS[DATASET][REPR][p]['size'] for p in nametags]\n",
    "for i, m in enumerate(models.keys()):\n",
    "    accuracy = np.array([np.mean(RESULTS[DATASET][REPR][p][m][METRIC]) for p in nametags])\n",
    "    plot_scatter(axes[0,i], scores, accuracy, title=f'$\\\\bf{m}$', marker='o', s=[50 * s/2000 for s in sizes], \n",
    "                 fit=True, fit_outline=False, fit_zorder=0, fit_lw=2,\n",
    "                 color=colors[2], edgecolor=colors[2], linewidth=1, alpha_face=0.4, alpha_edge=0.8,\n",
    "                 annotate=True, text_color=colors[2], x_text=0.37, y_text=0.74, dy_text=0.1, fontsize=10,\n",
    "                 zorder_scatter=5, label='')\n",
    "    \n",
    "    \n",
    "REPR = 'DESC'\n",
    "# --------------------\n",
    "# ZINC + DESCRIPTORS\n",
    "# --------------------\n",
    "DATASET = 'ZINC'\n",
    "nametags = RESULTS[DATASET][REPR].keys()\n",
    "scores = [RESULTS[DATASET][REPR][p][s] for p in nametags]\n",
    "for i, m in enumerate(models.keys()):\n",
    "    accuracy = np.array([np.mean(RESULTS[DATASET][REPR][p][m][METRIC]) for p in nametags])\n",
    "    plot_scatter(axes[1,i], scores, accuracy, title='', marker='o', s=50, \n",
    "                 fit=True, fit_outline=False, fit_zorder=0, fit_lw=2,\n",
    "                 color=colors[0], edgecolor=colors[0], linewidth=1, alpha_face=0.4, alpha_edge=0.8,\n",
    "                 annotate=True, text_color=colors[0], x_text=0.37, y_text=0.9, dy_text=0.1, fontsize=10,\n",
    "                 zorder_scatter=5, label='')\n",
    "\n",
    "# -------------------\n",
    "# TDC + DESCRIPTORS\n",
    "# -------------------\n",
    "DATASET = 'TDC'\n",
    "nametags = RESULTS[DATASET][REPR].keys()\n",
    "scores = [RESULTS[DATASET][REPR][p][s] for p in nametags]\n",
    "sizes = [RESULTS[DATASET][REPR][p]['size'] for p in nametags]\n",
    "for i, m in enumerate(models.keys()):\n",
    "    accuracy = np.array([np.mean(RESULTS[DATASET][REPR][p][m][METRIC]) for p in nametags])\n",
    "    plot_scatter(axes[1,i], scores, accuracy, title='', marker='o', s=[50 * s/2000 for s in sizes], \n",
    "                 fit=True, fit_outline=False, fit_zorder=0, fit_lw=2,\n",
    "                 color=colors[1], edgecolor=colors[1], linewidth=1, alpha_face=0.4, alpha_edge=0.8,\n",
    "                 annotate=True, text_color=colors[1], x_text=0.37, y_text=0.82, dy_text=0.1, fontsize=10,\n",
    "                 zorder_scatter=5, label='')\n",
    "    \n",
    "    \n",
    "# -------------------\n",
    "# TILBORG + DESCRIPTORS\n",
    "# -------------------\n",
    "DATASET = 'CHEMBL'\n",
    "nametags = RESULTS[DATASET][REPR].keys()\n",
    "scores = [RESULTS[DATASET][REPR][p][s] for p in nametags]\n",
    "sizes = [RESULTS[DATASET][REPR][p]['size'] for p in nametags]\n",
    "for i, m in enumerate(models.keys()):\n",
    "    accuracy = np.array([np.mean(RESULTS[DATASET][REPR][p][m][METRIC]) for p in nametags])\n",
    "    plot_scatter(axes[1,i], scores, accuracy, title='', marker='o', s=[50 * s/2000 for s in sizes], \n",
    "                 fit=True, fit_outline=False, fit_zorder=0, fit_lw=2,\n",
    "                 color=colors[2], edgecolor=colors[2], linewidth=1, alpha_face=0.4, alpha_edge=0.8,\n",
    "                 annotate=True, text_color=colors[2], x_text=0.37, y_text=0.74, dy_text=0.1, fontsize=10,\n",
    "                 zorder_scatter=5, label='')\n",
    "    \n",
    "    \n",
    "# Fix labels, ticks, etc.\n",
    "axes[0,0].set_ylabel('$\\\\bf{Fingerprints}$\\nAccuracy')\n",
    "axes[1,0].set_ylabel('$\\\\bf{Descriptors}$\\nAccuracy')\n",
    "\n",
    "for i in range(2):\n",
    "    for j in range(5):\n",
    "        axes[i,j].set_xlabel(s.upper())\n",
    "        axes[i,j].set_xlabel(s.upper())\n",
    "\n",
    "\n",
    "# legend\n",
    "ms = 8\n",
    "legend_elements = [Line2D([0], [0], marker='o', linestyle='None', color=colors[0], label='ZINC+GuacaMol', markerfacecolor=colors[0], markersize=ms),\n",
    "                   Line2D([0], [0], marker='o', linestyle='None', color=colors[1], label='TDC', markerfacecolor=colors[1], markersize=ms),\n",
    "                   Line2D([0], [0], marker='o', linestyle='None', color=colors[2], label='ChEMBL', markerfacecolor=colors[2], markersize=ms)]\n",
    "\n",
    "#fig.legend(handles=legend_elements, loc='upper center', ncol=3, bbox_to_anchor=(0.5, -0.2), frameon=False)\n",
    "lgd = fig.legend(handles=legend_elements, loc='lower center', ncol=3, handletextpad=0.1,\n",
    "                 bbox_to_anchor=(0.5, -0.05), frameon=False, bbox_transform=fig.transFigure)\n",
    "\n",
    "plt.tight_layout()\n",
    "fig.savefig(f'plots/binarized_regression-{s}.pdf', bbox_inches='tight')\n",
    "fig.savefig(f'plots/binarized_regression-{s}.png', dpi=600, bbox_inches='tight')"
   ]
  },
  {
   "cell_type": "code",
   "execution_count": null,
   "id": "12696667",
   "metadata": {},
   "outputs": [],
   "source": []
  }
 ],
 "metadata": {
  "interpreter": {
   "hash": "274ce0299d1189910790ef7dc2c8fec18777a39c83d9d451469d235f38a4a6f9"
  },
  "kernelspec": {
   "display_name": "Python 3.8.13 ('rogi_py38')",
   "language": "python",
   "name": "python3"
  },
  "language_info": {
   "codemirror_mode": {
    "name": "ipython",
    "version": 3
   },
   "file_extension": ".py",
   "mimetype": "text/x-python",
   "name": "python",
   "nbconvert_exporter": "python",
   "pygments_lexer": "ipython3",
   "version": "3.8.13"
  }
 },
 "nbformat": 4,
 "nbformat_minor": 5
}
